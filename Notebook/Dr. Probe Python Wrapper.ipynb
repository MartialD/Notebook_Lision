{
 "cells": [
  {
   "cell_type": "markdown",
   "metadata": {},
   "source": [
    "Dr. Probe Python Wrapper.ipynb contains multislice simulation code for LACBED and unfinished multislice template matching code"
   ]
  },
  {
   "cell_type": "code",
   "execution_count": 1,
   "metadata": {},
   "outputs": [],
   "source": [
    "import os"
   ]
  },
  {
   "cell_type": "code",
   "execution_count": 2,
   "metadata": {},
   "outputs": [],
   "source": [
    "#Change operating directory to where the CLT is\n",
    "os.chdir('./DrProbeCLT-Winx64')"
   ]
  },
  {
   "cell_type": "code",
   "execution_count": 1,
   "metadata": {},
   "outputs": [],
   "source": [
    "# Import necesary packages \n",
    "import numpy as np\n",
    "import matplotlib.pyplot as plt\n",
    "import drprobe as drp\n",
    "import math\n",
    "from itertools import product \n",
    "from time import time\n",
    "from scipy import ndimage\n",
    "%matplotlib qt"
   ]
  },
  {
   "cell_type": "code",
   "execution_count": 57,
   "metadata": {},
   "outputs": [],
   "source": [
    "# Set up phase gratings\n",
    "nx=540\n",
    "ny=243\n",
    "nz = 6"
   ]
  },
  {
   "cell_type": "code",
   "execution_count": 4,
   "metadata": {},
   "outputs": [],
   "source": [
    "#Projection of new cell in desired zone axis\n",
    "prj=(0,1,0,1,0,3,6.35674,6.35674,0.895) #First 3 numbers=Projection in x-axis. Following 3=Projection in y-axis. Last 3=new supercell size\n",
    "tla=(0,0,0) #Tilting multiplication along x,y,z for discretisation purpose"
   ]
  },
  {
   "cell_type": "code",
   "execution_count": 5,
   "metadata": {
    "scrolled": true
   },
   "outputs": [
    {
     "name": "stdout",
     "output_type": "stream",
     "text": [
      "Performed celslc with the following command:\n",
      " celslc -cif C:/Users/cqred/OneDrive/Documents/NTU/Y3S2/Project/drprobe_python_wrapper/pigeonite.cif  -slc pigeonite -nx 512 -ny 512 -nz 6 -ht 300 -rti -prj 0, 1, 0, 1, 0, 3, 6.35674, 6.35674, 0.895 -tla 0, 0, 0\n",
      "\r\n",
      " +---------------------------------------------------+\r\n",
      " | Program [celslc]                                  |\r\n",
      " | Version: 1.0.3 64-bit  -  2020 August 12          |\r\n",
      " | Author : Dr. J. Barthel, ju.barthel@fz-juelich.de |\r\n",
      " |          Forschungszentrum Juelich GmbH, GERMANY  |\r\n",
      " | License: GNU GPL 3 <http://www.gnu.org/licenses/> |\r\n",
      " +---------------------------------------------------+\r\n",
      "\r\n",
      " CELSLC parameters\r\n",
      "  -cel <string> = CEL structure file (e.g. \"atoms.cel\")\r\n",
      "  -cif <string> = CIF structure file (e.g. \"atoms.cif\")\r\n",
      "  -ht <number>  = electron energy in keV (10 ... 1300)\r\n",
      "  -nx <number>  = horizontal cell sampling (32 ... 8192)\r\n",
      "  -ny <number>  = vertical cell sampling (32 ... 8192)\r\n",
      "  -slc <string> = slice file name (e.g. \"scl\")\r\n",
      " [-abf <number> = apply fix rel. absorption factor]\r\n",
      " [-abs         -> apply built-in absorption factors]\r\n",
      " [-dwf         -> apply Debye-Waller factors]\r\n",
      " [-fl          -> frozen-lattice simulation]\r\n",
      " [-nv <number>  = number of FL variants per slice (1 ... 8192)]\r\n",
      " [-nz <number>  = number of equidistant slices (0 ... 8192)]\r\n",
      " [-pot         -> export potentials to files *.pot]\r\n",
      " [-pps         -> output projected potentials to slice files]\r\n",
      " [-prj <u,v,w,u,v,w,a,b,c> = super-cell re-orientation]\r\n",
      " [-rev         -> slicing in reversed sequence]\r\n",
      " [-ssc <number> = single slice calculation]\r\n",
      " [-tla <x,y,z>  = additional shift of atoms]\r\n",
      " [] = optional parameters\r\n",
      "\r\n",
      "Critical error: Failed to read 9 orientation and size parameters.\r\n",
      "\n"
     ]
    }
   ],
   "source": [
    "#Celslc to orient cif file in desired zone axis. Notice=This function never works because of the space sent to the CLT from the prj variable. It is automatically assigned by the wrapper.\n",
    "drp.commands.celslc(cel_file='./pigeonite.cif', # location of cel/cif file\n",
    "                    slice_name='pigeonite', # target file names\n",
    "                    ht=300,       # high tension\n",
    "                    nx=512,        # number of sampling points along x\n",
    "                    ny=512,        # number of sampling points along y\n",
    "                    nz=6,        # number of sampling points along z (number of slices)\n",
    "                    absorb=False,  # apply absorptive form factors\n",
    "                    dwf=False,     # apply Debye-Waller factors\n",
    "                    fl=False,\n",
    "                    output=True,  # Command line output (prints executed command)\n",
    "                    pot=False,      # Saves potentials\n",
    "                    prj=prj,\n",
    "                    tla=tla,\n",
    "                    rti=True\n",
    "                   )"
   ]
  },
  {
   "cell_type": "code",
   "execution_count": 59,
   "metadata": {},
   "outputs": [],
   "source": [
    "# Display potentials\n",
    "slc_1 = np.fromfile('C:/Users/cqred/Documents/slc/pigeonite2_001.pot', dtype='complex64').reshape((nx, ny))\n",
    "slc_2 = np.fromfile('C:/Users/cqred/Documents/slc/pigeonite2_002.pot', dtype='complex64').reshape((nx, ny))\n",
    "slc_3 = np.fromfile('C:/Users/cqred/Documents/slc/pigeonite2_003.pot', dtype='complex64').reshape((nx, ny))\n",
    "slc_4 = np.fromfile('C:/Users/cqred/Documents/slc/pigeonite2_004.pot', dtype='complex64').reshape((nx, ny))\n",
    "slc_5 = np.fromfile('C:/Users/cqred/Documents/slc/pigeonite2_005.pot', dtype='complex64').reshape((nx, ny))\n",
    "slc_6 = np.fromfile('C:/Users/cqred/Documents/slc/pigeonite2_006.pot', dtype='complex64').reshape((nx, ny))"
   ]
  },
  {
   "cell_type": "code",
   "execution_count": 70,
   "metadata": {},
   "outputs": [
    {
     "data": {
      "text/plain": [
       "Text(0.5, 1.0, 'Slice 6')"
      ]
     },
     "execution_count": 70,
     "metadata": {},
     "output_type": "execute_result"
    }
   ],
   "source": [
    "fig, axs = plt.subplots(1, 6, figsize=(25, 15))\n",
    "axs[0].imshow(np.real(slc_1))\n",
    "axs[1].imshow(np.real(slc_2))\n",
    "axs[2].imshow(np.real(slc_3))\n",
    "axs[3].imshow(np.real(slc_4))\n",
    "axs[4].imshow(np.real(slc_5))\n",
    "axs[5].imshow(np.real(slc_6))\n",
    "axs[0].set_title('Slice 1')\n",
    "axs[1].set_title('Slice 2')\n",
    "axs[2].set_title('Slice 3')\n",
    "axs[3].set_title('Slice 4')\n",
    "axs[4].set_title('Slice 5')\n",
    "axs[5].set_title('Slice 6')"
   ]
  },
  {
   "cell_type": "code",
   "execution_count": null,
   "metadata": {},
   "outputs": [],
   "source": []
  },
  {
   "cell_type": "code",
   "execution_count": 48,
   "metadata": {},
   "outputs": [
    {
     "data": {
      "text/plain": [
       "array([ 50,  55,  60,  65,  70,  75,  80,  85,  90,  95, 100, 105, 110,\n",
       "       115, 120, 125, 130, 135, 140, 145, 150])"
      ]
     },
     "execution_count": 48,
     "metadata": {},
     "output_type": "execute_result"
    }
   ],
   "source": [
    "#Set thickness list\n",
    "thickness_list=np.arange(50,151,5)\n",
    "for i,th in enumerate(thickness_list):\n",
    "    slc_list=thickness_list\n",
    "    slc_list[i]=math.floor(thickness_list[i]/(0.895/6))\n",
    "thickness_list=np.arange(50,151,5)\n",
    "thickness_list"
   ]
  },
  {
   "cell_type": "code",
   "execution_count": 29,
   "metadata": {},
   "outputs": [
    {
     "name": "stdout",
     "output_type": "stream",
     "text": [
      "-1.0 -1.0\n",
      "-1.0 -0.8\n",
      "-1.0 -0.6\n",
      "-1.0 -0.4\n",
      "-1.0 -0.2\n",
      "-1.0 0.0\n",
      "-1.0 0.2\n",
      "-1.0 0.4\n",
      "-1.0 0.6\n",
      "-1.0 0.8\n",
      "-1.0 1.0\n",
      "-0.8 -1.0\n",
      "-0.8 -0.8\n",
      "-0.8 -0.6\n",
      "-0.8 -0.4\n",
      "-0.8 -0.2\n",
      "-0.8 0.0\n",
      "-0.8 0.2\n",
      "-0.8 0.4\n",
      "-0.8 0.6\n",
      "-0.8 0.8\n",
      "-0.8 1.0\n",
      "-0.6 -1.0\n",
      "-0.6 -0.8\n",
      "-0.6 -0.6\n",
      "-0.6 -0.4\n",
      "-0.6 -0.2\n",
      "-0.6 0.0\n",
      "-0.6 0.2\n",
      "-0.6 0.4\n",
      "-0.6 0.6\n",
      "-0.6 0.8\n",
      "-0.6 1.0\n",
      "-0.4 -1.0\n",
      "-0.4 -0.8\n",
      "-0.4 -0.6\n",
      "-0.4 -0.4\n",
      "-0.4 -0.2\n",
      "-0.4 0.0\n",
      "-0.4 0.2\n",
      "-0.4 0.4\n",
      "-0.4 0.6\n",
      "-0.4 0.8\n",
      "-0.4 1.0\n",
      "-0.2 -1.0\n",
      "-0.2 -0.8\n",
      "-0.2 -0.6\n",
      "-0.2 -0.4\n",
      "-0.2 -0.2\n",
      "-0.2 0.0\n",
      "-0.2 0.2\n",
      "-0.2 0.4\n",
      "-0.2 0.6\n",
      "-0.2 0.8\n",
      "-0.2 1.0\n",
      "0.0 -1.0\n",
      "0.0 -0.8\n",
      "0.0 -0.6\n",
      "0.0 -0.4\n",
      "0.0 -0.2\n",
      "0.0 0.0\n",
      "0.0 0.2\n",
      "0.0 0.4\n",
      "0.0 0.6\n",
      "0.0 0.8\n",
      "0.0 1.0\n",
      "0.2 -1.0\n",
      "0.2 -0.8\n",
      "0.2 -0.6\n",
      "0.2 -0.4\n",
      "0.2 -0.2\n",
      "0.2 0.0\n",
      "0.2 0.2\n",
      "0.2 0.4\n",
      "0.2 0.6\n",
      "0.2 0.8\n",
      "0.2 1.0\n",
      "0.4 -1.0\n",
      "0.4 -0.8\n",
      "0.4 -0.6\n",
      "0.4 -0.4\n",
      "0.4 -0.2\n",
      "0.4 0.0\n",
      "0.4 0.2\n",
      "0.4 0.4\n",
      "0.4 0.6\n",
      "0.4 0.8\n",
      "0.4 1.0\n",
      "0.6 -1.0\n",
      "0.6 -0.8\n",
      "0.6 -0.6\n",
      "0.6 -0.4\n",
      "0.6 -0.2\n",
      "0.6 0.0\n",
      "0.6 0.2\n",
      "0.6 0.4\n",
      "0.6 0.6\n",
      "0.6 0.8\n",
      "0.6 1.0\n",
      "0.8 -1.0\n",
      "0.8 -0.8\n",
      "0.8 -0.6\n",
      "0.8 -0.4\n",
      "0.8 -0.2\n",
      "0.8 0.0\n",
      "0.8 0.2\n",
      "0.8 0.4\n",
      "0.8 0.6\n",
      "0.8 0.8\n",
      "0.8 1.0\n",
      "1.0 -1.0\n",
      "1.0 -0.8\n",
      "1.0 -0.6\n",
      "1.0 -0.4\n",
      "1.0 -0.2\n",
      "1.0 0.0\n",
      "1.0 0.2\n",
      "1.0 0.4\n",
      "1.0 0.6\n",
      "1.0 0.8\n",
      "1.0 1.0\n"
     ]
    }
   ],
   "source": [
    "#List of tilting angle\n",
    "tilt_list=np.linspace(-1,1,11,dtype='float32')\n",
    "tilt_list=list(product(tilt_list,repeat=2))\n",
    "for tilt in tilt_list:\n",
    "    print(tilt[0],tilt[1])"
   ]
  },
  {
   "cell_type": "code",
   "execution_count": 56,
   "metadata": {},
   "outputs": [
    {
     "data": {
      "text/plain": [
       "['C:/Users/cqred/Documents/pigeonite010/slc2/pigeonite010',\n",
       " 'C:/Users/cqred/Documents/augite010/slc2/augite010']"
      ]
     },
     "execution_count": 56,
     "metadata": {},
     "output_type": "execute_result"
    }
   ],
   "source": [
    "#Directory of slices, to be used later\n",
    "pigeonite010_dir='C:/Users/cqred/Documents/pigeonite010/slc2/pigeonite010'\n",
    "augite010_dir='C:/Users/cqred/Documents/augite010/slc2/augite010'\n",
    "slcdirectory=[pigeonite010_dir,augite010_dir]\n",
    "slcdirectory"
   ]
  },
  {
   "cell_type": "code",
   "execution_count": 58,
   "metadata": {
    "scrolled": true
   },
   "outputs": [
    {
     "data": {
      "text/plain": [
       "['C:/Users/cqred/Documents/pigeonite010/msa/',\n",
       " 'C:/Users/cqred/Documents/augite010/msa/']"
      ]
     },
     "execution_count": 58,
     "metadata": {},
     "output_type": "execute_result"
    }
   ],
   "source": [
    "#MSA directory,but without the msa.prm\n",
    "pigeonite010_savedir='C:/Users/cqred/Documents/pigeonite010/msa/'\n",
    "augite010_savedir='C:/Users/cqred/Documents/augite010/msa/'\n",
    "savedirectory=[pigeonite010_savedir,augite010_savedir]\n",
    "savedirectory"
   ]
  },
  {
   "cell_type": "code",
   "execution_count": 31,
   "metadata": {},
   "outputs": [],
   "source": [
    "# Create Parameter file for multislice\n",
    "msa = drp.msaprm.MsaPrm()"
   ]
  },
  {
   "cell_type": "code",
   "execution_count": 60,
   "metadata": {},
   "outputs": [
    {
     "name": "stdout",
     "output_type": "stream",
     "text": [
      "Parameters successfully saved to file 'C:/Users/cqred/Documents/pigeonite010/msa/msa_10nm_x0.0,y0.0.prm'!\n",
      "Parameters successfully saved to file 'C:/Users/cqred/Documents/augite010/msa/msa_10nm_x0.0,y0.0.prm'!\n"
     ]
    }
   ],
   "source": [
    "# Setup (fundamental) MSA parameters\n",
    "for savedir,slcdir in zip(savedirectory,slcdirectory):\n",
    "    for slices,th in zip(slc_list,thickness_list):\n",
    "        for tilt in tilt_list:\n",
    "            msa.conv_semi_angle=3.0 #Convergence beam semi-angle\n",
    "            msa.inner_radius_ann_det=0\n",
    "            msa.outer_radius_ann_det=100\n",
    "            msa.detector=0,'0'\n",
    "            msa.wavelength = 0.001969  # wavelength (in nm) for 300 keV electrons\n",
    "            msa.source_radius=0.4 #HWHM source profile radius\n",
    "            msa.focus_spread=3\n",
    "            msa.focus_spread_kernel_hw=2\n",
    "            msa.focus_spread_kernel_size=7\n",
    "            msa.number_of_aber=0\n",
    "            msa.tilt_x=tilt[0] #Tilting angle in x-axis\n",
    "            msa.tilt_y=tilt[1] #Tilting angle in y-axis\n",
    "            msa.h_scan_offset=0\n",
    "            msa.v_scan_offset=0\n",
    "            msa.h_scan_frame_size=1\n",
    "            msa.v_scan_frame_size=1\n",
    "            msa.scan_frame_rot=0\n",
    "            msa.scan_columns=1\n",
    "            msa.scan_rows=1\n",
    "            msa.spat_coherence_flag=1\n",
    "            msa.super_cell_x=1\n",
    "            msa.super_cell_y=1\n",
    "            msa.slice_files =slcdir # location of phase gratings\n",
    "            msa.number_of_slices =6 # Number of slices in phase gratings\n",
    "            msa.number_frozen_lattice=50\n",
    "            msa.min_num_frozen=1\n",
    "            msa.det_readout_period =0 # Readout at max thickness only\n",
    "            msa.tot_number_of_slices=slices # indicate thickness\n",
    "            msa.save_msa_prm(savedir+'msa_'+str(th)+'nm_x'+str(tilt[0])+',y'+str(tilt[1])+'.prm',output=True)"
   ]
  },
  {
   "cell_type": "code",
   "execution_count": 1,
   "metadata": {
    "scrolled": true
   },
   "outputs": [
    {
     "data": {
      "text/plain": [
       "['pigeonite010', 'augite010']"
      ]
     },
     "execution_count": 1,
     "metadata": {},
     "output_type": "execute_result"
    }
   ],
   "source": [
    "phase=['pigeonite010','augite010']\n",
    "phase"
   ]
  },
  {
   "cell_type": "code",
   "execution_count": 63,
   "metadata": {},
   "outputs": [
    {
     "data": {
      "text/plain": [
       "'Simulation time: 3.18s'"
      ]
     },
     "execution_count": 63,
     "metadata": {},
     "output_type": "execute_result"
    }
   ],
   "source": [
    "#Execute library of multislice\n",
    "tic=time()\n",
    "for phase,savedir in zip(phase,savedirectory):\n",
    "    for th in thickness_list:\n",
    "        for tilt in tilt_list:\n",
    "            drp.commands.msa(prm_file=savedir+'msa_'+str(th)+'nm_x'+str(tilt[0])+',y'+str(tilt[1])+'.prm', \n",
    "                             output_file='C:/Users/cqred/Documents/'+phase+'/output/'+phase+'_'+str(th)+'nm_x'+str(tilt[0])+',y'+str(tilt[1])+'.dat',\n",
    "                             padif=True,\n",
    "                             output=False)\n",
    "'Simulation time: %.2fs'%(time()-tic)"
   ]
  },
  {
   "cell_type": "code",
   "execution_count": 9,
   "metadata": {},
   "outputs": [],
   "source": [
    "#function to crop np array\n",
    "def crop_center(img,cropx,cropy):\n",
    "    y,x = img.shape\n",
    "    startx = x//2-(cropx//2)\n",
    "    starty = y//2-(cropy//2)    \n",
    "    return img[starty:starty+cropy,startx:startx+cropx]"
   ]
  },
  {
   "cell_type": "code",
   "execution_count": 12,
   "metadata": {},
   "outputs": [],
   "source": [
    "#Load .dat binary file of simulated STEM LACBED\n",
    "img = np.fromfile('./pigeonite010_50nm_padif_tot_sl335.dat', dtype='float32')"
   ]
  },
  {
   "cell_type": "code",
   "execution_count": 60,
   "metadata": {},
   "outputs": [],
   "source": [
    "ny,nx= 498,540"
   ]
  },
  {
   "cell_type": "code",
   "execution_count": 82,
   "metadata": {},
   "outputs": [],
   "source": [
    "img=img.reshape((ny,nx))\n",
    "img=np.append(img,img)\n",
    "img=img.reshape((ny*2,nx))\n",
    "img=np.append(img,img,axis=1)\n",
    "img=np.flipud(img)"
   ]
  },
  {
   "cell_type": "code",
   "execution_count": 83,
   "metadata": {},
   "outputs": [],
   "source": [
    "img=crop_center(img,nx,ny)"
   ]
  },
  {
   "cell_type": "code",
   "execution_count": 84,
   "metadata": {
    "scrolled": true
   },
   "outputs": [
    {
     "data": {
      "text/plain": [
       "<matplotlib.image.AxesImage at 0x2402bfbb1f0>"
      ]
     },
     "execution_count": 84,
     "metadata": {},
     "output_type": "execute_result"
    }
   ],
   "source": [
    "plt.imshow(img, cmap='gray',vmax=0.0005)"
   ]
  },
  {
   "cell_type": "markdown",
   "metadata": {},
   "source": [
    "## Below is the code for Multislice template matching. However, it is not finished yet"
   ]
  },
  {
   "cell_type": "code",
   "execution_count": null,
   "metadata": {},
   "outputs": [],
   "source": [
    "from pyxem.signals.indexation_results import TemplateMatchingResults"
   ]
  },
  {
   "cell_type": "code",
   "execution_count": 149,
   "metadata": {},
   "outputs": [],
   "source": [
    "def correlate(signal,phase,savedirectory,slc_list,thickness_list,tilt_list,\n",
    "        n_largest=3,\n",
    "        method=\"fast_correlation\",\n",
    "        *args,\n",
    "        **kwargs,):  \n",
    "                    matches = signal.map(\n",
    "                                correlate_library,phase,savedirectory,slc_list,thickness_list,tilt_list,                                \n",
    "                                n_largest=n_largest,\n",
    "                                method=method,\n",
    "                                inplace=False,\n",
    "                                **kwargs,)\n",
    "\n",
    "                    matching_results = TemplateMatchingResults(matches)\n",
    "                    # matching_results = transfer_navigation_axes(matching_results, signal)\n",
    "\n",
    "        return matching_results"
   ]
  },
  {
   "cell_type": "code",
   "execution_count": null,
   "metadata": {},
   "outputs": [],
   "source": [
    "def correlate_library(signal,phase,savedirectory,slc_list,thickness_list,tilt_list, n_largest, method,rotation_angle):\n",
    "\n",
    "    top_matches = np.empty((len(library), n_largest, 4), dtype=\"object\")\n",
    "\n",
    "    #if method == \"zero_mean_normalized_correlation\":\n",
    "        #nb_pixels = image.shape[0] * image.shape[1]\n",
    "        #average_image_intensity = np.average(image)\n",
    "        #image_std = np.linalg.norm(image - average_image_intensity)\n",
    "    \n",
    "    rot_saved=np.empty((n_largest, 1),dtype=int)\n",
    "    corr_saved=np.zeros((n_largest, 1))\n",
    "    title_saved=np.empty((n_largest, 1),dtype='U16')\n",
    "\n",
    "    for phase,savedir in zip(phase,savedirectory):\n",
    "        for th,slc in zip(thickness_list,slc_list):\n",
    "            for tilt in tilt_list:\n",
    "                template=np.fromfile('C:/Users/cqred/Documents/'+phase+'/output/'+phase+'_'+str(th)+'nm_x'+str(tilt[0])+',y'+str(tilt[1])+'_padif_tot_sl'+slc+'.dat',\n",
    "                             dtype='float32')\n",
    "                title=phase+'_'+str(th)+'nm_x'+str(tilt[0])+',y'+str(tilt[1])\n",
    "                for angle in range(rotation_angle): #iterate through the rotations                                      \n",
    "                        if method == \"fast_correlation\":\n",
    "                            rotated_template = ndimage.rotate(template, angle, reshape=False, order=1)\n",
    "                            pattern_norm=np.linalg.norm(rotated_template)\n",
    "                            corr_local = fast_correlation(signal, rotated_template, pattern_norm)\n",
    "                        if corr_local > np.min(corr_saved):\n",
    "                            title_saved[np.argmin(corr_saved)]= title\n",
    "                            rot_saved[np.argmin(corr_saved)]= angle\n",
    "                            corr_saved[np.argmin(corr_saved)] = corr_local\n",
    "\n",
    "                        combined_array = np.hstack((rot_saved,corr_saved,title_saved))\n",
    "                        combined_array = combined_array[np.flip(combined_array[:, 3].argsort())] #sort array from smallest correlation value\n",
    "                        top_matches[a, :, 0] = list(library)[a] #phase\n",
    "                        top_matches[a, :, 1] = combined_array[:, 0] #thickness\n",
    "                        top_matches[a, :, 2] = combined_array[:, 1] #tilting angle and axis\n",
    "                        top_matches[a, :, 3] = combined_array[:, 2] #rotation angle\n",
    "                        top_matches[a, :, 4] = combined_array[:, 3] #correlation\n",
    "\n",
    "    return top_matches.reshape(-1, 4)"
   ]
  },
  {
   "cell_type": "code",
   "execution_count": null,
   "metadata": {},
   "outputs": [],
   "source": [
    "dp = pxm.load('C:/Users/cqred/OneDrive/Documents/NTU/Y3S2/Project/DiffData/Diffraction SI.dm4')\n",
    "dp.set_signal_type('electron_diffraction')\n",
    "dp"
   ]
  },
  {
   "cell_type": "code",
   "execution_count": null,
   "metadata": {},
   "outputs": [],
   "source": [
    "correlate(dp,phase,savedirectory,slc_list,thickness_list,tilt_list)"
   ]
  },
  {
   "cell_type": "code",
   "execution_count": null,
   "metadata": {},
   "outputs": [],
   "source": [
    "#Template matching of variable 'data'\n",
    "indexer = IndexationGenerator(data, diff_lib)\n",
    "indexation_results = indexer.correlate(n_largest=3)"
   ]
  }
 ],
 "metadata": {
  "kernelspec": {
   "display_name": "Python 3",
   "language": "python",
   "name": "python3"
  },
  "language_info": {
   "codemirror_mode": {
    "name": "ipython",
    "version": 3
   },
   "file_extension": ".py",
   "mimetype": "text/x-python",
   "name": "python",
   "nbconvert_exporter": "python",
   "pygments_lexer": "ipython3",
   "version": "3.8.5"
  }
 },
 "nbformat": 4,
 "nbformat_minor": 4
}
