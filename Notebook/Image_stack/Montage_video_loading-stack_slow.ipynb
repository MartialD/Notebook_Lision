{
 "cells": [
  {
   "cell_type": "markdown",
   "metadata": {},
   "source": [
    "### Hyperspy notebook to generate video from a series of TEM image\n",
    "#### by Martial Duchamp NTU-MSE, Singapore m.duchamp@ntu.edu.sg"
   ]
  },
  {
   "cell_type": "code",
   "execution_count": null,
   "metadata": {},
   "outputs": [],
   "source": [
    "#from PIL import Image\n",
    "import matplotlib.pyplot as plt\n",
    "#import time\n",
    "#import csv\n",
    "#from os import listdir\n",
    "#from os.path import isfile, join\n",
    "#import pandas as pd\n",
    "import matplotlib.animation as animation\n",
    "import matplotlib as mpl\n",
    "#from scipy import interpolate\n",
    "from scipy import ndimage\n",
    "#import numpy as np, cv2\n",
    "#import matplotlib.patches as patches\n",
    "\n",
    "mpl.rcParams['axes.linewidth'] = 3.0 #set the value globally\n",
    "#mpl.use(\"Agg\")"
   ]
  },
  {
   "cell_type": "code",
   "execution_count": null,
   "metadata": {},
   "outputs": [],
   "source": [
    "%pylab qt"
   ]
  },
  {
   "cell_type": "code",
   "execution_count": null,
   "metadata": {},
   "outputs": [],
   "source": [
    "#import sys \n",
    "#sys.path.insert(0, '/home/martial/Data/programs/Hyperspy_ungit')\n",
    "import hyperspy.api as hs"
   ]
  },
  {
   "cell_type": "code",
   "execution_count": null,
   "metadata": {},
   "outputs": [],
   "source": [
    "hs.hyperspy.Release.info"
   ]
  },
  {
   "cell_type": "markdown",
   "metadata": {},
   "source": [
    "### Read TEM images"
   ]
  },
  {
   "cell_type": "code",
   "execution_count": null,
   "metadata": {},
   "outputs": [],
   "source": [
    "path = '/mnt/nisbfs/Vaso/2020-12-28/TEM_time-resolved/Test-3'\n",
    "TEM = hs.load(path+'/image*.dm4', stack=True)"
   ]
  },
  {
   "cell_type": "code",
   "execution_count": null,
   "metadata": {},
   "outputs": [],
   "source": [
    "TEM"
   ]
  },
  {
   "cell_type": "markdown",
   "metadata": {},
   "source": [
    "TEM[0].original_metadata.ImageList.TagGroup0.ImageTags.Default_tags.Electrical.Measured_CurrentA"
   ]
  },
  {
   "cell_type": "code",
   "execution_count": null,
   "metadata": {},
   "outputs": [],
   "source": [
    "# R = b*T+c\n",
    "b =0.41\n",
    "c=39."
   ]
  },
  {
   "cell_type": "markdown",
   "metadata": {},
   "source": [
    "R= TEM[1].original_metadata.ImageList.TagGroup0.ImageTags.Default_tags.Electrical.Applied_VoltageV / \\\n",
    "    TEM[1].original_metadata.ImageList.TagGroup0.ImageTags.Default_tags.Electrical.Measured_CurrentA"
   ]
  },
  {
   "cell_type": "markdown",
   "metadata": {},
   "source": [
    "T = (R -c)/b\n",
    "T"
   ]
  },
  {
   "cell_type": "markdown",
   "metadata": {},
   "source": [
    "### Video"
   ]
  },
  {
   "cell_type": "code",
   "execution_count": null,
   "metadata": {},
   "outputs": [],
   "source": [
    "FFMpegWriter = animation.writers['ffmpeg']\n",
    "metadata = dict(title=path, artist='M. Duchamp')\n",
    "writer = FFMpegWriter(fps=0.5, metadata=metadata, bitrate=200)"
   ]
  },
  {
   "cell_type": "code",
   "execution_count": null,
   "metadata": {},
   "outputs": [],
   "source": [
    "vmin_mul = 0.\n",
    "vmax_mul = 2.5"
   ]
  },
  {
   "cell_type": "code",
   "execution_count": null,
   "metadata": {},
   "outputs": [],
   "source": [
    "fig, axes = plt.subplots(nrows=1, ncols=1)\n",
    "im = axes.imshow(ndimage.gaussian_filter(TEM[0].data,6), cmap='gray', \\\n",
    "                  vmin=vmin_mul*np.mean(TEM[0].data), vmax=vmax_mul*np.mean(TEM[0].data))\n",
    "\n",
    "R= TEM[0].original_metadata.ImageList.TagGroup0.ImageTags.Default_tags.Electrical.Applied_VoltageV / \\\n",
    "    TEM[0].original_metadata.ImageList.TagGroup0.ImageTags.Default_tags.Electrical.Measured_CurrentA\n",
    "\n",
    "if R <0.001: R=b*130+c\n",
    "\n",
    "textbox = plt.text(0.8, 0.8, \\\n",
    "    '{0:.0f}'.format((R - c)/b) +'K', \\\n",
    "    fontsize=15, verticalalignment='top', backgroundcolor='white') \n",
    "\n",
    "plt.show()"
   ]
  },
  {
   "cell_type": "code",
   "execution_count": null,
   "metadata": {},
   "outputs": [],
   "source": [
    "with writer.saving(fig, \"Test-3.mp4\", dpi=200):\n",
    "    for i in range(0,TEM.count(0)):\n",
    "        im = axes.imshow(ndimage.gaussian_filter(TEM[i].data,6), cmap='gray', \\\n",
    "                         vmin=vmin_mul*np.mean(TEM[i].data), vmax=vmax_mul*np.mean(TEM[i].data))           \n",
    "\n",
    "        R= TEM[i].original_metadata.ImageList.TagGroup0.ImageTags.Default_tags.Electrical.Applied_VoltageV / \\\n",
    "            TEM[i].original_metadata.ImageList.TagGroup0.ImageTags.Default_tags.Electrical.Measured_CurrentA\n",
    "        if R <0.001: R=b*130+c\n",
    "            \n",
    "        textbox = plt.text(0.8, 0.8, '{0:.0f}'.format((R - c)/b) +'K', \\\n",
    "            fontsize=15, verticalalignment='top', backgroundcolor='white')        \n",
    "        \n",
    "        writer.grab_frame()\n",
    "        textbox.remove() \n",
    "        print(i)\n",
    "        \n",
    "    for j in range(0,3):\n",
    "        im = axes.imshow(ndimage.gaussian_filter(TEM[i].data,6), cmap='gray', \\\n",
    "                         vmin=vmin_mul*np.mean(TEM[i].data), vmax=vmax_mul*np.mean(TEM[i].data))           \n",
    "\n",
    "        R= TEM[i].original_metadata.ImageList.TagGroup0.ImageTags.Default_tags.Electrical.Applied_VoltageV / \\\n",
    "            TEM[i].original_metadata.ImageList.TagGroup0.ImageTags.Default_tags.Electrical.Measured_CurrentA\n",
    "        if R <0.001: R=b*130+c\n",
    "            \n",
    "        textbox = plt.text(0.8, 0.8, '{0:.0f}'.format((R - c)/b) +'K', \\\n",
    "            fontsize=15, verticalalignment='top', backgroundcolor='white')  \n",
    "        \n",
    "        writer.grab_frame()\n",
    "        textbox.remove() \n",
    "        print(i)"
   ]
  },
  {
   "cell_type": "code",
   "execution_count": null,
   "metadata": {},
   "outputs": [],
   "source": []
  }
 ],
 "metadata": {
  "anaconda-cloud": {},
  "kernelspec": {
   "display_name": "Python 3",
   "language": "python",
   "name": "python3"
  },
  "language_info": {
   "codemirror_mode": {
    "name": "ipython",
    "version": 3
   },
   "file_extension": ".py",
   "mimetype": "text/x-python",
   "name": "python",
   "nbconvert_exporter": "python",
   "pygments_lexer": "ipython3",
   "version": "3.8.5"
  }
 },
 "nbformat": 4,
 "nbformat_minor": 1
}
