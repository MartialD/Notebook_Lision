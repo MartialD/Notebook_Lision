{
 "cells": [
  {
   "cell_type": "markdown",
   "metadata": {},
   "source": [
    "### Hyperspy notebook to generate video from a series of TEM image\n",
    "#### by Martial Duchamp NTU-MSE, Singapore m.duchamp@ntu.edu.sg"
   ]
  },
  {
   "cell_type": "code",
   "execution_count": 1,
   "metadata": {},
   "outputs": [],
   "source": [
    "from PIL import Image\n",
    "import matplotlib.pyplot as plt\n",
    "import time\n",
    "import csv\n",
    "from os import listdir\n",
    "from os.path import isfile, join\n",
    "import pandas as pd\n",
    "import matplotlib.animation as animation\n",
    "import matplotlib as mpl\n",
    "from scipy import interpolate\n",
    "from scipy import ndimage\n",
    "#import numpy as np, cv2\n",
    "import matplotlib.patches as patches\n",
    "\n",
    "mpl.rcParams['axes.linewidth'] = 3.0 #set the value globally\n",
    "#mpl.use(\"Agg\")"
   ]
  },
  {
   "cell_type": "code",
   "execution_count": 2,
   "metadata": {},
   "outputs": [
    {
     "name": "stdout",
     "output_type": "stream",
     "text": [
      "Populating the interactive namespace from numpy and matplotlib\n"
     ]
    }
   ],
   "source": [
    "%pylab qt"
   ]
  },
  {
   "cell_type": "code",
   "execution_count": 3,
   "metadata": {},
   "outputs": [],
   "source": [
    "#import sys \n",
    "#sys.path.insert(0, '/home/martial/Data/programs/Hyperspy_ungit')\n",
    "import hyperspy.api as hs"
   ]
  },
  {
   "cell_type": "code",
   "execution_count": 4,
   "metadata": {},
   "outputs": [
    {
     "data": {
      "text/plain": [
       "'\\n    H y p e r S p y\\n    Version 1.5.2\\n\\n    http://www.hyperspy.org\\n\\n    '"
      ]
     },
     "execution_count": 4,
     "metadata": {},
     "output_type": "execute_result"
    }
   ],
   "source": [
    "hs.hyperspy.Release.info"
   ]
  },
  {
   "cell_type": "markdown",
   "metadata": {},
   "source": [
    "### Read TEM images"
   ]
  },
  {
   "cell_type": "code",
   "execution_count": 21,
   "metadata": {},
   "outputs": [],
   "source": [
    "path = '/mnt/nisbfs/Data/Vaso/2020-12-28/TEM_time-resolved/Test-3'\n",
    "TEM = hs.load(path+'/image_1,*.dm4')"
   ]
  },
  {
   "cell_type": "code",
   "execution_count": 22,
   "metadata": {},
   "outputs": [
    {
     "data": {
      "text/plain": [
       "<Signal2D, title: image_1, temperature_394.377, dimensions: (|4096, 4096)>"
      ]
     },
     "execution_count": 22,
     "metadata": {},
     "output_type": "execute_result"
    }
   ],
   "source": [
    "TEM"
   ]
  },
  {
   "cell_type": "code",
   "execution_count": 7,
   "metadata": {},
   "outputs": [],
   "source": [
    "TEM.plot()"
   ]
  },
  {
   "cell_type": "code",
   "execution_count": 24,
   "metadata": {},
   "outputs": [
    {
     "data": {
      "text/plain": [
       "├── Applied Voltage(V) = 1.04\n",
       "├── Measured Current(A) = 0.00559759\n",
       "├── Resistance(Ohms)  = 185.79424359411817\n",
       "└── Temperature(K)  = 394.3769743764727"
      ]
     },
     "execution_count": 24,
     "metadata": {},
     "output_type": "execute_result"
    }
   ],
   "source": [
    "TEM.original_metadata.ImageList.TagGroup0.ImageTags.Default_tags.Electrical"
   ]
  },
  {
   "cell_type": "code",
   "execution_count": 12,
   "metadata": {},
   "outputs": [
    {
     "data": {
      "text/plain": [
       "6.05816e-08"
      ]
     },
     "execution_count": 12,
     "metadata": {},
     "output_type": "execute_result"
    }
   ],
   "source": [
    "TEM.original_metadata.ImageList.TagGroup0.ImageTags.Default_tags.Electrical.Applied_VoltageV"
   ]
  },
  {
   "cell_type": "code",
   "execution_count": 13,
   "metadata": {},
   "outputs": [
    {
     "data": {
      "text/plain": [
       "0.1"
      ]
     },
     "execution_count": 13,
     "metadata": {},
     "output_type": "execute_result"
    }
   ],
   "source": [
    "TEM.original_metadata.ImageList.TagGroup0.ImageTags.Default_tags.Electrical.Measured_CurrentA"
   ]
  },
  {
   "cell_type": "code",
   "execution_count": 17,
   "metadata": {},
   "outputs": [
    {
     "data": {
      "text/plain": [
       "140.97560975609755"
      ]
     },
     "execution_count": 17,
     "metadata": {},
     "output_type": "execute_result"
    }
   ],
   "source": [
    "TEM.original_metadata.ImageList.TagGroup0.ImageTags.Default_tags.Electrical.ResistanceOhms"
   ]
  },
  {
   "cell_type": "code",
   "execution_count": null,
   "metadata": {},
   "outputs": [],
   "source": [
    "R =b*T+c"
   ]
  },
  {
   "cell_type": "code",
   "execution_count": 25,
   "metadata": {},
   "outputs": [],
   "source": [
    "b=0.41\n",
    "c=39"
   ]
  },
  {
   "cell_type": "code",
   "execution_count": 26,
   "metadata": {},
   "outputs": [
    {
     "data": {
      "text/plain": [
       "358.03474047345895"
      ]
     },
     "execution_count": 26,
     "metadata": {},
     "output_type": "execute_result"
    }
   ],
   "source": [
    "R=TEM.original_metadata.ImageList.TagGroup0.ImageTags.Default_tags.Electrical.ResistanceOhms\n",
    "T= (R-c)/b\n",
    "T"
   ]
  },
  {
   "cell_type": "code",
   "execution_count": 27,
   "metadata": {},
   "outputs": [],
   "source": [
    "Elec_data = np.zeros((211, 5))"
   ]
  },
  {
   "cell_type": "code",
   "execution_count": null,
   "metadata": {},
   "outputs": [],
   "source": [
    "for i in range(0,np.shape(Elec_data)[0]):\n",
    "    TEM = hs.load(path+'/image_'+str(i)+',*.dm4')\n",
    "    Elec_data[i-1,0]=TEM.original_metadata.ImageList.TagGroup0.ImageTags.Default_tags.Electrical.Measured_CurrentA\n",
    "    Elec_data[i-1,1]=TEM.original_metadata.ImageList.TagGroup0.ImageTags.Default_tags.Electrical.Applied_VoltageV\n",
    "    Elec_data[i-1,2]=TEM.original_metadata.ImageList.TagGroup0.ImageTags.Default_tags.Electrical.ResistanceOhms\n",
    "    Elec_data[i-1,3]=(TEM.original_metadata.ImageList.TagGroup0.ImageTags.Default_tags.Electrical.ResistanceOhms-c)/b   \n",
    "    Elec_data[i-1,4]=i"
   ]
  },
  {
   "cell_type": "code",
   "execution_count": 19,
   "metadata": {},
   "outputs": [],
   "source": [
    "np.savetxt(path +'/Elec_data.txt', Elec_data)\n",
    "np.save(path +'/Elec_data.npy', Elec_data)"
   ]
  },
  {
   "cell_type": "code",
   "execution_count": 20,
   "metadata": {},
   "outputs": [],
   "source": [
    "fig, ax1 = plt.subplots()\n",
    "ax1.set_xlabel('Image nbr')\n",
    "ax2 = ax1.twinx()  # instantiate a second axes that shares the same x-axis\n",
    "ax1.plot(Elec_data[:,3],Elec_data[:,1], marker='o', linestyle='dashed', linewidth=2,label='Voltage')\n",
    "ax1.set_ylabel('Voltage [V]')\n",
    "\n",
    "ax2.plot(Elec_data[:,3],Elec_data[:,0], 'v', label='Current', color='green')\n",
    "ax2.set_ylabel('Current [A]')\n",
    "fig.legend(loc = \"upper center\", bbox_to_anchor=(0.7, 0.95))\n",
    "fig.tight_layout()\n",
    "plt.savefig(path+'/voltage_img-nbr.png')\n",
    "plt.show()"
   ]
  },
  {
   "cell_type": "code",
   "execution_count": null,
   "metadata": {},
   "outputs": [],
   "source": [
    "Elec_data[29,0]/Elec_data[29,1]"
   ]
  },
  {
   "cell_type": "markdown",
   "metadata": {},
   "source": [
    "R= TEM[1].original_metadata.ImageList.TagGroup0.ImageTags.Default_tags.Electrical.Applied_VoltageV / \\\n",
    "    TEM[1].original_metadata.ImageList.TagGroup0.ImageTags.Default_tags.Electrical.Measured_CurrentA"
   ]
  },
  {
   "cell_type": "markdown",
   "metadata": {},
   "source": [
    "T = (R -c)/b\n",
    "T"
   ]
  },
  {
   "cell_type": "markdown",
   "metadata": {},
   "source": [
    "### Video"
   ]
  },
  {
   "cell_type": "code",
   "execution_count": null,
   "metadata": {},
   "outputs": [],
   "source": [
    "FFMpegWriter = animation.writers['ffmpeg']\n",
    "metadata = dict(title=path, artist='M. Duchamp')\n",
    "writer = FFMpegWriter(fps=0.5, metadata=metadata, bitrate=200)"
   ]
  },
  {
   "cell_type": "code",
   "execution_count": null,
   "metadata": {},
   "outputs": [],
   "source": [
    "vmin_mul = 0.\n",
    "vmax_mul = 2.5"
   ]
  },
  {
   "cell_type": "code",
   "execution_count": null,
   "metadata": {},
   "outputs": [],
   "source": [
    "fig, axes = plt.subplots(nrows=1, ncols=1)\n",
    "im = axes.imshow(ndimage.gaussian_filter(TEM[0].data,6), cmap='gray', \\\n",
    "                  vmin=vmin_mul*np.mean(TEM[0].data), vmax=vmax_mul*np.mean(TEM[0].data))\n",
    "\n",
    "R= TEM[0].original_metadata.ImageList.TagGroup0.ImageTags.Default_tags.Electrical.Applied_VoltageV / \\\n",
    "    TEM[0].original_metadata.ImageList.TagGroup0.ImageTags.Default_tags.Electrical.Measured_CurrentA\n",
    "\n",
    "if R <0.001: R=b*130+c\n",
    "\n",
    "textbox = plt.text(0.8, 0.8, \\\n",
    "    '{0:.0f}'.format((R - c)/b) +'K', \\\n",
    "    fontsize=15, verticalalignment='top', backgroundcolor='white') \n",
    "\n",
    "plt.show()"
   ]
  },
  {
   "cell_type": "code",
   "execution_count": null,
   "metadata": {},
   "outputs": [],
   "source": [
    "with writer.saving(fig, \"Test-3.mp4\", dpi=200):\n",
    "    for i in range(0,TEM.count(0)):\n",
    "        im = axes.imshow(ndimage.gaussian_filter(TEM[i].data,6), cmap='gray', \\\n",
    "                         vmin=vmin_mul*np.mean(TEM[i].data), vmax=vmax_mul*np.mean(TEM[i].data))           \n",
    "\n",
    "        R= TEM[i].original_metadata.ImageList.TagGroup0.ImageTags.Default_tags.Electrical.Applied_VoltageV / \\\n",
    "            TEM[i].original_metadata.ImageList.TagGroup0.ImageTags.Default_tags.Electrical.Measured_CurrentA\n",
    "        if R <0.001: R=b*130+c\n",
    "            \n",
    "        textbox = plt.text(0.8, 0.8, '{0:.0f}'.format((R - c)/b) +'K', \\\n",
    "            fontsize=15, verticalalignment='top', backgroundcolor='white')        \n",
    "        \n",
    "        writer.grab_frame()\n",
    "        textbox.remove() \n",
    "        print(i)\n",
    "        \n",
    "    for j in range(0,3):\n",
    "        im = axes.imshow(ndimage.gaussian_filter(TEM[i].data,6), cmap='gray', \\\n",
    "                         vmin=vmin_mul*np.mean(TEM[i].data), vmax=vmax_mul*np.mean(TEM[i].data))           \n",
    "\n",
    "        R= TEM[i].original_metadata.ImageList.TagGroup0.ImageTags.Default_tags.Electrical.Applied_VoltageV / \\\n",
    "            TEM[i].original_metadata.ImageList.TagGroup0.ImageTags.Default_tags.Electrical.Measured_CurrentA\n",
    "        if R <0.001: R=b*130+c\n",
    "            \n",
    "        textbox = plt.text(0.8, 0.8, '{0:.0f}'.format((R - c)/b) +'K', \\\n",
    "            fontsize=15, verticalalignment='top', backgroundcolor='white')  \n",
    "        \n",
    "        writer.grab_frame()\n",
    "        textbox.remove() \n",
    "        print(i)"
   ]
  },
  {
   "cell_type": "code",
   "execution_count": null,
   "metadata": {},
   "outputs": [],
   "source": []
  }
 ],
 "metadata": {
  "anaconda-cloud": {},
  "kernelspec": {
   "display_name": "Python 3",
   "language": "python",
   "name": "python3"
  },
  "language_info": {
   "codemirror_mode": {
    "name": "ipython",
    "version": 3
   },
   "file_extension": ".py",
   "mimetype": "text/x-python",
   "name": "python",
   "nbconvert_exporter": "python",
   "pygments_lexer": "ipython3",
   "version": "3.7.4"
  }
 },
 "nbformat": 4,
 "nbformat_minor": 1
}
