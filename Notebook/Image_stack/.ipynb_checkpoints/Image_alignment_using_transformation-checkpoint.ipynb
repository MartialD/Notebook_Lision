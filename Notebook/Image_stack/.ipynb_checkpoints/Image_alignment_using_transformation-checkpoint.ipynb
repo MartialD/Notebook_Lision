{
 "cells": [
  {
   "cell_type": "code",
   "execution_count": 2,
   "metadata": {},
   "outputs": [],
   "source": [
    "from PIL import Image\n",
    "import matplotlib.pyplot as plt\n",
    "import time\n",
    "import csv\n",
    "from os import listdir\n",
    "from os.path import isfile, join\n",
    "import pandas as pd\n",
    "import matplotlib.animation as animation\n",
    "import matplotlib as mpl\n",
    "from scipy import interpolate\n",
    "from scipy import ndimage\n",
    "#import numpy as np, cv2\n",
    "import matplotlib.patches as patches\n",
    "\n",
    "mpl.rcParams['axes.linewidth'] = 3.0 #set the value globally\n",
    "#mpl.use(\"Agg\")"
   ]
  },
  {
   "cell_type": "code",
   "execution_count": 3,
   "metadata": {},
   "outputs": [
    {
     "name": "stdout",
     "output_type": "stream",
     "text": [
      "Populating the interactive namespace from numpy and matplotlib\n"
     ]
    }
   ],
   "source": [
    "%pylab qt"
   ]
  },
  {
   "cell_type": "code",
   "execution_count": 4,
   "metadata": {},
   "outputs": [],
   "source": [
    "import sys \n",
    "sys.path.insert(0, '/home/martial/Data/programs/Hyperspy_ungit')\n",
    "\n",
    "import hyperspy.api as hs"
   ]
  },
  {
   "cell_type": "code",
   "execution_count": 5,
   "metadata": {},
   "outputs": [
    {
     "data": {
      "text/plain": [
       "'\\n    H y p e r S p y\\n    Version 1.6.dev\\n\\n    http://www.hyperspy.org\\n\\n    '"
      ]
     },
     "execution_count": 5,
     "metadata": {},
     "output_type": "execute_result"
    }
   ],
   "source": [
    "hs.hyperspy.Release.info"
   ]
  },
  {
   "cell_type": "code",
   "execution_count": 6,
   "metadata": {},
   "outputs": [],
   "source": [
    "def align2D_cv(hs_stack, warp_mode):\n",
    "    \n",
    "    hs_stack.change_dtype('float32')\n",
    "\n",
    "    #shift\n",
    "    warp_matrix_max = np.zeros(4)\n",
    "    \n",
    "    # High pass filter using low pass and Gaussian blurring\n",
    "    filter_1 = ndimage.gaussian_filter(hs_stack.data[0], 10)\n",
    "    \n",
    "    # Convert Numpy hpf data in openCV format (3 channels)\n",
    "    img_1_hpf_cv = cv2.cvtColor(filter_1, cv2.COLOR_GRAY2BGR)\n",
    "    # Convert openCV format (3 channels) in openCV format grey (1 channel)\n",
    "    img_1_hpf_cv = cv2.cvtColor(img_1_hpf_cv, cv2.COLOR_BGR2GRAY)\n",
    "     \n",
    "    #find the shape\n",
    "    sz = img_1_hpf_cv.shape\n",
    "    \n",
    "    #Translation ( MOTION_TRANSLATION ) : The first image can be shifted ( translated ) by (x , y) to obtain the second image. There are only two parameters x and y that we need to estimate.\n",
    "    #Euclidean ( MOTION_EUCLIDEAN ) : The first image is a rotated and shifted version of the second image. So there are three parameters — x, y and angle . You will notice in Figure 4, when a square undergoes Euclidean transformation, the size does not change, parallel lines remain parallel, and right angles remain unchanged after transformation.\n",
    "    #Affine ( MOTION_AFFINE ) : An affine transform is a combination of rotation, translation ( shift ), scale, and shear. This transform has six parameters. When a square undergoes an Affine transformation, parallel lines remain parallel, but lines meeting at right angles no longer remain orthogonal.\n",
    "    #Homography ( MOTION_HOMOGRAPHY ) : All the transforms described above are 2D transforms. They do not account for 3D effects. A homography transform on the other hand can account for some 3D effects ( but not all ). This transform has 8 parameters. A square when transformed using a Homography can change to any quadrilateral.\n",
    "    \n",
    "    #warp_mode = cv2.MOTION_TRANSLATION\n",
    "    \n",
    "    # Define 2x3 or 3x3 matrices and initialize the matrix to identity\n",
    "    if warp_mode == cv2.MOTION_HOMOGRAPHY :\n",
    "        warp_matrix = np.eye(3, 3, dtype=np.float32)\n",
    "    else :\n",
    "        warp_matrix = np.eye(2, 3, dtype=np.float32)\n",
    "        \n",
    "    warp_matrix_returned = np.empty((hs_stack.data.shape[0], warp_matrix.shape[0], warp_matrix.shape[1]))\n",
    "    \n",
    "    # Specify the number of iterations.\n",
    "    number_of_iterations = 3000;\n",
    "    \n",
    "    # Specify the threshold of the increment\n",
    "    termination_eps = 1e-10;\n",
    "    \n",
    "    # Define termination criteria\n",
    "    criteria = (cv2.TERM_CRITERIA_EPS | cv2.TERM_CRITERIA_COUNT, number_of_iterations,  termination_eps)\n",
    "\n",
    "    for i in range (1,hs_stack.data.shape[0]):\n",
    "        filter_2 = ndimage.gaussian_filter(hs_stack.data[i], 10)\n",
    "        # Convert Numpy hpf data in openCV format (3 channels)\n",
    "        img_2_hpf_cv = cv2.cvtColor(filter_2, cv2.COLOR_GRAY2BGR)\n",
    "        # Convert openCV format (3 channels) in openCV format grey (1 channel)\n",
    "        img_2_hpf_cv = cv2.cvtColor(img_2_hpf_cv, cv2.COLOR_BGR2GRAY)\n",
    "    \n",
    "        # Run the ECC algorithm. The results are stored in warp_matrix.\n",
    "        (cc, warp_matrix) = cv2.findTransformECC(img_1_hpf_cv,img_2_hpf_cv,warp_matrix, warp_mode, criteria)\n",
    "    \n",
    "        warp_matrix_returned[i,:,:] = warp_matrix\n",
    "    \n",
    "        if warp_mode == cv2.MOTION_HOMOGRAPHY :\n",
    "            # Use warpPerspective for Homography \n",
    "            hs_stack.data[i] = cv2.warpPerspective (hs_stack.data[i], warp_matrix, (sz[1],sz[0]), flags=cv2.INTER_LINEAR + cv2.WARP_INVERSE_MAP)\n",
    "        else :\n",
    "            # Use warpAffine for Translation, Euclidean and Affine\n",
    "            hs_stack.data[i] = cv2.warpAffine(hs_stack.data[i], warp_matrix, (sz[1],sz[0]), flags=cv2.INTER_LINEAR + cv2.WARP_INVERSE_MAP); \n",
    "           \n",
    "        if warp_matrix[0,2]<warp_matrix_max[0]:\n",
    "            warp_matrix_max[0]=warp_matrix[0,2]\n",
    "            \n",
    "        if warp_matrix[0,2]>warp_matrix_max[1]:\n",
    "            warp_matrix_max[1]=warp_matrix[0,2]\n",
    "\n",
    "        if warp_matrix[1,2]<warp_matrix_max[2]:\n",
    "            warp_matrix_max[2]=warp_matrix[1,2]\n",
    "            \n",
    "        if warp_matrix[1,2]>warp_matrix_max[3]:\n",
    "            warp_matrix_max[3]=warp_matrix[1,2]\n",
    "            \n",
    "        print(str(i) +' / '+str(hs_stack.data.shape[0]-1))\n",
    "            \n",
    "    hs_stack.crop_image(bottom=hs_stack.data.shape[2]-np.int(warp_matrix_max[3]), \\\n",
    "                        top = -np.int(warp_matrix_max[2]), \\\n",
    "                        left=-np.int(warp_matrix_max[0]), \\\n",
    "                        right = hs_stack.data.shape[1]-np.int(warp_matrix_max[1]))\n",
    "    \n",
    "    return warp_matrix_returned"
   ]
  },
  {
   "cell_type": "code",
   "execution_count": 7,
   "metadata": {},
   "outputs": [],
   "source": [
    "def align2D_cv_only_align(hs_stack, warp_matrix, warp_mode):\n",
    "    \n",
    "    hs_stack.change_dtype('float32')\n",
    "\n",
    "    #shift\n",
    "    warp_matrix_max = np.zeros(4)\n",
    "       \n",
    "    #find the shape\n",
    "    sz = hs_stack.data[0].shape\n",
    "        \n",
    "    for i in range (1,hs_stack.data.shape[0]):\n",
    "        if warp_mode == cv2.MOTION_HOMOGRAPHY :\n",
    "            # Use warpPerspective for Homography \n",
    "            hs_stack.data[i] = cv2.warpPerspective (hs_stack.data[i], warp_matrix[i,:,:], (sz[1],sz[0]), flags=cv2.INTER_LINEAR + cv2.WARP_INVERSE_MAP)\n",
    "        else :\n",
    "            # Use warpAffine for Translation, Euclidean and Affine\n",
    "            hs_stack.data[i] = cv2.warpAffine(hs_stack.data[i], warp_matrix[i,:,:], (sz[1],sz[0]), flags=cv2.INTER_LINEAR + cv2.WARP_INVERSE_MAP); \n",
    "           \n",
    "        if warp_matrix[i,0,2]<warp_matrix_max[0]:\n",
    "            warp_matrix_max[0]=warp_matrix[i,0,2]\n",
    "            \n",
    "        if warp_matrix[i,0,2]>warp_matrix_max[1]:\n",
    "            warp_matrix_max[1]=warp_matrix[i,0,2]\n",
    "\n",
    "        if warp_matrix[i,1,2]<warp_matrix_max[2]:\n",
    "            warp_matrix_max[2]=warp_matrix[i,1,2]\n",
    "            \n",
    "        if warp_matrix[i,1,2]>warp_matrix_max[3]:\n",
    "            warp_matrix_max[3]=warp_matrix[i,1,2]\n",
    "            \n",
    "        print(str(i) +' / '+str(hs_stack.data.shape[0]-1))\n",
    " \n",
    "    hs_stack.crop_image(bottom=hs_stack.data.shape[2]-np.int(warp_matrix_max[3]), \\\n",
    "                        top = -np.int(warp_matrix_max[2]), \\\n",
    "                        left=-np.int(warp_matrix_max[0]), \\\n",
    "                        right = hs_stack.data.shape[1]-np.int(warp_matrix_max[1]))\n",
    "       \n",
    "    return"
   ]
  },
  {
   "cell_type": "markdown",
   "metadata": {},
   "source": [
    "### Alignement"
   ]
  },
  {
   "cell_type": "code",
   "execution_count": null,
   "metadata": {
    "collapsed": true
   },
   "outputs": [],
   "source": [
    "#Load dataset previously binned by 4\n",
    "TEM_bin4 = hs.load('16)_380K_bin4_ali.dm4')"
   ]
  },
  {
   "cell_type": "code",
   "execution_count": null,
   "metadata": {
    "collapsed": true
   },
   "outputs": [],
   "source": [
    "#Select the area used to align the data\n",
    "TEM_bin4.crop_image(top=80., left=20., bottom=115., right=100.)"
   ]
  },
  {
   "cell_type": "code",
   "execution_count": null,
   "metadata": {
    "collapsed": true
   },
   "outputs": [],
   "source": [
    "#Calculate the shift in between the images and return a matrix with the shifts\n",
    "#It also aligns the TEM dataset according to the calculated shift\n",
    "warp_matrix_returned_bin4 = align2D_cv(TEM_bin4, cv2.MOTION_TRANSLATION)"
   ]
  },
  {
   "cell_type": "markdown",
   "metadata": {
    "collapsed": true
   },
   "source": [
    "warp_matrix_returned_bin4 = np.load('warp_matrix_returned_bin4.npy')"
   ]
  },
  {
   "cell_type": "markdown",
   "metadata": {},
   "source": [
    "np.save('warp_matrix_returned_bin4.npy',warp_matrix_returned_bin4)"
   ]
  },
  {
   "cell_type": "code",
   "execution_count": null,
   "metadata": {
    "collapsed": true
   },
   "outputs": [],
   "source": [
    "TEM_bin4 = hs.load('16)_380K_bin4_ali.dm4')"
   ]
  },
  {
   "cell_type": "code",
   "execution_count": null,
   "metadata": {
    "collapsed": true
   },
   "outputs": [],
   "source": [
    "#Align the data according to the wrap_matrix calculated previously\n",
    "align2D_cv_only_align(TEM_bin4, warp_matrix_returned_bin4, cv2.MOTION_TRANSLATION)"
   ]
  },
  {
   "cell_type": "code",
   "execution_count": null,
   "metadata": {
    "collapsed": true
   },
   "outputs": [],
   "source": [
    "TEM_bin4.plot()"
   ]
  },
  {
   "cell_type": "code",
   "execution_count": null,
   "metadata": {
    "collapsed": true
   },
   "outputs": [],
   "source": [
    "#Calculate the swrp matrix for a different binned (2 instead of 4 in that case)\n",
    "warp_matrix_returned_bin2 = np.empty_like(warp_matrix_returned_bin4)\n",
    "warp_matrix_returned_bin2 = warp_matrix_returned_bin4\n",
    "warp_matrix_returned_bin2[:,0,2] = 2*warp_matrix_returned_bin4[:,0,2]\n",
    "warp_matrix_returned_bin2[:,1,2] = 2*warp_matrix_returned_bin4[:,1,2]"
   ]
  },
  {
   "cell_type": "code",
   "execution_count": null,
   "metadata": {
    "collapsed": true
   },
   "outputs": [],
   "source": [
    "TEM_bin2 = hs.load('16)_380K_bin2_ali.dm4')"
   ]
  },
  {
   "cell_type": "code",
   "execution_count": null,
   "metadata": {},
   "outputs": [],
   "source": [
    "align2D_cv_only_align(TEM_bin2, warp_matrix_returned_bin2, cv2.MOTION_TRANSLATION)"
   ]
  },
  {
   "cell_type": "code",
   "execution_count": null,
   "metadata": {
    "collapsed": true
   },
   "outputs": [],
   "source": [
    "TEM_bin2.plot()"
   ]
  },
  {
   "cell_type": "code",
   "execution_count": null,
   "metadata": {
    "collapsed": true
   },
   "outputs": [],
   "source": [
    "TEM_bin2.save('TEM_bin2_aligned.hdf5')"
   ]
  },
  {
   "cell_type": "code",
   "execution_count": null,
   "metadata": {
    "collapsed": true
   },
   "outputs": [],
   "source": [
    "TEM_bin2.plot()"
   ]
  }
 ],
 "metadata": {
  "anaconda-cloud": {},
  "kernelspec": {
   "display_name": "Python 3",
   "language": "python",
   "name": "python3"
  },
  "language_info": {
   "codemirror_mode": {
    "name": "ipython",
    "version": 3
   },
   "file_extension": ".py",
   "mimetype": "text/x-python",
   "name": "python",
   "nbconvert_exporter": "python",
   "pygments_lexer": "ipython3",
   "version": "3.8.5"
  }
 },
 "nbformat": 4,
 "nbformat_minor": 1
}
