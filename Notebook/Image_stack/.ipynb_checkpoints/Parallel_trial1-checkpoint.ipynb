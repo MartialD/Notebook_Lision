{
 "cells": [
  {
   "cell_type": "markdown",
   "metadata": {},
   "source": [
    "### Hyperspy notebook with parallel code to generate video from in-situ TEM mode\n",
    "#### by Joseph Vas NIE, Singapore joseph.vas@nie.edu.sg"
   ]
  },
  {
   "cell_type": "markdown",
   "metadata": {},
   "source": [
    "usual imports for data processing\n"
   ]
  },
  {
   "cell_type": "code",
   "execution_count": 1,
   "metadata": {},
   "outputs": [],
   "source": [
    "%matplotlib notebook\n",
    "import glob\n",
    "import matplotlib.pyplot as plt \n",
    "from os import listdir\n",
    "import matplotlib.animation as animation\n",
    "import numpy as np\n",
    "from scipy import ndimage\n",
    "import os"
   ]
  },
  {
   "cell_type": "code",
   "execution_count": 2,
   "metadata": {},
   "outputs": [
    {
     "name": "stderr",
     "output_type": "stream",
     "text": [
      "/root/anaconda3/lib/python3.8/site-packages/pyUSID/viz/__init__.py:16: FutureWarning: Please use sidpy.viz.plot_utils instead of pyUSID.viz.plot_utils. pyUSID.plot_utils will be removed in a future release of pyUSID\n",
      "  warn('Please use sidpy.viz.plot_utils instead of pyUSID.viz.plot_utils. '\n",
      "WARNING:hyperspy_gui_traitsui:The nbAgg matplotlib backend is not compatible with the traitsui GUI elements. For more information, read http://hyperspy.readthedocs.io/en/stable/user_guide/getting_started.html#possible-warnings-when-importing-hyperspy.\n",
      "WARNING:hyperspy_gui_traitsui:The traitsui GUI elements are not available.\n"
     ]
    }
   ],
   "source": [
    "import hyperspy.api as hs"
   ]
  },
  {
   "cell_type": "markdown",
   "metadata": {},
   "source": [
    "Step 2: import the function which needs to run in parallel "
   ]
  },
  {
   "cell_type": "code",
   "execution_count": 3,
   "metadata": {},
   "outputs": [],
   "source": [
    "import test\n",
    "from multiprocessing import Pool"
   ]
  },
  {
   "cell_type": "markdown",
   "metadata": {},
   "source": [
    "initializing the variables"
   ]
  },
  {
   "cell_type": "code",
   "execution_count": 4,
   "metadata": {},
   "outputs": [],
   "source": [
    "i=0\n",
    "filename = '-4mA_100kHz_1s_5pr_Hour_00_Minute_00_Second_00_'\n",
    "path0 = '../../Demo_data/Minute_'\n",
    "path1 = str(i).zfill(2)+'/Second_'"
   ]
  },
  {
   "cell_type": "code",
   "execution_count": 5,
   "metadata": {},
   "outputs": [],
   "source": [
    "def concatenate():\n",
    "    stringa = \"ffmpeg -i \\\"concat:\"\n",
    "    elenco_video = glob.glob(\"*.mp4\")\n",
    "    elenco_file_temp = []\n",
    "    for f in elenco_video:\n",
    "        file = \"temp\" + str(elenco_video.index(f) + 1) + \".ts\"\n",
    "        os.system(\"ffmpeg -i \" + f + \" -c copy -bsf:v h264_mp4toannexb -f mpegts \" + file)\n",
    "        elenco_file_temp.append(file)\n",
    "    print(elenco_file_temp)\n",
    "    for f in elenco_file_temp:\n",
    "        stringa += f\n",
    "        if elenco_file_temp.index(f) != len(elenco_file_temp)-1:\n",
    "            stringa += \"|\"\n",
    "        else:\n",
    "            stringa += \"\\\" -c copy  -bsf:a aac_adtstoasc output.mp4\"\n",
    "    #rint(stringa)\n",
    "    os.system(stringa)"
   ]
  },
  {
   "cell_type": "markdown",
   "metadata": {},
   "source": [
    "initializing the codec for creating the video"
   ]
  },
  {
   "cell_type": "code",
   "execution_count": 14,
   "metadata": {},
   "outputs": [
    {
     "name": "stdout",
     "output_type": "stream",
     "text": [
      "Hour_00/Minute_00/Second_01/Frame04\n",
      "Hour_00/Minute_00/Second_01/Frame05\n",
      "Hour_00/Minute_00/Second_01/Frame06\n",
      "Hour_00/Minute_00/Second_01/Frame07\n",
      "Hour_00/Minute_00/Second_01/Frame08\n",
      "Hour_00/Minute_00/Second_01/Frame09\n",
      "Hour_00/Minute_00/Second_01/Frame10\n",
      "Hour_00/Minute_00/Second_01/Frame11\n",
      "Hour_00/Minute_00/Second_01/Frame12\n",
      "Hour_00/Minute_00/Second_01/Frame13\n",
      "Hour_00/Minute_00/Second_01/Frame14\n",
      "Hour_00/Minute_00/Second_01/Frame15\n",
      "Hour_00/Minute_00/Second_01/Frame16\n",
      "Hour_00/Minute_00/Second_01/Frame17\n",
      "Hour_00/Minute_00/Second_01/Frame18\n",
      "Hour_00/Minute_00/Second_01/Frame19\n",
      "Hour_00/Minute_00/Second_01/Frame20\n",
      "Hour_00/Minute_00/Second_01/Frame21\n",
      "Hour_00/Minute_00/Second_01/Frame22\n",
      "Hour_00/Minute_00/Second_01/Frame23\n",
      "Hour_00/Minute_00/Second_01/Frame24\n",
      "['temp1.ts', 'temp2.ts']\n",
      "CPU times: user 35.6 ms, sys: 85 ms, total: 121 ms\n",
      "Wall time: 1min 31s\n"
     ]
    }
   ],
   "source": [
    "%%time\n",
    "k_max = len(listdir(path0+str(0).zfill(2)))\n",
    "if __name__ == '__main__':\n",
    "    num_processors = 8\n",
    "    p = Pool(processes = num_processors)\n",
    "    output = p.map(test.parallel_save,[i for i in range(0,k_max)])\n",
    "    #print(output)\n",
    "#test.parallel_save(path,file_name)\n",
    "concatenate()"
   ]
  },
  {
   "cell_type": "markdown",
   "metadata": {},
   "source": [
    "concatinating individual videos for final video     "
   ]
  },
  {
   "cell_type": "code",
   "execution_count": 11,
   "metadata": {},
   "outputs": [],
   "source": [
    "def parallel_save(i):\n",
    "    vmin_mul = 0\n",
    "    vmax_mul = 1\n",
    "    fig, axes = plt.subplots(nrows=1, ncols=1)\n",
    "    filename = '-4mA_100kHz_1s_5pr_Hour_00_Minute_00_'+'Second_'+str(i).zfill(2)+'_'\n",
    "    FFMpegWriter = animation.writers['ffmpeg']\n",
    "    metadata = dict(title=path, artist='J.Vas')\n",
    "    writer = FFMpegWriter(fps=25, metadata=metadata, bitrate=200)\n",
    "    k_max = len(listdir('Hour_00/Minute_00/Second_'+str(i).zfill(2)))\n",
    "    targetfile = 'second'+str(i).zfill(2)+'.mp4'\n",
    "    with writer.saving(fig, targetfile, dpi=200):\n",
    "        for k in range(0, k_max):\n",
    "            TEM = hs.load(path + str(i).zfill(2)+'/'+filename+'Frame_00' + str(k).zfill(2) + '.dm4')\n",
    "            if np.max(TEM.data) - np.min(TEM.data) > 0:\n",
    "                TEM = ndimage.rotate(TEM, 250, reshape=False)\n",
    "                TEM = TEM[300:3700, 750:3100]\n",
    "                im = axes.imshow(ndimage.gaussian_filter(TEM.data, 6), cmap='gray', \\\n",
    "                                         vmin=vmin_mul * np.mean(TEM.data), vmax=vmax_mul * np.mean(TEM.data))\n",
    "                print('Hour_00/Minute_00' + '/' + 'Second_' + str(i).zfill(2) + '/Frame' + str(k).zfill(2))\n",
    "                axes.set_yticklabels([])\n",
    "                axes.set_xticklabels([])\n",
    "                plt.ioff()\n",
    "                plt.xticks([])\n",
    "                plt.yticks([])\n",
    "                plt.hlines(2900, 325, 665)\n",
    "                plt.text(328, 2800, '1 ' + u\"\\u03bcm\")\n",
    "                writer.grab_frame()"
   ]
  },
  {
   "cell_type": "code",
   "execution_count": 12,
   "metadata": {},
   "outputs": [
    {
     "name": "stdout",
     "output_type": "stream",
     "text": [
      "['temp1.ts']\n"
     ]
    }
   ],
   "source": [
    "concatenate()"
   ]
  },
  {
   "cell_type": "code",
   "execution_count": null,
   "metadata": {},
   "outputs": [],
   "source": []
  }
 ],
 "metadata": {
  "kernelspec": {
   "display_name": "Python 3",
   "language": "python",
   "name": "python3"
  },
  "language_info": {
   "codemirror_mode": {
    "name": "ipython",
    "version": 3
   },
   "file_extension": ".py",
   "mimetype": "text/x-python",
   "name": "python",
   "nbconvert_exporter": "python",
   "pygments_lexer": "ipython3",
   "version": "3.8.5"
  }
 },
 "nbformat": 4,
 "nbformat_minor": 4
}
