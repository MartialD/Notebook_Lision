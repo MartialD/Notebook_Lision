{
 "cells": [
  {
   "cell_type": "code",
   "execution_count": 1,
   "metadata": {},
   "outputs": [
    {
     "name": "stderr",
     "output_type": "stream",
     "text": [
      "WARNING:hyperspy_gui_traitsui:The module://ipykernel.pylab.backend_inline matplotlib backend is not compatible with the traitsui GUI elements. For more information, read http://hyperspy.readthedocs.io/en/stable/user_guide/getting_started.html#possible-warnings-when-importing-hyperspy.\n",
      "WARNING:hyperspy_gui_traitsui:The traitsui GUI elements are not available.\n"
     ]
    }
   ],
   "source": [
    "#import sys\n",
    "#sys.path.insert(0, \"/home/martial/Data/programs/Github/hyperspy_T/\")\n",
    "import hyperspy.api as hs"
   ]
  },
  {
   "cell_type": "code",
   "execution_count": 2,
   "metadata": {},
   "outputs": [],
   "source": [
    "import numpy as np\n",
    "import matplotlib.pyplot as plt"
   ]
  },
  {
   "cell_type": "code",
   "execution_count": 3,
   "metadata": {},
   "outputs": [],
   "source": [
    "%matplotlib qt5"
   ]
  },
  {
   "cell_type": "code",
   "execution_count": 4,
   "metadata": {},
   "outputs": [],
   "source": [
    "input_file_name = '../../Demo_data/SAED_02'\n",
    "input_file_extension = '.dm4'\n",
    "data_file = hs.load(input_file_name+input_file_extension)"
   ]
  },
  {
   "cell_type": "code",
   "execution_count": 5,
   "metadata": {},
   "outputs": [],
   "source": [
    "data_file.plot()"
   ]
  },
  {
   "cell_type": "code",
   "execution_count": 8,
   "metadata": {},
   "outputs": [
    {
     "data": {
      "text/html": [
       "<style>\n",
       "table, th, td {\n",
       "\tborder: 1px solid black;\n",
       "\tborder-collapse: collapse;\n",
       "}\n",
       "th, td {\n",
       "\tpadding: 5px;\n",
       "}\n",
       "</style>\n",
       "<p><b>< Axes manager, axes: (|4096, 4096) ></b></p>\n",
       "<table style='width:100%'>\n",
       "\n",
       "<tr> \n",
       "<th>Signal axis name</th> \n",
       "<th>size</th> \n",
       "<th>offset</th> \n",
       "<th>scale</th> \n",
       "<th>units</th> </tr>\n",
       "<tr> \n",
       "<td>x</td> \n",
       "<td>4096</td> \n",
       "<td>-0.0</td> \n",
       "<td>0.010874038562178612</td> \n",
       "<td>1/nm</td> </tr>\n",
       "<tr> \n",
       "<td>y</td> \n",
       "<td>4096</td> \n",
       "<td>-0.0</td> \n",
       "<td>0.010874038562178612</td> \n",
       "<td>1/nm</td> </tr></table>\n"
      ],
      "text/plain": [
       "<Axes manager, axes: (|4096, 4096)>\n",
       "            Name |   size |  index |  offset |   scale |  units \n",
       "================ | ====== | ====== | ======= | ======= | ====== \n",
       "---------------- | ------ | ------ | ------- | ------- | ------ \n",
       "               x |   4096 |        |      -0 |   0.011 |   1/nm \n",
       "               y |   4096 |        |      -0 |   0.011 |   1/nm "
      ]
     },
     "execution_count": 8,
     "metadata": {},
     "output_type": "execute_result"
    }
   ],
   "source": [
    "data_file.axes_manager"
   ]
  },
  {
   "cell_type": "code",
   "execution_count": null,
   "metadata": {},
   "outputs": [],
   "source": [
    "#initialize the center coordinates in signal units\n",
    "Center_coor = (21.26, 22.45)\n",
    "Center_coor[0]"
   ]
  },
  {
   "cell_type": "code",
   "execution_count": null,
   "metadata": {},
   "outputs": [],
   "source": [
    "#Initilize data average filled with 0 values.\n",
    "data_average = hs.signals.Signal1D(np.zeros((np.int(data_file.data.shape[0])),dtype=float))\n",
    "data_average.axes_manager[0].scale = data_file.axes_manager[0].scale\n",
    "data_average.axes_manager[0].units = data_file.axes_manager[0].units"
   ]
  },
  {
   "cell_type": "code",
   "execution_count": null,
   "metadata": {},
   "outputs": [],
   "source": [
    "data_average.axes_manager"
   ]
  },
  {
   "cell_type": "code",
   "execution_count": null,
   "metadata": {},
   "outputs": [],
   "source": [
    "# calculate the rotational average in k-space (1/nm units)\n",
    "Center_coor_px = (np.int(Center_coor[0]/data_file.axes_manager[0].scale),\\\n",
    "                  np.int(Center_coor[1]/data_file.axes_manager[0].scale))\n",
    "\n",
    "for x in range( data_file.axes_manager[0].size ):\n",
    "    for y in range( data_file.axes_manager[1].size ):\n",
    "        data_average.data[np.int(np.sqrt((x-Center_coor_px[0])**2+(y-Center_coor_px[1])**2))]= \\\n",
    "        +data_average.data[np.int(np.sqrt((x-Center_coor_px[0])**2+(y-Center_coor_px[1])**2))]\\\n",
    "        +data_file.data[x,y]"
   ]
  },
  {
   "cell_type": "code",
   "execution_count": null,
   "metadata": {},
   "outputs": [],
   "source": [
    "#Only the k-space only goes up to data_file size/2 (as k=0 is about at the center of the image)\n",
    "#Can be improved by considering the center of the SAED\n",
    "data_average.crop_signal1D([0,np.int(data_file.data.shape[0]/2)])"
   ]
  },
  {
   "cell_type": "code",
   "execution_count": null,
   "metadata": {},
   "outputs": [],
   "source": [
    "lambda_Xray = 0.154059 #nm for 200kV"
   ]
  },
  {
   "cell_type": "code",
   "execution_count": null,
   "metadata": {},
   "outputs": [],
   "source": [
    "#data_average.save('data_average_pos009.hdf5')\n",
    "#data_average = hs.load('data_average_pos009.hdf5')"
   ]
  },
  {
   "cell_type": "code",
   "execution_count": null,
   "metadata": {},
   "outputs": [],
   "source": [
    "data_average.plot()"
   ]
  },
  {
   "cell_type": "code",
   "execution_count": null,
   "metadata": {},
   "outputs": [],
   "source": [
    "data_average_2theta = hs.signals.Signal1D(np.zeros(((2,np.int(data_file.data.shape[0]))),dtype=float))\n",
    "#initilize data_average_2theta so data_average_2theta now is like empty with only zero values. "
   ]
  },
  {
   "cell_type": "code",
   "execution_count": null,
   "metadata": {},
   "outputs": [],
   "source": [
    "data_average_2theta.axes_manager[1].scale = 0.05\n",
    "data_average_2theta.axes_manager[1].units = '2_theta'"
   ]
  },
  {
   "cell_type": "code",
   "execution_count": null,
   "metadata": {},
   "outputs": [],
   "source": [
    "data_average_2theta.axes_manager"
   ]
  },
  {
   "cell_type": "code",
   "execution_count": null,
   "metadata": {},
   "outputs": [],
   "source": [
    "# Transform the k-space coordinates in 2_theta coordinates\n",
    "\n",
    "for x in range( data_average.axes_manager[0].size ):\n",
    "    k_x = (x+data_average.axes_manager[0].offset)*data_average.axes_manager[0].scale\n",
    "    if(k_x*lambda_Xray/2<1):\n",
    "        theta_2_x = 2*np.arcsin(k_x*lambda_Xray/2)*(180/np.pi)\n",
    "    elif(theta_2_x>data_average_2theta.data.shape[0]):\n",
    "        break\n",
    "    else:\n",
    "        break\n",
    "    data_average_2theta.data[0,np.int(np.round(theta_2_x/data_average_2theta.axes_manager[1].scale))]\\\n",
    "    =data_average_2theta.data[0,np.int(np.round(theta_2_x/data_average_2theta.axes_manager[1].scale))]\\\n",
    "    +data_average.data[x]\n",
    "    data_average_2theta.data[1,np.int(np.round(theta_2_x/data_average_2theta.axes_manager[1].scale))]\\\n",
    "    =data_average_2theta.data[1,np.int(np.round(theta_2_x/data_average_2theta.axes_manager[1].scale))]\\\n",
    "    +1\n",
    "\n",
    "for x in range(data_average_2theta.axes_manager[0].size ):\n",
    "    if(data_average_2theta.data[1,x]!=0):\n",
    "        data_average_2theta.data[0,x]=data_average_2theta.data[0,x]/data_average_2theta.data[1,x]"
   ]
  },
  {
   "cell_type": "code",
   "execution_count": null,
   "metadata": {},
   "outputs": [],
   "source": [
    "data_average_2theta.crop_signal1D(left_value=6., right_value=70.)\n",
    "#get data ranges from 6 to 70 only crop of the [0] or the [1] axis "
   ]
  },
  {
   "cell_type": "markdown",
   "metadata": {},
   "source": [
    "for x in range(data_average_2theta.axes_manager[1].size ):\n",
    "    if(data_average_2theta.data[0,x]<0.1):\n",
    "        if(data_average_2theta.data[0,x+1]>0.1):\n",
    "            data_average_2theta.data[0,x]=(data_average_2theta.data[0,x-1]+data_average_2theta.data[0,x+1])/2\n",
    "        elif(data_average_2theta.data[0,x+2]>0.1):\n",
    "            data_average_2theta.data[0,x]=(data_average_2theta.data[0,x-1]+data_average_2theta.data[0,x+2])/2\n",
    "        else:\n",
    "            print(x)"
   ]
  },
  {
   "cell_type": "code",
   "execution_count": null,
   "metadata": {},
   "outputs": [],
   "source": [
    "\n",
    "for x in range(data_average_2theta.axes_manager[1].size ):\n",
    "    if(data_average_2theta.data[0,x]<0.1):\n",
    "        j=0\n",
    "        while((x+j)<(data_average_2theta.axes_manager[1].size-1) and data_average_2theta.data[0,x+j]<0.1):\n",
    "            #condition: x is not out of range and the data at [0,x+j]<0.1\n",
    "            if (x+j<data_average_2theta.axes_manager[1].size):\n",
    "                data_average_2theta.data[0,x]= \\\n",
    "                (data_average_2theta.data[0,x-1]+data_average_2theta.data[0,x+j+1])/2\n",
    "            else:\n",
    "                while (x<data_average_2theta.axes_manager[1].size):\n",
    "                    data_average_2theta.data[0,x]=data_average_2theta.data[0,x-1]\n",
    "                    x=x+1\n",
    "                break\n",
    "            j=j+1\n",
    "        x=x+j\n",
    "# why do we have to average like this? "
   ]
  },
  {
   "cell_type": "code",
   "execution_count": null,
   "metadata": {},
   "outputs": [],
   "source": [
    "data_average_2theta_sum = hs.signals.Signal1D( \\\n",
    "    np.zeros(((np.int(data_average_2theta.axes_manager[1].size))),dtype=float))\n",
    "data_average_2theta_sum.axes_manager[0].scale = data_average_2theta.axes_manager[1].scale\n",
    "data_average_2theta_sum.axes_manager[0].units = data_average_2theta.axes_manager[1].units\n",
    "data_average_2theta_sum.axes_manager[0].offset = data_average_2theta.axes_manager[1].offset"
   ]
  },
  {
   "cell_type": "code",
   "execution_count": null,
   "metadata": {},
   "outputs": [],
   "source": [
    "data_average_2theta_sum.data[:] = data_average_2theta.data[0,:]"
   ]
  },
  {
   "cell_type": "code",
   "execution_count": null,
   "metadata": {},
   "outputs": [],
   "source": [
    "data_average_2theta_sum.plot()"
   ]
  },
  {
   "cell_type": "code",
   "execution_count": null,
   "metadata": {},
   "outputs": [],
   "source": [
    "#data_average_2theta_sum.save(input_file_name+'.hdf5')"
   ]
  },
  {
   "cell_type": "code",
   "execution_count": null,
   "metadata": {},
   "outputs": [],
   "source": [
    "#### Plot XRD lines calculated from Vesta"
   ]
  },
  {
   "cell_type": "code",
   "execution_count": null,
   "metadata": {},
   "outputs": [],
   "source": [
    "XRD_4124388 = hs.signals.Signal1D(np.zeros(((2,500)),dtype=float))\n",
    "with open('4124388.txt') as f:\n",
    "    data = f.readlines()\n",
    "\n",
    "i=0\n",
    "for line in data:\n",
    "    words = line.split()\n",
    "    if (i>0):\n",
    "        XRD_4124388.data[0,i] = np.float(words[7])\n",
    "        XRD_4124388.data[1,i] = np.float(words[8])\n",
    "    i=i+1\n",
    "#what is words[7]?"
   ]
  },
  {
   "cell_type": "code",
   "execution_count": null,
   "metadata": {},
   "outputs": [],
   "source": [
    "XRD_PbI2 = hs.signals.Signal1D(np.zeros(((2,500)),dtype=float))\n",
    "with open('PbI2_P-3m1.txt') as f:\n",
    "    data = f.readlines()\n",
    "\n",
    "i=0\n",
    "for line in data:\n",
    "    words = line.split()\n",
    "    if (i>0):\n",
    "        XRD_PbI2.data[0,i] = np.float(words[7])\n",
    "        XRD_PbI2.data[1,i] = np.float(words[8])\n",
    "    i=i+1"
   ]
  },
  {
   "cell_type": "code",
   "execution_count": null,
   "metadata": {},
   "outputs": [],
   "source": [
    "theta_2_x"
   ]
  },
  {
   "cell_type": "code",
   "execution_count": null,
   "metadata": {},
   "outputs": [],
   "source": [
    "theta_2_x = np.zeros(data_average_2theta_sum.data.size, float)\n",
    "theta_2_x = np.linspace(data_average_2theta_sum.axes_manager[0].offset, \\\n",
    "            #data_average_2theta_sum.axes_manager[0].scale*data_average_2theta_sum.axes_manager[0].size \\\n",
    "            0.051*data_average_2theta_sum.axes_manager[0].size \\\n",
    "            +data_average_2theta_sum.axes_manager[0].offset, \\\n",
    "            data_average_2theta_sum.data.size, float)\n",
    "#generating theta 2x from offset to 0.051*size+offset with the number of points = size\n",
    "\n",
    "plt.plot(theta_2_x[:], data_average_2theta_sum.data[:]/np.max(data_average_2theta_sum.data[:]), \\\n",
    "         'bo', ms =1)\n",
    "#why do we need to divide by the max? \n",
    "#this is to draw the line at?\n",
    "x=0\n",
    "while(XRD_4124388.data[0,x]<theta_2_x.data[-1]):\n",
    "    plt.axvline(x=XRD_4124388.data[0,x],ymax=XRD_4124388.data[1,x]/np.max(XRD_4124388.data[1,:]),\\\n",
    "                color='blue')\n",
    "    x=x+1\n",
    "    \n",
    "x=0\n",
    "while(XRD_PbI2.data[0,x]<theta_2_x.data[-1]):\n",
    "    plt.axvline(x=XRD_PbI2.data[0,x],ymax=XRD_PbI2.data[1,x]/np.max(XRD_PbI2.data[1,:]),\\\n",
    "                color='red')\n",
    "    x=x+1\n",
    "    \n",
    "plt.savefig( input_file_name +\".png\", dpi=150)"
   ]
  },
  {
   "cell_type": "code",
   "execution_count": null,
   "metadata": {},
   "outputs": [],
   "source": []
  }
 ],
 "metadata": {
  "anaconda-cloud": {},
  "kernelspec": {
   "display_name": "Python 3",
   "language": "python",
   "name": "python3"
  },
  "language_info": {
   "codemirror_mode": {
    "name": "ipython",
    "version": 3
   },
   "file_extension": ".py",
   "mimetype": "text/x-python",
   "name": "python",
   "nbconvert_exporter": "python",
   "pygments_lexer": "ipython3",
   "version": "3.8.5"
  }
 },
 "nbformat": 4,
 "nbformat_minor": 2
}
