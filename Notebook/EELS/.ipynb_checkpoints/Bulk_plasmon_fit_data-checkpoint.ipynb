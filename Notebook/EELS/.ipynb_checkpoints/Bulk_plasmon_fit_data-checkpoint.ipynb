{
 "cells": [
  {
   "cell_type": "markdown",
   "metadata": {},
   "source": [
    "# ERCPy: 2D Gaussian fit demonstration notebook"
   ]
  },
  {
   "cell_type": "markdown",
   "metadata": {},
   "source": [
    "#### by Martial Duchamp\n",
    "Laboratory for in situ and operando nanoscopy\n",
    "Nanyang Technological University\n",
    "mduchamp@ntu.edu.sg"
   ]
  },
  {
   "cell_type": "markdown",
   "metadata": {},
   "source": [
    "### Absract:\n",
    "The notebook demonstrates usage of the bulk plasmon function to fit EELS spectra."
   ]
  },
  {
   "cell_type": "markdown",
   "metadata": {},
   "source": [
    "## Preamble:"
   ]
  },
  {
   "cell_type": "markdown",
   "metadata": {},
   "source": [
    "#### Plotting outside the notebook to enable interactions with user:"
   ]
  },
  {
   "cell_type": "code",
   "execution_count": 1,
   "metadata": {
    "scrolled": false
   },
   "outputs": [],
   "source": [
    "%matplotlib qt5"
   ]
  },
  {
   "cell_type": "code",
   "execution_count": 2,
   "metadata": {},
   "outputs": [
    {
     "name": "stderr",
     "output_type": "stream",
     "text": [
      "/root/anaconda3/lib/python3.8/site-packages/pyUSID/viz/__init__.py:16: FutureWarning: Please use sidpy.viz.plot_utils instead of pyUSID.viz.plot_utils. pyUSID.plot_utils will be removed in a future release of pyUSID\n",
      "  warn('Please use sidpy.viz.plot_utils instead of pyUSID.viz.plot_utils. '\n"
     ]
    }
   ],
   "source": [
    "import hyperspy.api as hs"
   ]
  },
  {
   "cell_type": "code",
   "execution_count": 3,
   "metadata": {},
   "outputs": [],
   "source": [
    "import os\n",
    "import scipy as sc\n",
    "import numpy as np"
   ]
  },
  {
   "cell_type": "code",
   "execution_count": 4,
   "metadata": {},
   "outputs": [],
   "source": [
    "import matplotlib.pyplot as plt"
   ]
  },
  {
   "cell_type": "markdown",
   "metadata": {},
   "source": [
    "## Loading data:"
   ]
  },
  {
   "cell_type": "code",
   "execution_count": 5,
   "metadata": {
    "collapsed": true
   },
   "outputs": [],
   "source": [
    "path=\"/home/martial/Data/Divers_Project_NTU/Paloma/Test_fitting/\""
   ]
  },
  {
   "cell_type": "code",
   "execution_count": 6,
   "metadata": {
    "collapsed": true
   },
   "outputs": [],
   "source": [
    "file_name=\"9039.dm3\"\n",
    "specImg = hs.load(path+file_name)"
   ]
  },
  {
   "cell_type": "markdown",
   "metadata": {},
   "source": [
    "#### Plotting:"
   ]
  },
  {
   "cell_type": "code",
   "execution_count": 7,
   "metadata": {
    "collapsed": true
   },
   "outputs": [],
   "source": [
    "#Crop spatially, if needed\n",
    "specImg.crop(0, 1.,9.)\n",
    "specImg.crop(1, 4.,12.)"
   ]
  },
  {
   "cell_type": "code",
   "execution_count": 8,
   "metadata": {
    "collapsed": true
   },
   "outputs": [],
   "source": [
    "specImg.plot()"
   ]
  },
  {
   "cell_type": "raw",
   "metadata": {
    "collapsed": true
   },
   "source": [
    "#Create a new folder to store your data\n",
    "analyse_folder = path+\"2DGaussian_fit_folder\"\n",
    "if not os.path.exists(analyse_folder): os.makedirs(analyse_folder)"
   ]
  },
  {
   "cell_type": "markdown",
   "metadata": {
    "collapsed": true,
    "scrolled": true
   },
   "source": [
    "#remove the calibration, then the coordinates are given in pixel in the plot\n",
    "min_specImg.axes_manager.show();\n",
    "#Use the GUI to set scale=1 and origin=0 for both x and y"
   ]
  },
  {
   "cell_type": "markdown",
   "metadata": {
    "collapsed": true
   },
   "source": [
    "#remove the calibration, then the coordinates are given in pixel in the plot\n",
    "specImg.axes_manager.show();\n",
    "#Use the GUI to set scale=1 and origin=0 for both x and y"
   ]
  },
  {
   "cell_type": "markdown",
   "metadata": {},
   "source": [
    "#### Curve fitting"
   ]
  },
  {
   "cell_type": "code",
   "execution_count": 5,
   "metadata": {},
   "outputs": [],
   "source": [
    "from scipy.optimize import curve_fit\n",
    "import scipy.optimize as opt"
   ]
  },
  {
   "cell_type": "code",
   "execution_count": 17,
   "metadata": {
    "collapsed": true
   },
   "outputs": [],
   "source": [
    "def V_bulk(xo, para):\n",
    "    a = para[0]\n",
    "    b = para[1]\n",
    "    c = para[2]\n",
    "    E_p = para[3]\n",
    "    Delta_E_p = para[4]\n",
    "    xo = float(xo)\n",
    "   \n",
    "    I = a*x/((xo**2-E_p**2)**2+(Delta_E_pta_E_P*xo)**2) + b*xo+c    \n",
    "    return I"
   ]
  },
  {
   "cell_type": "code",
   "execution_count": 6,
   "metadata": {},
   "outputs": [],
   "source": [
    "#Define the twoD_Gaussian for fitting ONLY\n",
    "def V_bulk_f_fit(xo, para):\n",
    "    a = para[0]\n",
    "    b = para[1]\n",
    "    c = para[2]\n",
    "    E_p = para[3]\n",
    "    Delta_E_p = para[4]\n",
    "    xo = float(xo)\n",
    "   \n",
    "    I = a*x/((xo**2-E_p**2)**2+(Delta_E_pta_E_P*xo)**2) + b*xo+c    \n",
    "    return I.ravel()\n",
    "\n",
    "def V_bulk_fit(exp_data):\n",
    "    a = np.max(exp_data)\n",
    "    b = 0\n",
    "    c = 0\n",
    "    E_p = np.argmax(exp_data)\n",
    "    Delta_E_p =  E_p = np.max(exp_data)/5\n",
    "    initial_guess = (a, b, c, E_p, Delta_E_p)\n",
    "    \n",
    "    # Create x and y indices\n",
    "    x = np.linspace(0, np.shape(exp_data)[0], np.shape(exp_data)[0])\n",
    "    u = np.meshgrid(x) \n",
    "\n",
    "    popt, pcov = opt.curve_fit(V_bulk_f_fit, u, exp_data.ravel(), p0=initial_guess, maxfev=5000)\n",
    "    \n",
    "    return popt"
   ]
  },
  {
   "cell_type": "code",
   "execution_count": 18,
   "metadata": {
    "collapsed": true
   },
   "outputs": [],
   "source": [
    "#Define the twoD_Gaussian for fitting ONLY\n",
    "def Gaussian_2D(u, amplitude, xo, yo, sigma, offset):\n",
    "        x = u[0]\n",
    "        y = u[1]\n",
    "        xo = float(xo)\n",
    "        yo = float(yo)    \n",
    "        a = 1/(2*float(sigma)**2)\n",
    "        g = offset + amplitude*np.exp( - (a*((x-xo)**2) + a*((y-yo)**2)))    \n",
    "        return g.ravel()\n",
    "\n",
    "def twoD_Gaussian_fit(exp_data):\n",
    "    amplitude = np.std(exp_data) #- is minimun are fitted\n",
    "    xo = np.shape(exp_data)[0]/2\n",
    "    yo = np.shape(exp_data)[1]/2\n",
    "    sigma = (np.shape(exp_data)[0]+np.shape(exp_data)[1])/10\n",
    "    offset = np.mean(exp_data)\n",
    "    initial_guess = (amplitude, xo, yo, sigma, offset)\n",
    "    \n",
    "    # Create x and y indices\n",
    "    x = np.linspace(0, np.shape(exp_data)[0], np.shape(exp_data)[0])\n",
    "    y = np.linspace(0, np.shape(exp_data)[1], np.shape(exp_data)[1])\n",
    "    u = np.meshgrid(x, y) \n",
    "\n",
    "    popt, pcov = opt.curve_fit(Gaussian_2D, u, exp_data.ravel(), p0=initial_guess, maxfev=5000)\n",
    "    \n",
    "    return popt"
   ]
  },
  {
   "cell_type": "code",
   "execution_count": 19,
   "metadata": {},
   "outputs": [
    {
     "name": "stderr",
     "output_type": "stream",
     "text": [
      "/home/martial/anaconda3/lib/python3.5/site-packages/scipy/optimize/minpack.py:715: OptimizeWarning: Covariance of the parameters could not be estimated\n",
      "  category=OptimizeWarning)\n"
     ]
    }
   ],
   "source": [
    "# The fit_around_px value has to be adjusted to get proper fitting\n",
    "fit_around_px = 15 #Define the fitting area around xo, yo\n",
    "nbr_para_fit = 5 #Number of parameters to be fitted\n",
    "\n",
    "#Np.array with the results from the 2D Gaussian fit\n",
    "fit_values = im = hs.signals.Signal2D(np.zeros((specImg.shape[0], nbr_para_fit), dtype=np.float32))\n",
    "\n",
    "for i in range(0,specImg.size()):\n",
    "    fit_values.data[i]=twoD_Gaussian_fit(specImg.data[i])\n",
    "    i=i+1\n",
    "\n",
    "\n",
    "#for i in range (0,point_center.shape[0]-1):\n",
    "#    max_fit_specImg.data[int(point_center[i,0]+fit_values[i,2]-fit_around_px),int(point_center[i,1]+fit_values[i,1]-fit_around_px)]=1000.0"
   ]
  },
  {
   "cell_type": "code",
   "execution_count": 31,
   "metadata": {},
   "outputs": [
    {
     "data": {
      "text/plain": [
       "1001"
      ]
     },
     "execution_count": 31,
     "metadata": {},
     "output_type": "execute_result"
    }
   ],
   "source": [
    "i"
   ]
  },
  {
   "cell_type": "code",
   "execution_count": 20,
   "metadata": {
    "collapsed": true
   },
   "outputs": [],
   "source": [
    "max_fit_specImg.plot();"
   ]
  },
  {
   "cell_type": "code",
   "execution_count": 23,
   "metadata": {
    "collapsed": true
   },
   "outputs": [],
   "source": [
    "# The fit_around_px value has to be adjusted to get proper fitting\n",
    "fit_around_px = 20 #Define the fitting area around xo, yo\n",
    "nbr_para_fit = 5 #Number of parameters to be fitted\n",
    "\n",
    "#Np.array with the results from the 2D Gaussian fit\n",
    "fit_values = np.zeros((point_center.shape[0], nbr_para_fit), dtype=np.float32)\n",
    "fit_values[:] = 0\n",
    "#exp_data = np.zeros((2*fit_around_px, 2*fit_around_px), dtype=np.float32)\n",
    "\n",
    "for i in range(0,point_center.shape[0]-1):\n",
    "    exp_data=specImg.data[point_center[i,0]-fit_around_px:point_center[i,0]+fit_around_px+1,point_center[i,1]-fit_around_px:point_center[i,1]+fit_around_px+1]\n",
    "    fit_values[i]=twoD_Gaussian_fit(exp_data)\n",
    "    i=i+1\n",
    "    \n",
    "#Copy of the specImg, where the local min/max will be stored\n",
    "max_fit_specImg = specImg.deepcopy()\n",
    "max_fit_specImg.change_dtype('float32')\n",
    "max_fit_specImg.data[:,:]=0.0\n",
    "\n",
    "for i in range (0,point_center.shape[0]-1):\n",
    "    max_fit_specImg.data[int(point_center[i,0]+fit_values[i,2]-fit_around_px),int(point_center[i,1]+fit_values[i,1]-fit_around_px)]=1000.0"
   ]
  },
  {
   "cell_type": "code",
   "execution_count": 24,
   "metadata": {},
   "outputs": [
    {
     "name": "stderr",
     "output_type": "stream",
     "text": [
      "Traceback (most recent call last):\n",
      "  File \"/home/martial/anaconda3/lib/python3.5/site-packages/matplotlib/backends/backend_qt5.py\", line 519, in _draw_idle\n",
      "    self.draw()\n",
      "  File \"/home/martial/anaconda3/lib/python3.5/site-packages/matplotlib/backends/backend_agg.py\", line 433, in draw\n",
      "    self.figure.draw(self.renderer)\n",
      "  File \"/home/martial/anaconda3/lib/python3.5/site-packages/matplotlib/artist.py\", line 55, in draw_wrapper\n",
      "    return draw(artist, renderer, *args, **kwargs)\n",
      "  File \"/home/martial/anaconda3/lib/python3.5/site-packages/matplotlib/figure.py\", line 1475, in draw\n",
      "    renderer, self, artists, self.suppressComposite)\n",
      "  File \"/home/martial/anaconda3/lib/python3.5/site-packages/matplotlib/image.py\", line 141, in _draw_list_compositing_images\n",
      "    a.draw(renderer)\n",
      "  File \"/home/martial/anaconda3/lib/python3.5/site-packages/matplotlib/artist.py\", line 55, in draw_wrapper\n",
      "    return draw(artist, renderer, *args, **kwargs)\n",
      "  File \"/home/martial/anaconda3/lib/python3.5/site-packages/matplotlib/axes/_base.py\", line 2607, in draw\n",
      "    mimage._draw_list_compositing_images(renderer, self, artists)\n",
      "  File \"/home/martial/anaconda3/lib/python3.5/site-packages/matplotlib/image.py\", line 141, in _draw_list_compositing_images\n",
      "    a.draw(renderer)\n",
      "  File \"/home/martial/anaconda3/lib/python3.5/site-packages/matplotlib/artist.py\", line 55, in draw_wrapper\n",
      "    return draw(artist, renderer, *args, **kwargs)\n",
      "  File \"/home/martial/anaconda3/lib/python3.5/site-packages/matplotlib/image.py\", line 593, in draw\n",
      "    renderer, renderer.get_image_magnification())\n",
      "  File \"/home/martial/anaconda3/lib/python3.5/site-packages/matplotlib/image.py\", line 841, in make_image\n",
      "    unsampled=unsampled)\n",
      "  File \"/home/martial/anaconda3/lib/python3.5/site-packages/matplotlib/image.py\", line 309, in _make_image\n",
      "    clipped_bbox = Bbox.intersection(out_bbox, clip_bbox)\n",
      "  File \"/home/martial/anaconda3/lib/python3.5/site-packages/matplotlib/transforms.py\", line 759, in intersection\n",
      "    x0 = np.maximum(bbox1.xmin, bbox2.xmin)\n",
      "  File \"/home/martial/anaconda3/lib/python3.5/site-packages/matplotlib/transforms.py\", line 355, in xmin\n",
      "    return np.min(self.get_points()[:, 0])\n",
      "  File \"/home/martial/anaconda3/lib/python3.5/site-packages/matplotlib/transforms.py\", line 1082, in get_points\n",
      "    [p[1, 0], p[1, 1]]])\n",
      "  File \"/home/martial/anaconda3/lib/python3.5/site-packages/matplotlib/transforms.py\", line 1446, in transform\n",
      "    res = self.transform_affine(self.transform_non_affine(values))\n",
      "  File \"/home/martial/anaconda3/lib/python3.5/site-packages/matplotlib/transforms.py\", line 2482, in transform_affine\n",
      "    return self.get_affine().transform(points)\n",
      "  File \"/home/martial/anaconda3/lib/python3.5/site-packages/matplotlib/transforms.py\", line 2509, in get_affine\n",
      "    return Affine2D(np.dot(self._b.get_affine().get_matrix(),\n",
      "  File \"/home/martial/anaconda3/lib/python3.5/site-packages/matplotlib/transforms.py\", line 2510, in get_affine\n",
      "    self._a.get_affine().get_matrix()))\n",
      "  File \"/home/martial/anaconda3/lib/python3.5/site-packages/matplotlib/transforms.py\", line 1929, in __init__\n",
      "    Affine2DBase.__init__(self, **kwargs)\n",
      "RecursionError: maximum recursion depth exceeded\n",
      "Traceback (most recent call last):\n",
      "  File \"/home/martial/anaconda3/lib/python3.5/site-packages/matplotlib/backends/backend_qt5.py\", line 519, in _draw_idle\n",
      "    self.draw()\n",
      "  File \"/home/martial/anaconda3/lib/python3.5/site-packages/matplotlib/backends/backend_agg.py\", line 433, in draw\n",
      "    self.figure.draw(self.renderer)\n",
      "  File \"/home/martial/anaconda3/lib/python3.5/site-packages/matplotlib/artist.py\", line 55, in draw_wrapper\n",
      "    return draw(artist, renderer, *args, **kwargs)\n",
      "  File \"/home/martial/anaconda3/lib/python3.5/site-packages/matplotlib/figure.py\", line 1475, in draw\n",
      "    renderer, self, artists, self.suppressComposite)\n",
      "  File \"/home/martial/anaconda3/lib/python3.5/site-packages/matplotlib/image.py\", line 141, in _draw_list_compositing_images\n",
      "    a.draw(renderer)\n",
      "  File \"/home/martial/anaconda3/lib/python3.5/site-packages/matplotlib/artist.py\", line 55, in draw_wrapper\n",
      "    return draw(artist, renderer, *args, **kwargs)\n",
      "  File \"/home/martial/anaconda3/lib/python3.5/site-packages/matplotlib/axes/_base.py\", line 2607, in draw\n",
      "    mimage._draw_list_compositing_images(renderer, self, artists)\n",
      "  File \"/home/martial/anaconda3/lib/python3.5/site-packages/matplotlib/image.py\", line 141, in _draw_list_compositing_images\n",
      "    a.draw(renderer)\n",
      "  File \"/home/martial/anaconda3/lib/python3.5/site-packages/matplotlib/artist.py\", line 55, in draw_wrapper\n",
      "    return draw(artist, renderer, *args, **kwargs)\n",
      "  File \"/home/martial/anaconda3/lib/python3.5/site-packages/matplotlib/image.py\", line 593, in draw\n",
      "    renderer, renderer.get_image_magnification())\n",
      "  File \"/home/martial/anaconda3/lib/python3.5/site-packages/matplotlib/image.py\", line 841, in make_image\n",
      "    unsampled=unsampled)\n",
      "  File \"/home/martial/anaconda3/lib/python3.5/site-packages/matplotlib/image.py\", line 309, in _make_image\n",
      "    clipped_bbox = Bbox.intersection(out_bbox, clip_bbox)\n",
      "  File \"/home/martial/anaconda3/lib/python3.5/site-packages/matplotlib/transforms.py\", line 759, in intersection\n",
      "    x0 = np.maximum(bbox1.xmin, bbox2.xmin)\n",
      "  File \"/home/martial/anaconda3/lib/python3.5/site-packages/matplotlib/transforms.py\", line 355, in xmin\n",
      "    return np.min(self.get_points()[:, 0])\n",
      "  File \"/home/martial/anaconda3/lib/python3.5/site-packages/matplotlib/transforms.py\", line 1082, in get_points\n",
      "    [p[1, 0], p[1, 1]]])\n",
      "  File \"/home/martial/anaconda3/lib/python3.5/site-packages/matplotlib/transforms.py\", line 1446, in transform\n",
      "    res = self.transform_affine(self.transform_non_affine(values))\n",
      "  File \"/home/martial/anaconda3/lib/python3.5/site-packages/matplotlib/transforms.py\", line 2482, in transform_affine\n",
      "    return self.get_affine().transform(points)\n",
      "  File \"/home/martial/anaconda3/lib/python3.5/site-packages/matplotlib/transforms.py\", line 2509, in get_affine\n",
      "    return Affine2D(np.dot(self._b.get_affine().get_matrix(),\n",
      "  File \"/home/martial/anaconda3/lib/python3.5/site-packages/matplotlib/transforms.py\", line 2510, in get_affine\n",
      "    self._a.get_affine().get_matrix()))\n",
      "  File \"/home/martial/anaconda3/lib/python3.5/site-packages/matplotlib/transforms.py\", line 1929, in __init__\n",
      "    Affine2DBase.__init__(self, **kwargs)\n",
      "RecursionError: maximum recursion depth exceeded\n"
     ]
    }
   ],
   "source": [
    "max_fit_specImg.plot()"
   ]
  },
  {
   "cell_type": "code",
   "execution_count": null,
   "metadata": {
    "collapsed": true
   },
   "outputs": [],
   "source": [
    "#max_fit_specImg.plot()\n",
    "max_fit_specImg.change_dtype('float32')\n",
    "max_fit_specImg.save(path+'HAADF_9039_crop.rpl')"
   ]
  },
  {
   "cell_type": "code",
   "execution_count": 36,
   "metadata": {
    "collapsed": true
   },
   "outputs": [],
   "source": [
    "# Create the image of the fitted Gaussian\n",
    "fit_around_px=30\n",
    "exp_data = np.zeros((2*fit_around_px+1, 2*fit_around_px+1), dtype=np.float32)\n",
    "\n",
    "## Create a new image using the same amplitude and sigma for all atoms\n",
    "fit_values_copy = fit_values\n",
    "fit_values_copy[:,0] =1000\n",
    "fit_values_copy[:,3] =2\n",
    "fit_values_copy[:,4] =0\n",
    "\n",
    "x = np.linspace(0, np.shape(exp_data)[0], np.shape(exp_data)[0])\n",
    "y = np.linspace(0, np.shape(exp_data)[1], np.shape(exp_data)[1])\n",
    "u = np.meshgrid(x, y)\n",
    "\n",
    "fit_image_specImg = specImg.deepcopy()\n",
    "fit_image_specImg.change_dtype('float32')\n",
    "fit_image_specImg.data[:,:]=0.0\n",
    "\n",
    "for i in range(0,point_center.shape[0]-1): #\n",
    "    fit_image_specImg.data[point_center[i,0]-fit_around_px:point_center[i,0]+fit_around_px+1,point_center[i,1]-fit_around_px:point_center[i,1]+fit_around_px+1] = fit_image_specImg.data[point_center[i,0]-fit_around_px:point_center[i,0]+fit_around_px+1,point_center[i,1]-fit_around_px:point_center[i,1]+fit_around_px+1]+twoD_Gaussian(u, fit_values_copy[i])\n",
    "    i=i+1"
   ]
  },
  {
   "cell_type": "raw",
   "metadata": {},
   "source": [
    "# Create the image of the fitted Gaussian\n",
    "# Create x and y indices for a given Gaussian\n",
    "x = np.linspace(0, np.shape(exp_data)[0], np.shape(exp_data)[0])\n",
    "y = np.linspace(0, np.shape(exp_data)[1], np.shape(exp_data)[1])\n",
    "u = np.meshgrid(x, y)\n",
    "\n",
    "#fit_image = np.zeros(specImg.data.shape, dtype=np.float32)\n",
    "fit_image_specImg = specImg.deepcopy()\n",
    "fit_image_specImg.change_dtype('float32')\n",
    "fit_image_specImg.data[:,:]=0.0\n",
    "\n",
    "for i in range(0,point_center.shape[0]-1): #\n",
    "    fit_image_specImg.data[point_center[i,0]-fit_around_px:point_center[i,0]+fit_around_px+1,point_center[i,1]-fit_around_px:point_center[i,1]+fit_around_px+1] = twoD_Gaussian(u, fit_values[i])\n",
    "    i=i+1"
   ]
  },
  {
   "cell_type": "code",
   "execution_count": null,
   "metadata": {
    "collapsed": true
   },
   "outputs": [],
   "source": [
    "specImg.change_dtype('float32')\n",
    "specImg.save(path+'HAADF_9039_original.rpl')"
   ]
  },
  {
   "cell_type": "code",
   "execution_count": 38,
   "metadata": {
    "collapsed": true
   },
   "outputs": [],
   "source": [
    "fit_image_specImg.plot()"
   ]
  },
  {
   "cell_type": "code",
   "execution_count": 39,
   "metadata": {},
   "outputs": [
    {
     "name": "stdout",
     "output_type": "stream",
     "text": [
      "Overwrite '/home/martial/Data/Divers_Project_NTU/Paloma/Test_fitting/HAADF_9039_crop.rpl' (y/n)?\n",
      "y\n"
     ]
    }
   ],
   "source": [
    "fit_image_specImg.save(path+'HAADF_9039_crop.rpl')"
   ]
  },
  {
   "cell_type": "code",
   "execution_count": null,
   "metadata": {
    "collapsed": true
   },
   "outputs": [],
   "source": []
  },
  {
   "cell_type": "code",
   "execution_count": null,
   "metadata": {
    "collapsed": true
   },
   "outputs": [],
   "source": [
    "#Plot the difference images between the fitted values and the raw data\n",
    "plt.imshow(specImg.data-fit_image) #\n",
    "plt.colorbar()\n",
    "plt.show()"
   ]
  },
  {
   "cell_type": "code",
   "execution_count": null,
   "metadata": {
    "collapsed": true
   },
   "outputs": [],
   "source": [
    "#Plot the image ofthe fitted values\n",
    "plt.imshow(fit_image)\n",
    "plt.colorbar()\n",
    "plt.show()"
   ]
  },
  {
   "cell_type": "code",
   "execution_count": null,
   "metadata": {
    "collapsed": true
   },
   "outputs": [],
   "source": [
    "#Create the image with the values of the maximun\n",
    "fit_image_max = np.zeros(specImg.data.shape, dtype=np.float32)\n",
    "fit_image_max[:,:] = np.mean(fit_values[:,0])\n",
    "\n",
    "for i in range(0,point_center.shape[0]):\n",
    "    fit_image_max[point_center[i,0]-fit_around_px:point_center[i,0]+fit_around_px+1,point_center[i,1]-fit_around_px:point_center[i,1]+fit_around_px+1] = fit_values[i,0]\n",
    "    i=i+1"
   ]
  },
  {
   "cell_type": "code",
   "execution_count": null,
   "metadata": {
    "collapsed": true
   },
   "outputs": [],
   "source": [
    "#Plot an image of the values of the maximum\n",
    "plt.imshow(fit_image_max)\n",
    "plt.colorbar()"
   ]
  },
  {
   "cell_type": "code",
   "execution_count": null,
   "metadata": {
    "collapsed": true
   },
   "outputs": [],
   "source": [
    "plt.hist(fit_values[:,0],bins=20)\n",
    "plt.show()"
   ]
  },
  {
   "cell_type": "code",
   "execution_count": null,
   "metadata": {
    "collapsed": true
   },
   "outputs": [],
   "source": []
  },
  {
   "cell_type": "code",
   "execution_count": null,
   "metadata": {
    "collapsed": true
   },
   "outputs": [],
   "source": []
  },
  {
   "cell_type": "code",
   "execution_count": null,
   "metadata": {
    "collapsed": true
   },
   "outputs": [],
   "source": []
  },
  {
   "cell_type": "code",
   "execution_count": null,
   "metadata": {
    "collapsed": true
   },
   "outputs": [],
   "source": []
  },
  {
   "cell_type": "code",
   "execution_count": null,
   "metadata": {
    "collapsed": true
   },
   "outputs": [],
   "source": []
  },
  {
   "cell_type": "code",
   "execution_count": null,
   "metadata": {
    "collapsed": true
   },
   "outputs": [],
   "source": [
    "#In case of fit with a non symetric gaussian\n",
    "def twoD_Gaussian_theta((x, y), amplitude, xo, yo, sigma_x, sigma_y, theta, offset):\n",
    "    xo = float(xo)\n",
    "    yo = float(yo)    \n",
    "    a = (np.cos(theta)**2)/(2*sigma_x**2) + (np.sin(theta)**2)/(2*sigma_y**2)\n",
    "    b = -(np.sin(2*theta))/(4*sigma_x**2) + (np.sin(2*theta))/(4*sigma_y**2)\n",
    "    c = (np.sin(theta)**2)/(2*sigma_x**2) + (np.cos(theta)**2)/(2*sigma_y**2)\n",
    "    g = offset + amplitude*np.exp( - (a*((x-xo)**2) + 2*b*(x-xo)*(y-yo) \n",
    "                            + c*((y-yo)**2)))\n",
    "    return g.ravel()"
   ]
  },
  {
   "cell_type": "code",
   "execution_count": null,
   "metadata": {
    "collapsed": true
   },
   "outputs": [],
   "source": [
    "vor=sc.spatial.Voronoi(point_center, incremental=True)"
   ]
  },
  {
   "cell_type": "code",
   "execution_count": null,
   "metadata": {
    "collapsed": true
   },
   "outputs": [],
   "source": [
    "sc.spatial.voronoi_plot_2d(vor)"
   ]
  },
  {
   "cell_type": "code",
   "execution_count": null,
   "metadata": {
    "collapsed": true
   },
   "outputs": [],
   "source": [
    "min_specImg.plot()"
   ]
  },
  {
   "cell_type": "code",
   "execution_count": null,
   "metadata": {
    "collapsed": true
   },
   "outputs": [],
   "source": [
    "specImg.plot()"
   ]
  },
  {
   "cell_type": "code",
   "execution_count": null,
   "metadata": {
    "collapsed": true
   },
   "outputs": [],
   "source": [
    "polyarea = np.zeros(len(vor.regions))\n",
    "\n",
    "for region in range(len(vor.regions)): \n",
    "    poly = Polygon((vor.vertices[vor.regions[region]]))\n",
    "    count_o=0\n",
    "    count_t=0\n",
    "    print region \"/\" len(vor.regions)\n",
    "    for x, y in it.product(range(0,specImg.data.shape[0]), range(0,specImg.data.shape[1])):\n",
    "        if poly.contains(Point(x,y)) == True:\n",
    "            count_o = count_o + specImg.data[x,y]\n",
    "            count_t = count_t + 1\n",
    "    polyarea[region] = count_o / count_t"
   ]
  },
  {
   "cell_type": "code",
   "execution_count": null,
   "metadata": {
    "collapsed": true
   },
   "outputs": [],
   "source": [
    "iL ne faut prendre en compte uniquement les pixels proche du min (3 ou 4)"
   ]
  },
  {
   "cell_type": "code",
   "execution_count": null,
   "metadata": {
    "collapsed": true
   },
   "outputs": [],
   "source": [
    "plt.hist(polyarea)\n",
    "plt.show()"
   ]
  },
  {
   "cell_type": "code",
   "execution_count": null,
   "metadata": {
    "collapsed": true
   },
   "outputs": [],
   "source": [
    "histogram = np.histogram(polyarea, bins=np.arange(min(polyarea), max(polyarea) + 0.005, 0.005))  "
   ]
  }
 ],
 "metadata": {
  "anaconda-cloud": {},
  "kernelspec": {
   "display_name": "Python 3",
   "language": "python",
   "name": "python3"
  },
  "language_info": {
   "codemirror_mode": {
    "name": "ipython",
    "version": 3
   },
   "file_extension": ".py",
   "mimetype": "text/x-python",
   "name": "python",
   "nbconvert_exporter": "python",
   "pygments_lexer": "ipython3",
   "version": "3.8.5"
  }
 },
 "nbformat": 4,
 "nbformat_minor": 1
}
