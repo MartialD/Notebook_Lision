{
 "cells": [
  {
   "cell_type": "markdown",
   "metadata": {},
   "source": [
    "# ERCPy: 2D Gaussian fit demonstration notebook"
   ]
  },
  {
   "cell_type": "markdown",
   "metadata": {},
   "source": [
    "#### by Martial Duchamp\n",
    "Laboratory for in situ and operando nanoscopy\n",
    "Nanyang Technological University\n",
    "mduchamp@ntu.edu.sg"
   ]
  },
  {
   "cell_type": "markdown",
   "metadata": {},
   "source": [
    "### Absract:\n",
    "The notebook demonstrates usage of the bulk plasmon function to fit EELS spectra."
   ]
  },
  {
   "cell_type": "markdown",
   "metadata": {},
   "source": [
    "## Preamble:"
   ]
  },
  {
   "cell_type": "markdown",
   "metadata": {},
   "source": [
    "#### Plotting outside the notebook to enable interactions with user:"
   ]
  },
  {
   "cell_type": "code",
   "execution_count": 1,
   "metadata": {
    "scrolled": false
   },
   "outputs": [],
   "source": [
    "%matplotlib qt5"
   ]
  },
  {
   "cell_type": "code",
   "execution_count": 2,
   "metadata": {},
   "outputs": [
    {
     "name": "stderr",
     "output_type": "stream",
     "text": [
      "/root/anaconda3/lib/python3.8/site-packages/pyUSID/viz/__init__.py:16: FutureWarning: Please use sidpy.viz.plot_utils instead of pyUSID.viz.plot_utils. pyUSID.plot_utils will be removed in a future release of pyUSID\n",
      "  warn('Please use sidpy.viz.plot_utils instead of pyUSID.viz.plot_utils. '\n"
     ]
    }
   ],
   "source": [
    "import hyperspy.api as hs"
   ]
  },
  {
   "cell_type": "code",
   "execution_count": 3,
   "metadata": {},
   "outputs": [],
   "source": [
    "import os\n",
    "import scipy as sc\n",
    "import numpy as np"
   ]
  },
  {
   "cell_type": "code",
   "execution_count": 4,
   "metadata": {},
   "outputs": [],
   "source": [
    "import matplotlib.pyplot as plt"
   ]
  },
  {
   "cell_type": "markdown",
   "metadata": {},
   "source": [
    "## Loading data:"
   ]
  },
  {
   "cell_type": "code",
   "execution_count": 7,
   "metadata": {},
   "outputs": [],
   "source": [
    "path=\"/home/martial/OneDrive/Data_NTU/Lan/Perovskite_transistor_Nripan/SI10/\""
   ]
  },
  {
   "cell_type": "code",
   "execution_count": 17,
   "metadata": {},
   "outputs": [],
   "source": [
    "file_name=\"EELS_Spectrum_Image.dm4\"\n",
    "specImg = hs.load(path+file_name)"
   ]
  },
  {
   "cell_type": "markdown",
   "metadata": {},
   "source": [
    "#### Plotting:"
   ]
  },
  {
   "cell_type": "markdown",
   "metadata": {
    "collapsed": true
   },
   "source": [
    "#Crop spatially, if needed\n",
    "specImg.crop(0, 1.,9.)\n",
    "specImg.crop(1, 4.,12.)"
   ]
  },
  {
   "cell_type": "code",
   "execution_count": 21,
   "metadata": {},
   "outputs": [],
   "source": [
    "specImg.plot()"
   ]
  },
  {
   "cell_type": "code",
   "execution_count": 22,
   "metadata": {},
   "outputs": [
    {
     "data": {
      "application/vnd.jupyter.widget-view+json": {
       "model_id": "5700ee97114f4e0fa8af8fe6847d5448",
       "version_major": 2,
       "version_minor": 0
      },
      "text/plain": [
       "VBox(children=(VBox(children=(Button(description='Show derivative histogram', layout=Layout(width='auto'), sty…"
      ]
     },
     "metadata": {},
     "output_type": "display_data"
    },
    {
     "name": "stderr",
     "output_type": "stream",
     "text": [
      "IOPub message rate exceeded.\n",
      "The notebook server will temporarily stop sending output\n",
      "to the client in order to avoid crashing it.\n",
      "To change this limit, set the config variable\n",
      "`--NotebookApp.iopub_msg_rate_limit`.\n",
      "\n",
      "Current values:\n",
      "NotebookApp.iopub_msg_rate_limit=1000.0 (msgs/sec)\n",
      "NotebookApp.rate_limit_window=3.0 (secs)\n",
      "\n",
      "IOPub message rate exceeded.\n",
      "The notebook server will temporarily stop sending output\n",
      "to the client in order to avoid crashing it.\n",
      "To change this limit, set the config variable\n",
      "`--NotebookApp.iopub_msg_rate_limit`.\n",
      "\n",
      "Current values:\n",
      "NotebookApp.iopub_msg_rate_limit=1000.0 (msgs/sec)\n",
      "NotebookApp.rate_limit_window=3.0 (secs)\n",
      "\n",
      "IOPub message rate exceeded.\n",
      "The notebook server will temporarily stop sending output\n",
      "to the client in order to avoid crashing it.\n",
      "To change this limit, set the config variable\n",
      "`--NotebookApp.iopub_msg_rate_limit`.\n",
      "\n",
      "Current values:\n",
      "NotebookApp.iopub_msg_rate_limit=1000.0 (msgs/sec)\n",
      "NotebookApp.rate_limit_window=3.0 (secs)\n",
      "\n",
      "IOPub message rate exceeded.\n",
      "The notebook server will temporarily stop sending output\n",
      "to the client in order to avoid crashing it.\n",
      "To change this limit, set the config variable\n",
      "`--NotebookApp.iopub_msg_rate_limit`.\n",
      "\n",
      "Current values:\n",
      "NotebookApp.iopub_msg_rate_limit=1000.0 (msgs/sec)\n",
      "NotebookApp.rate_limit_window=3.0 (secs)\n",
      "\n",
      "IOPub message rate exceeded.\n",
      "The notebook server will temporarily stop sending output\n",
      "to the client in order to avoid crashing it.\n",
      "To change this limit, set the config variable\n",
      "`--NotebookApp.iopub_msg_rate_limit`.\n",
      "\n",
      "Current values:\n",
      "NotebookApp.iopub_msg_rate_limit=1000.0 (msgs/sec)\n",
      "NotebookApp.rate_limit_window=3.0 (secs)\n",
      "\n",
      "IOPub message rate exceeded.\n",
      "The notebook server will temporarily stop sending output\n",
      "to the client in order to avoid crashing it.\n",
      "To change this limit, set the config variable\n",
      "`--NotebookApp.iopub_msg_rate_limit`.\n",
      "\n",
      "Current values:\n",
      "NotebookApp.iopub_msg_rate_limit=1000.0 (msgs/sec)\n",
      "NotebookApp.rate_limit_window=3.0 (secs)\n",
      "\n",
      "IOPub message rate exceeded.\n",
      "The notebook server will temporarily stop sending output\n",
      "to the client in order to avoid crashing it.\n",
      "To change this limit, set the config variable\n",
      "`--NotebookApp.iopub_msg_rate_limit`.\n",
      "\n",
      "Current values:\n",
      "NotebookApp.iopub_msg_rate_limit=1000.0 (msgs/sec)\n",
      "NotebookApp.rate_limit_window=3.0 (secs)\n",
      "\n",
      "IOPub message rate exceeded.\n",
      "The notebook server will temporarily stop sending output\n",
      "to the client in order to avoid crashing it.\n",
      "To change this limit, set the config variable\n",
      "`--NotebookApp.iopub_msg_rate_limit`.\n",
      "\n",
      "Current values:\n",
      "NotebookApp.iopub_msg_rate_limit=1000.0 (msgs/sec)\n",
      "NotebookApp.rate_limit_window=3.0 (secs)\n",
      "\n"
     ]
    }
   ],
   "source": [
    "specImg.spikes_removal_tool()"
   ]
  },
  {
   "cell_type": "code",
   "execution_count": 20,
   "metadata": {},
   "outputs": [],
   "source": [
    "specImg.plot()"
   ]
  },
  {
   "cell_type": "code",
   "execution_count": 23,
   "metadata": {},
   "outputs": [
    {
     "name": "stdout",
     "output_type": "stream",
     "text": [
      "\n",
      "Initial ZLP position statistics\n",
      "-------------------------------\n",
      "Summary statistics\n",
      "------------------\n",
      "mean:\t-4.38\n",
      "std:\t0.944\n",
      "\n",
      "min:\t-6.1\n",
      "Q1:\t-5.25\n",
      "median:\t-4.35\n",
      "Q3:\t-3.45\n",
      "max:\t-2.4\n"
     ]
    },
    {
     "data": {
      "application/vnd.jupyter.widget-view+json": {
       "model_id": "e5085a0d5bfd4d0790d0b108344ddca4",
       "version_major": 2,
       "version_minor": 0
      },
      "text/plain": [
       "HBox(children=(HTML(value=''), FloatProgress(value=0.0, max=42436.0), HTML(value='')))"
      ]
     },
     "metadata": {},
     "output_type": "display_data"
    },
    {
     "data": {
      "application/vnd.jupyter.widget-view+json": {
       "model_id": "838b4b2c242c4d8892be8bdb413b1d74",
       "version_major": 2,
       "version_minor": 0
      },
      "text/plain": [
       "HBox(children=(HTML(value=''), FloatProgress(value=0.0, max=42436.0), HTML(value='')))"
      ]
     },
     "metadata": {},
     "output_type": "display_data"
    },
    {
     "name": "stdout",
     "output_type": "stream",
     "text": [
      "\n"
     ]
    },
    {
     "data": {
      "application/vnd.jupyter.widget-view+json": {
       "model_id": "1e41b783da9b44b8a56c7c8967cef6fc",
       "version_major": 2,
       "version_minor": 0
      },
      "text/plain": [
       "HBox(children=(HTML(value=''), FloatProgress(value=0.0, max=42436.0), HTML(value='')))"
      ]
     },
     "metadata": {},
     "output_type": "display_data"
    },
    {
     "name": "stdout",
     "output_type": "stream",
     "text": [
      "\n",
      "\n"
     ]
    }
   ],
   "source": [
    "specImg.align_zero_loss_peak(crop=True)"
   ]
  },
  {
   "cell_type": "code",
   "execution_count": 104,
   "metadata": {},
   "outputs": [],
   "source": [
    "specImg.plot()"
   ]
  },
  {
   "cell_type": "code",
   "execution_count": 103,
   "metadata": {},
   "outputs": [],
   "source": [
    "specImg.crop_signal1D(10.,35.)"
   ]
  },
  {
   "cell_type": "code",
   "execution_count": 191,
   "metadata": {},
   "outputs": [
    {
     "data": {
      "text/plain": [
       "0.05000000074505806"
      ]
     },
     "execution_count": 191,
     "metadata": {},
     "output_type": "execute_result"
    }
   ],
   "source": [
    "specImg.axes_manager[2].scale"
   ]
  },
  {
   "cell_type": "markdown",
   "metadata": {
    "collapsed": true,
    "scrolled": true
   },
   "source": [
    "#remove the calibration, then the coordinates are given in pixel in the plot\n",
    "min_specImg.axes_manager.show();\n",
    "#Use the GUI to set scale=1 and origin=0 for both x and y"
   ]
  },
  {
   "cell_type": "markdown",
   "metadata": {
    "collapsed": true
   },
   "source": [
    "#remove the calibration, then the coordinates are given in pixel in the plot\n",
    "specImg.axes_manager.show();\n",
    "#Use the GUI to set scale=1 and origin=0 for both x and y"
   ]
  },
  {
   "cell_type": "markdown",
   "metadata": {},
   "source": [
    "#### Curve fitting"
   ]
  },
  {
   "cell_type": "code",
   "execution_count": 26,
   "metadata": {},
   "outputs": [],
   "source": [
    "from scipy.optimize import curve_fit\n",
    "import scipy.optimize as opt"
   ]
  },
  {
   "cell_type": "code",
   "execution_count": 385,
   "metadata": {},
   "outputs": [],
   "source": [
    "def V_bulk(xo, para, scale_ev, offset):\n",
    "    a = para[0]\n",
    "    b = para[1]\n",
    "    c = para[2]\n",
    "    E_p = para[3]\n",
    "    Delta_E_p = para[4]\n",
    "    x_cal = xo\n",
    "   \n",
    "    I = a*x_cal/((x_cal**2-E_p**2)**2+(Delta_E_p*x_cal)**2) + b*x_cal+c    \n",
    "    return I"
   ]
  },
  {
   "cell_type": "code",
   "execution_count": 403,
   "metadata": {},
   "outputs": [],
   "source": [
    "#Define the twoD_Gaussian for fitting ONLY\n",
    "def V_bulk_f_fit(x, a, b, c, E_p, Delta_E_p):\n",
    "    I = a*x/((x**2-E_p**2)**2+(Delta_E_p*x)**2) + b*x+c    \n",
    "    return I.ravel()\n",
    "\n",
    "def V_bulk_fit(exp_data, scale_ev, offset):\n",
    "    b = 0\n",
    "    c = np.min(exp_data)\n",
    "    E_p = np.argmax(exp_data)*scale_ev+offset+10\n",
    "    Delta_E_p =  exp_data.size*scale_ev/3\n",
    "    a = np.max(exp_data)*1000\n",
    "    initial_guess = (a, b, c, E_p, Delta_E_p)\n",
    "    \n",
    "    # Create x and y indices\n",
    "    x = np.linspace(0, np.shape(exp_data)[0], np.shape(exp_data)[0])\n",
    "    u = np.meshgrid(x)\n",
    "    u = u[0][:]*scale_ev+offset\n",
    "    popt, pcov = opt.curve_fit(V_bulk_f_fit, u, exp_data.ravel(), p0=initial_guess, maxfev=5000)\n",
    "    \n",
    "    return popt"
   ]
  },
  {
   "cell_type": "code",
   "execution_count": 413,
   "metadata": {},
   "outputs": [],
   "source": [
    "# The fit_around_px value has to be adjusted to get proper fitting\n",
    "nbr_para_fit = 5 #Number of parameters to be fitted\n",
    "\n",
    "#Np.array with the results from the 2D Gaussian fit\n",
    "fit_values = hs.signals.Signal2D(np.zeros((nbr_para_fit,specImg.data.shape[0],specImg.data.shape[1])), \\\n",
    "                                 dtype=np.float32)\n",
    "\n",
    "scale_ev = specImg.axes_manager[2].scale\n",
    "offset_ev = specImg.axes_manager[2].offset\n",
    "\n",
    "for i in range(0,specImg.data.shape[0]): \n",
    "    for j in range(0,specImg.data.shape[1]): \n",
    "        fit_values.data[:,i,j]=V_bulk_fit(specImg.data[i,0,:], scale_ev, offset_ev)"
   ]
  },
  {
   "cell_type": "code",
   "execution_count": 414,
   "metadata": {},
   "outputs": [],
   "source": [
    "x_value = np.zeros_like(specImg.data[0,0,:])\n",
    "for i in range(0,specImg.data[0,0,:].shape[0]):\n",
    "    x_value[i]=i*scale_ev+offset_ev"
   ]
  },
  {
   "cell_type": "code",
   "execution_count": 417,
   "metadata": {},
   "outputs": [],
   "source": [
    "fig, ax1 = plt.subplots()\n",
    "ax1.plot(x_value,V_bulk(x_value[:],fit_values.data[:,20,20], scale_ev, offset_ev), 'r+', label ='Fit', markersize=7, markevery=12)\n",
    "ax1.plot(x_value,specImg.data[20,20,:], 'b-', label ='Input', markersize=7, markevery=12)\n",
    "\n",
    "ax1.set_ylabel('Voltage [V]',fontsize=20)\n",
    "ax1.set_xlabel('Time ' +r'$[\\mu s]$',fontsize=20)\n",
    "\n",
    "#ax2.plot(RGA_data[:,0]-Time_voltage[0,0],RGA_data[:,1], 'o', label='O2')\n",
    "#ax2.plot(RGA_data[:,0]-Time_voltage[0,0],RGA_data[:,2], 'v', label='H2')\n",
    "plt.setp(ax1.get_xticklabels(), fontsize=17)\n",
    "plt.setp(ax1.get_yticklabels(), fontsize=17)\n",
    "plt.legend(fontsize=17)\n",
    "fig.tight_layout()\n",
    "#plt.xlim([-0.9, 5])\n",
    "#plt.ylim([0, 1.2])\n",
    "plt.show()\n",
    "plt.savefig('_2us_pulse.png', dpi=300)"
   ]
  },
  {
   "cell_type": "code",
   "execution_count": null,
   "metadata": {},
   "outputs": [],
   "source": []
  },
  {
   "cell_type": "code",
   "execution_count": 412,
   "metadata": {},
   "outputs": [
    {
     "data": {
      "text/plain": [
       "23.6706255632287"
      ]
     },
     "execution_count": 412,
     "metadata": {},
     "output_type": "execute_result"
    }
   ],
   "source": [
    "#Energy of the plamson peak of the 1st spectra\n",
    "fit_values.data[3,0,0]"
   ]
  }
 ],
 "metadata": {
  "anaconda-cloud": {},
  "kernelspec": {
   "display_name": "Python 3",
   "language": "python",
   "name": "python3"
  },
  "language_info": {
   "codemirror_mode": {
    "name": "ipython",
    "version": 3
   },
   "file_extension": ".py",
   "mimetype": "text/x-python",
   "name": "python",
   "nbconvert_exporter": "python",
   "pygments_lexer": "ipython3",
   "version": "3.8.5"
  }
 },
 "nbformat": 4,
 "nbformat_minor": 1
}
