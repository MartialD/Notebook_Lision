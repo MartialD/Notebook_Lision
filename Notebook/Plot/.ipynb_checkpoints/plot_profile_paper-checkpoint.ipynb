{
 "cells": [
  {
   "cell_type": "markdown",
   "metadata": {},
   "source": [
    "## Hyperspy notebook to analyze Edx data denoised using XXX algorithm"
   ]
  },
  {
   "cell_type": "markdown",
   "metadata": {},
   "source": [
    "#### by Martial Duchamp\n",
    "NTU-MSE, Singapore m.duchamp@ntu.edu.sg"
   ]
  },
  {
   "cell_type": "markdown",
   "metadata": {},
   "source": [
    "### Absract:\n",
    "The notebook demonstrates usage of the XXX denoising algortyhm on EDX data\n",
    "Results published in Nature XXX by Mevenkamp et al. 2017"
   ]
  },
  {
   "cell_type": "markdown",
   "metadata": {},
   "source": [
    "### Preamble:"
   ]
  },
  {
   "cell_type": "code",
   "execution_count": 1,
   "metadata": {},
   "outputs": [],
   "source": [
    "import matplotlib.pyplot as plt\n",
    "import csv"
   ]
  },
  {
   "cell_type": "code",
   "execution_count": 2,
   "metadata": {},
   "outputs": [
    {
     "name": "stdout",
     "output_type": "stream",
     "text": [
      "Populating the interactive namespace from numpy and matplotlib\n"
     ]
    }
   ],
   "source": [
    "%pylab qt"
   ]
  },
  {
   "cell_type": "code",
   "execution_count": 3,
   "metadata": {},
   "outputs": [],
   "source": [
    "import hyperspy.api as hs"
   ]
  },
  {
   "cell_type": "code",
   "execution_count": 26,
   "metadata": {},
   "outputs": [],
   "source": [
    "mpl.rcParams['axes.linewidth'] = 3.5 #set the value globally"
   ]
  },
  {
   "cell_type": "code",
   "execution_count": 4,
   "metadata": {},
   "outputs": [
    {
     "data": {
      "text/plain": [
       "'\\n    H y p e r S p y\\n    Version 1.5.2\\n\\n    http://www.hyperspy.org\\n\\n    '"
      ]
     },
     "execution_count": 4,
     "metadata": {},
     "output_type": "execute_result"
    }
   ],
   "source": [
    "hs.hyperspy.Release.info"
   ]
  },
  {
   "cell_type": "markdown",
   "metadata": {},
   "source": [
    "### Loading data:"
   ]
  },
  {
   "cell_type": "code",
   "execution_count": 5,
   "metadata": {},
   "outputs": [],
   "source": [
    "path = \"/home/martial/OneDrive/Paper/Low-temperature TEM/Figures/Fig_1_data/Fig_1_Holder_pulse_measurements/\""
   ]
  },
  {
   "cell_type": "code",
   "execution_count": 21,
   "metadata": {},
   "outputs": [],
   "source": [
    "with open(path+'910A002_noheader.csv', newline='') as csv_file:\n",
    "    csv_reader = csv.reader(csv_file, delimiter=',')\n",
    "    line_count = 0\n",
    "    for row in csv_reader:\n",
    "        line_count = line_count +1\n",
    "        \n",
    "Profile_1 = np.zeros((csv_reader.line_num, 3))"
   ]
  },
  {
   "cell_type": "code",
   "execution_count": 22,
   "metadata": {},
   "outputs": [],
   "source": [
    "with open(path+'910A002_noheader.csv', newline='') as csv_file:\n",
    "    csv_reader = csv.reader(csv_file, delimiter=',')\n",
    "    line_count = 0\n",
    "    for row in csv_reader:\n",
    "        #if line_count != 0:\n",
    "        Profile_1[line_count,0]=float(row[0])\n",
    "        Profile_1[line_count,1]=float(row[1])\n",
    "        Profile_1[line_count,2]=float(row[2])\n",
    "        line_count = line_count +1"
   ]
  },
  {
   "cell_type": "code",
   "execution_count": 19,
   "metadata": {},
   "outputs": [
    {
     "data": {
      "text/plain": [
       "array([[-9.9920e-07,  4.0000e-02,  2.0000e-02],\n",
       "       [-9.9840e-07,  2.0000e-02,  4.0000e-02],\n",
       "       [-9.9760e-07,  1.0000e-02,  4.0000e-02],\n",
       "       ...,\n",
       "       [ 8.9984e-06,  0.0000e+00,  4.0000e-02],\n",
       "       [ 8.9992e-06,  3.0000e-02,  2.0000e-02],\n",
       "       [ 9.0000e-06,  3.0000e-02,  3.0000e-02]])"
      ]
     },
     "execution_count": 19,
     "metadata": {},
     "output_type": "execute_result"
    }
   ],
   "source": [
    "Profile_1"
   ]
  },
  {
   "cell_type": "markdown",
   "metadata": {
    "collapsed": true
   },
   "source": [
    "### Plot data"
   ]
  },
  {
   "cell_type": "code",
   "execution_count": 44,
   "metadata": {},
   "outputs": [],
   "source": [
    "fig, ax1 = plt.subplots()\n",
    "ax1.plot(Profile_1[:,0]*10**6,Profile_1[:,1], 'r+', label ='Input', markersize=7, markevery=12)\n",
    "ax1.plot(Profile_1[:,0]*10**6,Profile_1[:,2], 'o', label = 'Response', markersize=7, markevery=10)\n",
    "\n",
    "ax1.set_ylabel('Voltage [V]',fontsize=20)\n",
    "ax1.set_xlabel('Time ' +r'$[\\mu s]$',fontsize=20)\n",
    "\n",
    "#ax2.plot(RGA_data[:,0]-Time_voltage[0,0],RGA_data[:,1], 'o', label='O2')\n",
    "#ax2.plot(RGA_data[:,0]-Time_voltage[0,0],RGA_data[:,2], 'v', label='H2')\n",
    "plt.setp(ax1.get_xticklabels(), fontsize=17)\n",
    "plt.setp(ax1.get_yticklabels(), fontsize=17)\n",
    "plt.legend(fontsize=17)\n",
    "fig.tight_layout()\n",
    "plt.xlim([-0.9, 5])\n",
    "plt.ylim([0, 1.2])\n",
    "plt.show()\n",
    "plt.savefig('_2us_pulse.png', dpi=300)"
   ]
  },
  {
   "cell_type": "code",
   "execution_count": null,
   "metadata": {},
   "outputs": [],
   "source": []
  }
 ],
 "metadata": {
  "anaconda-cloud": {},
  "kernelspec": {
   "display_name": "Python 3",
   "language": "python",
   "name": "python3"
  },
  "language_info": {
   "codemirror_mode": {
    "name": "ipython",
    "version": 3
   },
   "file_extension": ".py",
   "mimetype": "text/x-python",
   "name": "python",
   "nbconvert_exporter": "python",
   "pygments_lexer": "ipython3",
   "version": "3.7.4"
  }
 },
 "nbformat": 4,
 "nbformat_minor": 1
}
