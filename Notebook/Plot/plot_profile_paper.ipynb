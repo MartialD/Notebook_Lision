{
 "cells": [
  {
   "cell_type": "markdown",
   "metadata": {},
   "source": [
    "## Hyperspy notebook to analyze Edx data denoised using XXX algorithm"
   ]
  },
  {
   "cell_type": "markdown",
   "metadata": {},
   "source": [
    "#### by Martial Duchamp\n",
    "NTU-MSE, Singapore m.duchamp@ntu.edu.sg"
   ]
  },
  {
   "cell_type": "markdown",
   "metadata": {},
   "source": [
    "### Absract:\n",
    "The notebook demonstrates usage of the XXX denoising algortyhm on EDX data\n",
    "Results published in Nature XXX by Mevenkamp et al. 2017"
   ]
  },
  {
   "cell_type": "markdown",
   "metadata": {},
   "source": [
    "### Preamble:"
   ]
  },
  {
   "cell_type": "code",
   "execution_count": 1,
   "metadata": {},
   "outputs": [
    {
     "name": "stderr",
     "output_type": "stream",
     "text": [
      "WARNING:hyperspy_gui_traitsui:The module://ipykernel.pylab.backend_inline matplotlib backend is not supported by the installed traitsui version and the ETS toolkit has been set to null. To set the ETS toolkit independently from the matplotlib backend, set it before importing matplotlib.\n",
      "WARNING:hyperspy_gui_traitsui:The traitsui GUI elements are not available.\n"
     ]
    }
   ],
   "source": [
    "import hyperspy.api as hs"
   ]
  },
  {
   "cell_type": "code",
   "execution_count": 2,
   "metadata": {},
   "outputs": [
    {
     "data": {
      "text/plain": [
       "'\\n    H y p e r S p y\\n    Version 1.4.dev\\n\\n    http://www.hyperspy.org\\n\\n    '"
      ]
     },
     "execution_count": 2,
     "metadata": {},
     "output_type": "execute_result"
    }
   ],
   "source": [
    "hs.hyperspy.Release.info"
   ]
  },
  {
   "cell_type": "code",
   "execution_count": 3,
   "metadata": {
    "collapsed": true
   },
   "outputs": [],
   "source": [
    "import numpy as np\n",
    "import matplotlib.pyplot as plt"
   ]
  },
  {
   "cell_type": "code",
   "execution_count": 4,
   "metadata": {
    "collapsed": true
   },
   "outputs": [],
   "source": [
    "%matplotlib qt4"
   ]
  },
  {
   "cell_type": "markdown",
   "metadata": {},
   "source": [
    "#### Local functions"
   ]
  },
  {
   "cell_type": "code",
   "execution_count": 5,
   "metadata": {},
   "outputs": [],
   "source": [
    "def norm(hs_signal1D):\n",
    "    \"\"\"\n",
    "    Normalise a signal1D spectra between 0 to 1\n",
    "    \"\"\"\n",
    "    norm_signal = hs_signal1D.deepcopy()\n",
    "    \n",
    "    norm_signal.data = (hs_signal1D.data-np.min(hs_signal1D.data))/(np.max(hs_signal1D.data)-np.min(hs_signal1D.data))\n",
    "\n",
    "    return norm_signal"
   ]
  },
  {
   "cell_type": "code",
   "execution_count": null,
   "metadata": {
    "collapsed": true
   },
   "outputs": [],
   "source": []
  },
  {
   "cell_type": "code",
   "execution_count": 87,
   "metadata": {},
   "outputs": [],
   "source": [
    "def mul_CL(hs_signal1D, CL):\n",
    "    \"\"\"\n",
    "    Multiply the EDX signal by CL factor\n",
    "    \"\"\"\n",
    "    norm_signal = hs_signal1D.deepcopy()\n",
    "    \n",
    "    norm_signal.data = hs_signal1D.data/CL\n",
    "\n",
    "    return norm_signal"
   ]
  },
  {
   "cell_type": "markdown",
   "metadata": {},
   "source": [
    "### Loading data:"
   ]
  },
  {
   "cell_type": "code",
   "execution_count": 7,
   "metadata": {
    "collapsed": true
   },
   "outputs": [],
   "source": [
    "nbr_xray_lines = 7"
   ]
  },
  {
   "cell_type": "markdown",
   "metadata": {},
   "source": [
    "#### Raw data"
   ]
  },
  {
   "cell_type": "code",
   "execution_count": 8,
   "metadata": {},
   "outputs": [
    {
     "name": "stderr",
     "output_type": "stream",
     "text": [
      "WARNING:hyperspy.io_plugins.bcf:unbcf_fast library is not present...\n",
      "Parsing BCF with Python-only backend, which is slow... please wait.\n",
      "If parsing is uncomfortably slow, first install cython, then reinstall hyperspy.\n",
      "For more information, check the 'Installing HyperSpy' section in the documentation.\n"
     ]
    }
   ],
   "source": [
    "edx_raw = hs.load(\"./Raw_data/001_bot_layer.bcf\", select_type='spectrum')"
   ]
  },
  {
   "cell_type": "code",
   "execution_count": 9,
   "metadata": {},
   "outputs": [],
   "source": [
    "edx_raw.crop_signal1D(0.14792041,15.0) "
   ]
  },
  {
   "cell_type": "code",
   "execution_count": 10,
   "metadata": {},
   "outputs": [],
   "source": [
    "haadf_raw = hs.load(\"./Raw_data/HAADF_HAADF.png\")"
   ]
  },
  {
   "cell_type": "code",
   "execution_count": 11,
   "metadata": {},
   "outputs": [
    {
     "data": {
      "text/html": [
       "<style>\n",
       "table, th, td {\n",
       "\tborder: 1px solid black;\n",
       "\tborder-collapse: collapse;\n",
       "}\n",
       "th, td {\n",
       "\tpadding: 5px;\n",
       "}\n",
       "</style>\n",
       "<p><b>< Axes manager, axes: (744, 561|1486) ></b></p>\n",
       "<table style='width:100%'>\n",
       "\n",
       "<tr> \n",
       "<th>Navigation axis name</th> \n",
       "<th>size</th> \n",
       "<th>index</th> \n",
       "<th>offset</th> \n",
       "<th>scale</th> \n",
       "<th>units</th> </tr>\n",
       "<tr> \n",
       "<td>width</td> \n",
       "<td>744</td> \n",
       "<td>0</td> \n",
       "<td>0.0</td> \n",
       "<td>1.21249377472971e-05</td> \n",
       "<td>µm</td> </tr>\n",
       "<tr> \n",
       "<td>height</td> \n",
       "<td>561</td> \n",
       "<td>0</td> \n",
       "<td>0.0</td> \n",
       "<td>1.21249377472971e-05</td> \n",
       "<td>µm</td> </tr></table>\n",
       "<table style='width:100%'>\n",
       "\n",
       "<tr> \n",
       "<th>Signal axis name</th> \n",
       "<th>size</th> \n",
       "<th>offset</th> \n",
       "<th>scale</th> \n",
       "<th>units</th> </tr>\n",
       "<tr> \n",
       "<td>Energy</td> \n",
       "<td>1486</td> \n",
       "<td>0.14792041</td> \n",
       "<td>0.009998</td> \n",
       "<td>keV</td> </tr></table>\n"
      ],
      "text/plain": [
       "<Axes manager, axes: (744, 561|1486)>\n",
       "            Name |   size |  index |  offset |   scale |  units \n",
       "================ | ====== | ====== | ======= | ======= | ====== \n",
       "           width |    744 |      0 |       0 | 1.2e-05 |     µm \n",
       "          height |    561 |      0 |       0 | 1.2e-05 |     µm \n",
       "---------------- | ------ | ------ | ------- | ------- | ------ \n",
       "          Energy |   1486 |        |    0.15 |    0.01 |    keV "
      ]
     },
     "execution_count": 11,
     "metadata": {},
     "output_type": "execute_result"
    }
   ],
   "source": [
    "edx_raw.axes_manager"
   ]
  },
  {
   "cell_type": "code",
   "execution_count": 12,
   "metadata": {
    "collapsed": true
   },
   "outputs": [],
   "source": [
    "haadf_raw_txt = np.loadtxt(\"./Raw_data/HAADF_HAADF.txt\", dtype=\"float32\", delimiter=';')"
   ]
  },
  {
   "cell_type": "code",
   "execution_count": 13,
   "metadata": {},
   "outputs": [],
   "source": [
    "haadf_raw.data = haadf_raw_txt"
   ]
  },
  {
   "cell_type": "code",
   "execution_count": 14,
   "metadata": {},
   "outputs": [],
   "source": [
    "haadf_raw.axes_manager[0].scale = edx_raw.axes_manager[0].scale\n",
    "haadf_raw.axes_manager[0].units = edx_raw.axes_manager[0].units\n",
    "haadf_raw.axes_manager[0].name = edx_raw.axes_manager[0].name\n",
    "haadf_raw.axes_manager[1].scale = edx_raw.axes_manager[1].scale\n",
    "haadf_raw.axes_manager[1].units = edx_raw.axes_manager[1].units\n",
    "haadf_raw.axes_manager[1].name = edx_raw.axes_manager[1].name"
   ]
  },
  {
   "cell_type": "code",
   "execution_count": 15,
   "metadata": {},
   "outputs": [],
   "source": [
    "edx_raw.set_signal_type('EDS_TEM')\n",
    "edx_raw.set_microscope_parameters(beam_energy=200, live_time=2008, tilt_stage=0, azimuth_angle=45, elevation_angle=18, energy_resolution_MnKa=131.79)\n",
    "edx_raw.change_dtype('float32')\n",
    "edx_raw.metadata.Sample.xray_lines =['C_Ka', 'O_Ka', 'Al_Ka','Ga_La','Ga_Ka', 'In_La', 'N_Ka']"
   ]
  },
  {
   "cell_type": "code",
   "execution_count": 16,
   "metadata": {},
   "outputs": [
    {
     "data": {
      "text/html": [
       "<style>\n",
       "table, th, td {\n",
       "\tborder: 1px solid black;\n",
       "\tborder-collapse: collapse;\n",
       "}\n",
       "th, td {\n",
       "\tpadding: 5px;\n",
       "}\n",
       "</style>\n",
       "<p><b>< Axes manager, axes: (|744, 561) ></b></p>\n",
       "<table style='width:100%'>\n",
       "\n",
       "<tr> \n",
       "<th>Signal axis name</th> \n",
       "<th>size</th> \n",
       "<th>offset</th> \n",
       "<th>scale</th> \n",
       "<th>units</th> </tr>\n",
       "<tr> \n",
       "<td>width</td> \n",
       "<td>744</td> \n",
       "<td>0.0</td> \n",
       "<td>1.21249377472971e-05</td> \n",
       "<td>µm</td> </tr>\n",
       "<tr> \n",
       "<td>height</td> \n",
       "<td>561</td> \n",
       "<td>0.0</td> \n",
       "<td>1.21249377472971e-05</td> \n",
       "<td>µm</td> </tr></table>\n"
      ],
      "text/plain": [
       "<Axes manager, axes: (|744, 561)>\n",
       "            Name |   size |  index |  offset |   scale |  units \n",
       "================ | ====== | ====== | ======= | ======= | ====== \n",
       "---------------- | ------ | ------ | ------- | ------- | ------ \n",
       "           width |    744 |        |       0 | 1.2e-05 |     µm \n",
       "          height |    561 |        |       0 | 1.2e-05 |     µm "
      ]
     },
     "execution_count": 16,
     "metadata": {},
     "output_type": "execute_result"
    }
   ],
   "source": [
    "haadf_raw.axes_manager"
   ]
  },
  {
   "cell_type": "markdown",
   "metadata": {},
   "source": [
    "#### Denoised data"
   ]
  },
  {
   "cell_type": "code",
   "execution_count": 17,
   "metadata": {
    "collapsed": true
   },
   "outputs": [],
   "source": [
    "edx_denoised = hs.load(\"./Denoised_data/edx_highRes_lowSNR_denoised.hdf5\")"
   ]
  },
  {
   "cell_type": "code",
   "execution_count": 18,
   "metadata": {},
   "outputs": [],
   "source": [
    "haadf_denoised = hs.load(\"./Denoised_data/haadf_highRes_highSNR_denoised.tif\")"
   ]
  },
  {
   "cell_type": "code",
   "execution_count": 19,
   "metadata": {},
   "outputs": [],
   "source": [
    "haadf_denoised.axes_manager[0].scale = edx_denoised.axes_manager[0].scale\n",
    "haadf_denoised.axes_manager[0].units = edx_denoised.axes_manager[0].units\n",
    "haadf_denoised.axes_manager[0].name = edx_denoised.axes_manager[0].name\n",
    "haadf_denoised.axes_manager[1].scale = edx_denoised.axes_manager[1].scale\n",
    "haadf_denoised.axes_manager[1].units = edx_denoised.axes_manager[1].units\n",
    "haadf_denoised.axes_manager[1].name = edx_denoised.axes_manager[1].name"
   ]
  },
  {
   "cell_type": "code",
   "execution_count": 20,
   "metadata": {},
   "outputs": [],
   "source": [
    "edx_denoised.set_signal_type('EDS_TEM')\n",
    "edx_denoised.set_microscope_parameters(beam_energy=200, live_time=2008, tilt_stage=0, azimuth_angle=45, elevation_angle=18, energy_resolution_MnKa=131.79)\n",
    "edx_denoised.change_dtype('float32')\n",
    "edx_denoised.metadata.Sample.xray_lines =['C_Ka', 'O_Ka', 'Al_Ka','Ga_La','Ga_Ka', 'In_La', 'N_Ka']"
   ]
  },
  {
   "cell_type": "code",
   "execution_count": 83,
   "metadata": {},
   "outputs": [
    {
     "name": "stderr",
     "output_type": "stream",
     "text": [
      "/home/martial/anaconda3/lib/python3.5/site-packages/matplotlib/cbook/deprecation.py:107: MatplotlibDeprecationWarning: Adding an axes using the same arguments as a previous axes currently reuses the earlier instance.  In a future version, a new instance will always be created and returned.  Meanwhile, this warning can be suppressed, and the future behavior ensured, by passing a unique label to each axes instance.\n",
      "  warnings.warn(message, mplDeprecation, stacklevel=1)\n",
      "Traceback (most recent call last):\n",
      "  File \"/home/martial/anaconda3/lib/python3.5/site-packages/matplotlib/cbook/__init__.py\", line 388, in process\n",
      "    proxy(*args, **kwargs)\n",
      "  File \"/home/martial/anaconda3/lib/python3.5/site-packages/matplotlib/cbook/__init__.py\", line 228, in __call__\n",
      "    return mtd(*args, **kwargs)\n",
      "  File \"/home/martial/anaconda3/lib/python3.5/site-packages/hyperspy/drawing/figure.py\", line 31, in _on_draw\n",
      "    self._draw_animated()\n",
      "  File \"/home/martial/anaconda3/lib/python3.5/site-packages/hyperspy/drawing/figure.py\", line 51, in _draw_animated\n",
      "    [ax.draw_artist(a) for a in artists if\n",
      "  File \"/home/martial/anaconda3/lib/python3.5/site-packages/hyperspy/drawing/figure.py\", line 52, in <listcomp>\n",
      "    a.get_animated() is True]\n",
      "  File \"/home/martial/anaconda3/lib/python3.5/site-packages/matplotlib/axes/_base.py\", line 2622, in draw_artist\n",
      "    a.draw(self._cachedRenderer)\n",
      "  File \"/home/martial/anaconda3/lib/python3.5/site-packages/matplotlib/artist.py\", line 55, in draw_wrapper\n",
      "    return draw(artist, renderer, *args, **kwargs)\n",
      "  File \"/home/martial/anaconda3/lib/python3.5/site-packages/matplotlib/axis.py\", line 1190, in draw\n",
      "    ticks_to_draw = self._update_ticks(renderer)\n",
      "  File \"/home/martial/anaconda3/lib/python3.5/site-packages/matplotlib/axis.py\", line 1028, in _update_ticks\n",
      "    tick_tups = list(self.iter_ticks())  # iter_ticks calls the locator\n",
      "  File \"/home/martial/anaconda3/lib/python3.5/site-packages/matplotlib/axis.py\", line 971, in iter_ticks\n",
      "    majorLocs = self.major.locator()\n",
      "  File \"/home/martial/anaconda3/lib/python3.5/site-packages/matplotlib/ticker.py\", line 1945, in __call__\n",
      "    return self.tick_values(vmin, vmax)\n",
      "  File \"/home/martial/anaconda3/lib/python3.5/site-packages/matplotlib/ticker.py\", line 1953, in tick_values\n",
      "    locs = self._raw_ticks(vmin, vmax)\n",
      "  File \"/home/martial/anaconda3/lib/python3.5/site-packages/matplotlib/ticker.py\", line 1899, in _raw_ticks\n",
      "    nbins = np.clip(self.axis.get_tick_space(),\n",
      "  File \"/home/martial/anaconda3/lib/python3.5/site-packages/matplotlib/axis.py\", line 2503, in get_tick_space\n",
      "    tick = self._get_tick(True)\n",
      "  File \"/home/martial/anaconda3/lib/python3.5/site-packages/matplotlib/axis.py\", line 2164, in _get_tick\n",
      "    return YTick(self.axes, 0, '', major=major, **tick_kw)\n",
      "  File \"/home/martial/anaconda3/lib/python3.5/site-packages/matplotlib/axis.py\", line 102, in __init__\n",
      "    artist.Artist.__init__(self)\n",
      "  File \"/home/martial/anaconda3/lib/python3.5/site-packages/matplotlib/artist.py\", line 119, in __init__\n",
      "    self._sketch = rcParams['path.sketch']\n",
      "  File \"/home/martial/anaconda3/lib/python3.5/site-packages/matplotlib/__init__.py\", line 950, in __getitem__\n",
      "    val = dict.__getitem__(self, key)\n",
      "RecursionError: maximum recursion depth exceeded while calling a Python object\n",
      "Traceback (most recent call last):\n",
      "  File \"/home/martial/anaconda3/lib/python3.5/site-packages/matplotlib/cbook/__init__.py\", line 388, in process\n",
      "    proxy(*args, **kwargs)\n",
      "  File \"/home/martial/anaconda3/lib/python3.5/site-packages/matplotlib/cbook/__init__.py\", line 228, in __call__\n",
      "    return mtd(*args, **kwargs)\n",
      "  File \"/home/martial/anaconda3/lib/python3.5/site-packages/hyperspy/drawing/figure.py\", line 31, in _on_draw\n",
      "    self._draw_animated()\n",
      "  File \"/home/martial/anaconda3/lib/python3.5/site-packages/hyperspy/drawing/figure.py\", line 51, in _draw_animated\n",
      "    [ax.draw_artist(a) for a in artists if\n",
      "  File \"/home/martial/anaconda3/lib/python3.5/site-packages/hyperspy/drawing/figure.py\", line 52, in <listcomp>\n",
      "    a.get_animated() is True]\n",
      "  File \"/home/martial/anaconda3/lib/python3.5/site-packages/matplotlib/axes/_base.py\", line 2622, in draw_artist\n",
      "    a.draw(self._cachedRenderer)\n",
      "  File \"/home/martial/anaconda3/lib/python3.5/site-packages/matplotlib/artist.py\", line 55, in draw_wrapper\n",
      "    return draw(artist, renderer, *args, **kwargs)\n",
      "  File \"/home/martial/anaconda3/lib/python3.5/site-packages/matplotlib/image.py\", line 593, in draw\n",
      "    renderer, renderer.get_image_magnification())\n",
      "  File \"/home/martial/anaconda3/lib/python3.5/site-packages/matplotlib/image.py\", line 841, in make_image\n",
      "    unsampled=unsampled)\n",
      "  File \"/home/martial/anaconda3/lib/python3.5/site-packages/matplotlib/image.py\", line 489, in _make_image\n",
      "    output = self.norm(np.ma.masked_array(A_resampled, out_mask))\n",
      "  File \"/home/martial/anaconda3/lib/python3.5/site-packages/matplotlib/colors.py\", line 938, in __call__\n",
      "    result, is_scalar = self.process_value(value)\n",
      "  File \"/home/martial/anaconda3/lib/python3.5/site-packages/matplotlib/colors.py\", line 924, in process_value\n",
      "    result = np.ma.array(data, mask=mask, dtype=dtype, copy=True)\n",
      "  File \"/home/martial/anaconda3/lib/python3.5/site-packages/numpy/ma/core.py\", line 6146, in array\n",
      "    ndmin=ndmin, shrink=shrink, order=order)\n",
      "  File \"/home/martial/anaconda3/lib/python3.5/site-packages/numpy/ma/core.py\", line 2727, in __new__\n",
      "    _data = ndarray.view(_data, cls)\n",
      "  File \"/home/martial/anaconda3/lib/python3.5/site-packages/numpy/ma/core.py\", line 2922, in __array_finalize__\n",
      "    self._mask = _mask\n",
      "  File \"/home/martial/anaconda3/lib/python3.5/site-packages/numpy/ma/core.py\", line 3268, in __setattr__\n",
      "    super(MaskedArray, self).__setattr__(attr, value)\n",
      "RecursionError: maximum recursion depth exceeded while calling a Python object\n",
      "Traceback (most recent call last):\n",
      "  File \"/home/martial/anaconda3/lib/python3.5/site-packages/matplotlib/backends/backend_qt5.py\", line 519, in _draw_idle\n",
      "    self.draw()\n",
      "  File \"/home/martial/anaconda3/lib/python3.5/site-packages/matplotlib/backends/backend_agg.py\", line 433, in draw\n",
      "    self.figure.draw(self.renderer)\n",
      "  File \"/home/martial/anaconda3/lib/python3.5/site-packages/matplotlib/artist.py\", line 55, in draw_wrapper\n",
      "    return draw(artist, renderer, *args, **kwargs)\n",
      "  File \"/home/martial/anaconda3/lib/python3.5/site-packages/matplotlib/figure.py\", line 1475, in draw\n",
      "    renderer, self, artists, self.suppressComposite)\n",
      "  File \"/home/martial/anaconda3/lib/python3.5/site-packages/matplotlib/image.py\", line 141, in _draw_list_compositing_images\n",
      "    a.draw(renderer)\n",
      "  File \"/home/martial/anaconda3/lib/python3.5/site-packages/matplotlib/artist.py\", line 55, in draw_wrapper\n",
      "    return draw(artist, renderer, *args, **kwargs)\n",
      "  File \"/home/martial/anaconda3/lib/python3.5/site-packages/matplotlib/axes/_base.py\", line 2607, in draw\n",
      "    mimage._draw_list_compositing_images(renderer, self, artists)\n",
      "  File \"/home/martial/anaconda3/lib/python3.5/site-packages/matplotlib/image.py\", line 141, in _draw_list_compositing_images\n",
      "    a.draw(renderer)\n",
      "  File \"/home/martial/anaconda3/lib/python3.5/site-packages/matplotlib/artist.py\", line 55, in draw_wrapper\n",
      "    return draw(artist, renderer, *args, **kwargs)\n",
      "  File \"/home/martial/anaconda3/lib/python3.5/site-packages/matplotlib/image.py\", line 593, in draw\n",
      "    renderer, renderer.get_image_magnification())\n",
      "  File \"/home/martial/anaconda3/lib/python3.5/site-packages/matplotlib/image.py\", line 841, in make_image\n",
      "    unsampled=unsampled)\n",
      "  File \"/home/martial/anaconda3/lib/python3.5/site-packages/matplotlib/image.py\", line 309, in _make_image\n",
      "    clipped_bbox = Bbox.intersection(out_bbox, clip_bbox)\n",
      "  File \"/home/martial/anaconda3/lib/python3.5/site-packages/matplotlib/transforms.py\", line 759, in intersection\n",
      "    x0 = np.maximum(bbox1.xmin, bbox2.xmin)\n",
      "  File \"/home/martial/anaconda3/lib/python3.5/site-packages/matplotlib/transforms.py\", line 355, in xmin\n",
      "    return np.min(self.get_points()[:, 0])\n",
      "  File \"/home/martial/anaconda3/lib/python3.5/site-packages/matplotlib/transforms.py\", line 1082, in get_points\n",
      "    [p[1, 0], p[1, 1]]])\n",
      "  File \"/home/martial/anaconda3/lib/python3.5/site-packages/matplotlib/transforms.py\", line 1446, in transform\n",
      "    res = self.transform_affine(self.transform_non_affine(values))\n",
      "  File \"/home/martial/anaconda3/lib/python3.5/site-packages/matplotlib/transforms.py\", line 2482, in transform_affine\n",
      "    return self.get_affine().transform(points)\n",
      "  File \"/home/martial/anaconda3/lib/python3.5/site-packages/matplotlib/transforms.py\", line 2509, in get_affine\n",
      "    return Affine2D(np.dot(self._b.get_affine().get_matrix(),\n",
      "  File \"/home/martial/anaconda3/lib/python3.5/site-packages/matplotlib/transforms.py\", line 2510, in get_affine\n",
      "    self._a.get_affine().get_matrix()))\n",
      "  File \"/home/martial/anaconda3/lib/python3.5/site-packages/matplotlib/transforms.py\", line 1929, in __init__\n",
      "    Affine2DBase.__init__(self, **kwargs)\n",
      "RecursionError: maximum recursion depth exceeded\n"
     ]
    },
    {
     "name": "stderr",
     "output_type": "stream",
     "text": [
      "Traceback (most recent call last):\n",
      "  File \"/home/martial/anaconda3/lib/python3.5/site-packages/matplotlib/cbook/__init__.py\", line 388, in process\n",
      "    proxy(*args, **kwargs)\n",
      "  File \"/home/martial/anaconda3/lib/python3.5/site-packages/matplotlib/cbook/__init__.py\", line 228, in __call__\n",
      "    return mtd(*args, **kwargs)\n",
      "  File \"/home/martial/anaconda3/lib/python3.5/site-packages/hyperspy/drawing/figure.py\", line 31, in _on_draw\n",
      "    self._draw_animated()\n",
      "  File \"/home/martial/anaconda3/lib/python3.5/site-packages/hyperspy/drawing/figure.py\", line 51, in _draw_animated\n",
      "    [ax.draw_artist(a) for a in artists if\n",
      "  File \"/home/martial/anaconda3/lib/python3.5/site-packages/hyperspy/drawing/figure.py\", line 52, in <listcomp>\n",
      "    a.get_animated() is True]\n",
      "  File \"/home/martial/anaconda3/lib/python3.5/site-packages/matplotlib/axes/_base.py\", line 2622, in draw_artist\n",
      "    a.draw(self._cachedRenderer)\n",
      "  File \"/home/martial/anaconda3/lib/python3.5/site-packages/matplotlib/artist.py\", line 55, in draw_wrapper\n",
      "    return draw(artist, renderer, *args, **kwargs)\n",
      "  File \"/home/martial/anaconda3/lib/python3.5/site-packages/matplotlib/axis.py\", line 1190, in draw\n",
      "    ticks_to_draw = self._update_ticks(renderer)\n",
      "  File \"/home/martial/anaconda3/lib/python3.5/site-packages/matplotlib/axis.py\", line 1028, in _update_ticks\n",
      "    tick_tups = list(self.iter_ticks())  # iter_ticks calls the locator\n",
      "  File \"/home/martial/anaconda3/lib/python3.5/site-packages/matplotlib/axis.py\", line 971, in iter_ticks\n",
      "    majorLocs = self.major.locator()\n",
      "  File \"/home/martial/anaconda3/lib/python3.5/site-packages/matplotlib/ticker.py\", line 1945, in __call__\n",
      "    return self.tick_values(vmin, vmax)\n",
      "  File \"/home/martial/anaconda3/lib/python3.5/site-packages/matplotlib/ticker.py\", line 1953, in tick_values\n",
      "    locs = self._raw_ticks(vmin, vmax)\n",
      "  File \"/home/martial/anaconda3/lib/python3.5/site-packages/matplotlib/ticker.py\", line 1899, in _raw_ticks\n",
      "    nbins = np.clip(self.axis.get_tick_space(),\n",
      "  File \"/home/martial/anaconda3/lib/python3.5/site-packages/matplotlib/axis.py\", line 2503, in get_tick_space\n",
      "    tick = self._get_tick(True)\n",
      "  File \"/home/martial/anaconda3/lib/python3.5/site-packages/matplotlib/axis.py\", line 2164, in _get_tick\n",
      "    return YTick(self.axes, 0, '', major=major, **tick_kw)\n",
      "  File \"/home/martial/anaconda3/lib/python3.5/site-packages/matplotlib/axis.py\", line 176, in __init__\n",
      "    self.tick1line = self._get_tick1line()\n",
      "  File \"/home/martial/anaconda3/lib/python3.5/site-packages/matplotlib/axis.py\", line 599, in _get_tick1line\n",
      "    zorder=self._zorder)\n",
      "  File \"/home/martial/anaconda3/lib/python3.5/site-packages/matplotlib/lines.py\", line 397, in __init__\n",
      "    self._marker = MarkerStyle(marker, fillstyle)\n",
      "  File \"/home/martial/anaconda3/lib/python3.5/site-packages/matplotlib/markers.py\", line 188, in __init__\n",
      "    self.set_fillstyle(fillstyle)\n",
      "  File \"/home/martial/anaconda3/lib/python3.5/site-packages/matplotlib/markers.py\", line 235, in set_fillstyle\n",
      "    fillstyle = rcParams['markers.fillstyle']\n",
      "RecursionError: maximum recursion depth exceeded\n",
      "Traceback (most recent call last):\n",
      "  File \"/home/martial/anaconda3/lib/python3.5/site-packages/matplotlib/cbook/__init__.py\", line 388, in process\n",
      "    proxy(*args, **kwargs)\n",
      "  File \"/home/martial/anaconda3/lib/python3.5/site-packages/matplotlib/cbook/__init__.py\", line 228, in __call__\n",
      "    return mtd(*args, **kwargs)\n",
      "  File \"/home/martial/anaconda3/lib/python3.5/site-packages/hyperspy/drawing/figure.py\", line 31, in _on_draw\n",
      "    self._draw_animated()\n",
      "  File \"/home/martial/anaconda3/lib/python3.5/site-packages/hyperspy/drawing/figure.py\", line 51, in _draw_animated\n",
      "    [ax.draw_artist(a) for a in artists if\n",
      "  File \"/home/martial/anaconda3/lib/python3.5/site-packages/hyperspy/drawing/figure.py\", line 52, in <listcomp>\n",
      "    a.get_animated() is True]\n",
      "  File \"/home/martial/anaconda3/lib/python3.5/site-packages/matplotlib/axes/_base.py\", line 2622, in draw_artist\n",
      "    a.draw(self._cachedRenderer)\n",
      "  File \"/home/martial/anaconda3/lib/python3.5/site-packages/matplotlib/artist.py\", line 55, in draw_wrapper\n",
      "    return draw(artist, renderer, *args, **kwargs)\n",
      "  File \"/home/martial/anaconda3/lib/python3.5/site-packages/matplotlib/axis.py\", line 1190, in draw\n",
      "    ticks_to_draw = self._update_ticks(renderer)\n",
      "  File \"/home/martial/anaconda3/lib/python3.5/site-packages/matplotlib/axis.py\", line 1028, in _update_ticks\n",
      "    tick_tups = list(self.iter_ticks())  # iter_ticks calls the locator\n",
      "  File \"/home/martial/anaconda3/lib/python3.5/site-packages/matplotlib/axis.py\", line 971, in iter_ticks\n",
      "    majorLocs = self.major.locator()\n",
      "  File \"/home/martial/anaconda3/lib/python3.5/site-packages/matplotlib/ticker.py\", line 1945, in __call__\n",
      "    return self.tick_values(vmin, vmax)\n",
      "  File \"/home/martial/anaconda3/lib/python3.5/site-packages/matplotlib/ticker.py\", line 1953, in tick_values\n",
      "    locs = self._raw_ticks(vmin, vmax)\n",
      "  File \"/home/martial/anaconda3/lib/python3.5/site-packages/matplotlib/ticker.py\", line 1899, in _raw_ticks\n",
      "    nbins = np.clip(self.axis.get_tick_space(),\n",
      "  File \"/home/martial/anaconda3/lib/python3.5/site-packages/matplotlib/axis.py\", line 2503, in get_tick_space\n",
      "    tick = self._get_tick(True)\n",
      "  File \"/home/martial/anaconda3/lib/python3.5/site-packages/matplotlib/axis.py\", line 2164, in _get_tick\n",
      "    return YTick(self.axes, 0, '', major=major, **tick_kw)\n",
      "  File \"/home/martial/anaconda3/lib/python3.5/site-packages/matplotlib/axis.py\", line 176, in __init__\n",
      "    self.tick1line = self._get_tick1line()\n",
      "  File \"/home/martial/anaconda3/lib/python3.5/site-packages/matplotlib/axis.py\", line 599, in _get_tick1line\n",
      "    zorder=self._zorder)\n",
      "  File \"/home/martial/anaconda3/lib/python3.5/site-packages/matplotlib/lines.py\", line 397, in __init__\n",
      "    self._marker = MarkerStyle(marker, fillstyle)\n",
      "  File \"/home/martial/anaconda3/lib/python3.5/site-packages/matplotlib/markers.py\", line 188, in __init__\n",
      "    self.set_fillstyle(fillstyle)\n",
      "  File \"/home/martial/anaconda3/lib/python3.5/site-packages/matplotlib/markers.py\", line 235, in set_fillstyle\n",
      "    fillstyle = rcParams['markers.fillstyle']\n",
      "RecursionError: maximum recursion depth exceeded\n"
     ]
    }
   ],
   "source": [
    "edx_denoised.plot(xray_lines=True)"
   ]
  },
  {
   "cell_type": "code",
   "execution_count": 21,
   "metadata": {},
   "outputs": [
    {
     "data": {
      "text/html": [
       "<style>\n",
       "table, th, td {\n",
       "\tborder: 1px solid black;\n",
       "\tborder-collapse: collapse;\n",
       "}\n",
       "th, td {\n",
       "\tpadding: 5px;\n",
       "}\n",
       "</style>\n",
       "<p><b>< Axes manager, axes: (|744, 561) ></b></p>\n",
       "<table style='width:100%'>\n",
       "\n",
       "<tr> \n",
       "<th>Signal axis name</th> \n",
       "<th>size</th> \n",
       "<th>offset</th> \n",
       "<th>scale</th> \n",
       "<th>units</th> </tr>\n",
       "<tr> \n",
       "<td>width</td> \n",
       "<td>744</td> \n",
       "<td>0.0</td> \n",
       "<td>1.21249377472971e-05</td> \n",
       "<td>µm</td> </tr>\n",
       "<tr> \n",
       "<td>height</td> \n",
       "<td>561</td> \n",
       "<td>0.0</td> \n",
       "<td>1.21249377472971e-05</td> \n",
       "<td>µm</td> </tr></table>\n"
      ],
      "text/plain": [
       "<Axes manager, axes: (|744, 561)>\n",
       "            Name |   size |  index |  offset |   scale |  units \n",
       "================ | ====== | ====== | ======= | ======= | ====== \n",
       "---------------- | ------ | ------ | ------- | ------- | ------ \n",
       "           width |    744 |        |       0 | 1.2e-05 |     µm \n",
       "          height |    561 |        |       0 | 1.2e-05 |     µm "
      ]
     },
     "execution_count": 21,
     "metadata": {},
     "output_type": "execute_result"
    }
   ],
   "source": [
    "haadf_denoised.axes_manager"
   ]
  },
  {
   "cell_type": "code",
   "execution_count": 22,
   "metadata": {},
   "outputs": [
    {
     "data": {
      "text/plain": [
       "0.0090209536839890424"
      ]
     },
     "execution_count": 22,
     "metadata": {},
     "output_type": "execute_result"
    }
   ],
   "source": [
    "# Field of view x\n",
    "haadf_denoised.axes_manager[0].scale*haadf_denoised.axes_manager[0].size"
   ]
  },
  {
   "cell_type": "code",
   "execution_count": 23,
   "metadata": {},
   "outputs": [
    {
     "data": {
      "text/plain": [
       "0.0068020900762336732"
      ]
     },
     "execution_count": 23,
     "metadata": {},
     "output_type": "execute_result"
    }
   ],
   "source": [
    "# Field of view y\n",
    "haadf_denoised.axes_manager[1].scale*haadf_denoised.axes_manager[1].size"
   ]
  },
  {
   "cell_type": "markdown",
   "metadata": {},
   "source": [
    "### Plotting raw data"
   ]
  },
  {
   "cell_type": "code",
   "execution_count": 24,
   "metadata": {},
   "outputs": [
    {
     "name": "stderr",
     "output_type": "stream",
     "text": [
      "/home/martial/anaconda3/lib/python3.5/site-packages/matplotlib/cbook/deprecation.py:107: MatplotlibDeprecationWarning: Adding an axes using the same arguments as a previous axes currently reuses the earlier instance.  In a future version, a new instance will always be created and returned.  Meanwhile, this warning can be suppressed, and the future behavior ensured, by passing a unique label to each axes instance.\n",
      "  warnings.warn(message, mplDeprecation, stacklevel=1)\n",
      "Traceback (most recent call last):\n",
      "  File \"/home/martial/anaconda3/lib/python3.5/site-packages/matplotlib/cbook/__init__.py\", line 388, in process\n",
      "    proxy(*args, **kwargs)\n",
      "  File \"/home/martial/anaconda3/lib/python3.5/site-packages/matplotlib/cbook/__init__.py\", line 228, in __call__\n",
      "    return mtd(*args, **kwargs)\n",
      "  File \"/home/martial/anaconda3/lib/python3.5/site-packages/hyperspy/drawing/figure.py\", line 31, in _on_draw\n",
      "    self._draw_animated()\n",
      "  File \"/home/martial/anaconda3/lib/python3.5/site-packages/hyperspy/drawing/figure.py\", line 51, in _draw_animated\n",
      "    [ax.draw_artist(a) for a in artists if\n",
      "  File \"/home/martial/anaconda3/lib/python3.5/site-packages/hyperspy/drawing/figure.py\", line 52, in <listcomp>\n",
      "    a.get_animated() is True]\n",
      "  File \"/home/martial/anaconda3/lib/python3.5/site-packages/matplotlib/axes/_base.py\", line 2622, in draw_artist\n",
      "    a.draw(self._cachedRenderer)\n",
      "  File \"/home/martial/anaconda3/lib/python3.5/site-packages/matplotlib/artist.py\", line 55, in draw_wrapper\n",
      "    return draw(artist, renderer, *args, **kwargs)\n",
      "  File \"/home/martial/anaconda3/lib/python3.5/site-packages/matplotlib/axis.py\", line 1190, in draw\n",
      "    ticks_to_draw = self._update_ticks(renderer)\n",
      "  File \"/home/martial/anaconda3/lib/python3.5/site-packages/matplotlib/axis.py\", line 1028, in _update_ticks\n",
      "    tick_tups = list(self.iter_ticks())  # iter_ticks calls the locator\n",
      "  File \"/home/martial/anaconda3/lib/python3.5/site-packages/matplotlib/axis.py\", line 971, in iter_ticks\n",
      "    majorLocs = self.major.locator()\n",
      "  File \"/home/martial/anaconda3/lib/python3.5/site-packages/matplotlib/ticker.py\", line 1945, in __call__\n",
      "    return self.tick_values(vmin, vmax)\n",
      "  File \"/home/martial/anaconda3/lib/python3.5/site-packages/matplotlib/ticker.py\", line 1953, in tick_values\n",
      "    locs = self._raw_ticks(vmin, vmax)\n",
      "  File \"/home/martial/anaconda3/lib/python3.5/site-packages/matplotlib/ticker.py\", line 1899, in _raw_ticks\n",
      "    nbins = np.clip(self.axis.get_tick_space(),\n",
      "  File \"/home/martial/anaconda3/lib/python3.5/site-packages/matplotlib/axis.py\", line 2503, in get_tick_space\n",
      "    tick = self._get_tick(True)\n",
      "  File \"/home/martial/anaconda3/lib/python3.5/site-packages/matplotlib/axis.py\", line 2164, in _get_tick\n",
      "    return YTick(self.axes, 0, '', major=major, **tick_kw)\n",
      "  File \"/home/martial/anaconda3/lib/python3.5/site-packages/matplotlib/axis.py\", line 102, in __init__\n",
      "    artist.Artist.__init__(self)\n",
      "  File \"/home/martial/anaconda3/lib/python3.5/site-packages/matplotlib/artist.py\", line 119, in __init__\n",
      "    self._sketch = rcParams['path.sketch']\n",
      "  File \"/home/martial/anaconda3/lib/python3.5/site-packages/matplotlib/__init__.py\", line 950, in __getitem__\n",
      "    val = dict.__getitem__(self, key)\n",
      "RecursionError: maximum recursion depth exceeded while calling a Python object\n",
      "Traceback (most recent call last):\n",
      "  File \"/home/martial/anaconda3/lib/python3.5/site-packages/matplotlib/cbook/__init__.py\", line 388, in process\n",
      "    proxy(*args, **kwargs)\n",
      "  File \"/home/martial/anaconda3/lib/python3.5/site-packages/matplotlib/cbook/__init__.py\", line 228, in __call__\n",
      "    return mtd(*args, **kwargs)\n",
      "  File \"/home/martial/anaconda3/lib/python3.5/site-packages/hyperspy/drawing/figure.py\", line 31, in _on_draw\n",
      "    self._draw_animated()\n",
      "  File \"/home/martial/anaconda3/lib/python3.5/site-packages/hyperspy/drawing/figure.py\", line 51, in _draw_animated\n",
      "    [ax.draw_artist(a) for a in artists if\n",
      "  File \"/home/martial/anaconda3/lib/python3.5/site-packages/hyperspy/drawing/figure.py\", line 52, in <listcomp>\n",
      "    a.get_animated() is True]\n",
      "  File \"/home/martial/anaconda3/lib/python3.5/site-packages/matplotlib/axes/_base.py\", line 2622, in draw_artist\n",
      "    a.draw(self._cachedRenderer)\n",
      "  File \"/home/martial/anaconda3/lib/python3.5/site-packages/matplotlib/artist.py\", line 55, in draw_wrapper\n",
      "    return draw(artist, renderer, *args, **kwargs)\n",
      "  File \"/home/martial/anaconda3/lib/python3.5/site-packages/matplotlib/image.py\", line 593, in draw\n",
      "    renderer, renderer.get_image_magnification())\n",
      "  File \"/home/martial/anaconda3/lib/python3.5/site-packages/matplotlib/image.py\", line 841, in make_image\n",
      "    unsampled=unsampled)\n",
      "  File \"/home/martial/anaconda3/lib/python3.5/site-packages/matplotlib/image.py\", line 489, in _make_image\n",
      "    output = self.norm(np.ma.masked_array(A_resampled, out_mask))\n",
      "  File \"/home/martial/anaconda3/lib/python3.5/site-packages/matplotlib/colors.py\", line 938, in __call__\n",
      "    result, is_scalar = self.process_value(value)\n",
      "  File \"/home/martial/anaconda3/lib/python3.5/site-packages/matplotlib/colors.py\", line 924, in process_value\n",
      "    result = np.ma.array(data, mask=mask, dtype=dtype, copy=True)\n",
      "  File \"/home/martial/anaconda3/lib/python3.5/site-packages/numpy/ma/core.py\", line 6146, in array\n",
      "    ndmin=ndmin, shrink=shrink, order=order)\n",
      "  File \"/home/martial/anaconda3/lib/python3.5/site-packages/numpy/ma/core.py\", line 2727, in __new__\n",
      "    _data = ndarray.view(_data, cls)\n",
      "  File \"/home/martial/anaconda3/lib/python3.5/site-packages/numpy/ma/core.py\", line 2922, in __array_finalize__\n",
      "    self._mask = _mask\n",
      "  File \"/home/martial/anaconda3/lib/python3.5/site-packages/numpy/ma/core.py\", line 3268, in __setattr__\n",
      "    super(MaskedArray, self).__setattr__(attr, value)\n",
      "RecursionError: maximum recursion depth exceeded while calling a Python object\n",
      "Traceback (most recent call last):\n",
      "  File \"/home/martial/anaconda3/lib/python3.5/site-packages/matplotlib/backends/backend_qt5.py\", line 519, in _draw_idle\n",
      "    self.draw()\n",
      "  File \"/home/martial/anaconda3/lib/python3.5/site-packages/matplotlib/backends/backend_agg.py\", line 433, in draw\n",
      "    self.figure.draw(self.renderer)\n",
      "  File \"/home/martial/anaconda3/lib/python3.5/site-packages/matplotlib/artist.py\", line 55, in draw_wrapper\n",
      "    return draw(artist, renderer, *args, **kwargs)\n",
      "  File \"/home/martial/anaconda3/lib/python3.5/site-packages/matplotlib/figure.py\", line 1475, in draw\n",
      "    renderer, self, artists, self.suppressComposite)\n",
      "  File \"/home/martial/anaconda3/lib/python3.5/site-packages/matplotlib/image.py\", line 141, in _draw_list_compositing_images\n",
      "    a.draw(renderer)\n",
      "  File \"/home/martial/anaconda3/lib/python3.5/site-packages/matplotlib/artist.py\", line 55, in draw_wrapper\n",
      "    return draw(artist, renderer, *args, **kwargs)\n",
      "  File \"/home/martial/anaconda3/lib/python3.5/site-packages/matplotlib/axes/_base.py\", line 2607, in draw\n",
      "    mimage._draw_list_compositing_images(renderer, self, artists)\n",
      "  File \"/home/martial/anaconda3/lib/python3.5/site-packages/matplotlib/image.py\", line 141, in _draw_list_compositing_images\n",
      "    a.draw(renderer)\n",
      "  File \"/home/martial/anaconda3/lib/python3.5/site-packages/matplotlib/artist.py\", line 55, in draw_wrapper\n",
      "    return draw(artist, renderer, *args, **kwargs)\n",
      "  File \"/home/martial/anaconda3/lib/python3.5/site-packages/matplotlib/image.py\", line 593, in draw\n",
      "    renderer, renderer.get_image_magnification())\n",
      "  File \"/home/martial/anaconda3/lib/python3.5/site-packages/matplotlib/image.py\", line 841, in make_image\n",
      "    unsampled=unsampled)\n",
      "  File \"/home/martial/anaconda3/lib/python3.5/site-packages/matplotlib/image.py\", line 309, in _make_image\n",
      "    clipped_bbox = Bbox.intersection(out_bbox, clip_bbox)\n",
      "  File \"/home/martial/anaconda3/lib/python3.5/site-packages/matplotlib/transforms.py\", line 759, in intersection\n",
      "    x0 = np.maximum(bbox1.xmin, bbox2.xmin)\n",
      "  File \"/home/martial/anaconda3/lib/python3.5/site-packages/matplotlib/transforms.py\", line 355, in xmin\n",
      "    return np.min(self.get_points()[:, 0])\n",
      "  File \"/home/martial/anaconda3/lib/python3.5/site-packages/matplotlib/transforms.py\", line 1082, in get_points\n",
      "    [p[1, 0], p[1, 1]]])\n",
      "  File \"/home/martial/anaconda3/lib/python3.5/site-packages/matplotlib/transforms.py\", line 1446, in transform\n",
      "    res = self.transform_affine(self.transform_non_affine(values))\n",
      "  File \"/home/martial/anaconda3/lib/python3.5/site-packages/matplotlib/transforms.py\", line 2482, in transform_affine\n",
      "    return self.get_affine().transform(points)\n",
      "  File \"/home/martial/anaconda3/lib/python3.5/site-packages/matplotlib/transforms.py\", line 2509, in get_affine\n",
      "    return Affine2D(np.dot(self._b.get_affine().get_matrix(),\n",
      "  File \"/home/martial/anaconda3/lib/python3.5/site-packages/matplotlib/transforms.py\", line 2510, in get_affine\n",
      "    self._a.get_affine().get_matrix()))\n",
      "  File \"/home/martial/anaconda3/lib/python3.5/site-packages/matplotlib/transforms.py\", line 1929, in __init__\n",
      "    Affine2DBase.__init__(self, **kwargs)\n",
      "RecursionError: maximum recursion depth exceeded\n"
     ]
    },
    {
     "name": "stderr",
     "output_type": "stream",
     "text": [
      "Traceback (most recent call last):\n",
      "  File \"/home/martial/anaconda3/lib/python3.5/site-packages/matplotlib/cbook/__init__.py\", line 388, in process\n",
      "    proxy(*args, **kwargs)\n",
      "  File \"/home/martial/anaconda3/lib/python3.5/site-packages/matplotlib/cbook/__init__.py\", line 228, in __call__\n",
      "    return mtd(*args, **kwargs)\n",
      "  File \"/home/martial/anaconda3/lib/python3.5/site-packages/hyperspy/drawing/figure.py\", line 31, in _on_draw\n",
      "    self._draw_animated()\n",
      "  File \"/home/martial/anaconda3/lib/python3.5/site-packages/hyperspy/drawing/figure.py\", line 51, in _draw_animated\n",
      "    [ax.draw_artist(a) for a in artists if\n",
      "  File \"/home/martial/anaconda3/lib/python3.5/site-packages/hyperspy/drawing/figure.py\", line 52, in <listcomp>\n",
      "    a.get_animated() is True]\n",
      "  File \"/home/martial/anaconda3/lib/python3.5/site-packages/matplotlib/axes/_base.py\", line 2622, in draw_artist\n",
      "    a.draw(self._cachedRenderer)\n",
      "  File \"/home/martial/anaconda3/lib/python3.5/site-packages/matplotlib/artist.py\", line 55, in draw_wrapper\n",
      "    return draw(artist, renderer, *args, **kwargs)\n",
      "  File \"/home/martial/anaconda3/lib/python3.5/site-packages/matplotlib/axis.py\", line 1190, in draw\n",
      "    ticks_to_draw = self._update_ticks(renderer)\n",
      "  File \"/home/martial/anaconda3/lib/python3.5/site-packages/matplotlib/axis.py\", line 1028, in _update_ticks\n",
      "    tick_tups = list(self.iter_ticks())  # iter_ticks calls the locator\n",
      "  File \"/home/martial/anaconda3/lib/python3.5/site-packages/matplotlib/axis.py\", line 971, in iter_ticks\n",
      "    majorLocs = self.major.locator()\n",
      "  File \"/home/martial/anaconda3/lib/python3.5/site-packages/matplotlib/ticker.py\", line 1945, in __call__\n",
      "    return self.tick_values(vmin, vmax)\n",
      "  File \"/home/martial/anaconda3/lib/python3.5/site-packages/matplotlib/ticker.py\", line 1953, in tick_values\n",
      "    locs = self._raw_ticks(vmin, vmax)\n",
      "  File \"/home/martial/anaconda3/lib/python3.5/site-packages/matplotlib/ticker.py\", line 1899, in _raw_ticks\n",
      "    nbins = np.clip(self.axis.get_tick_space(),\n",
      "  File \"/home/martial/anaconda3/lib/python3.5/site-packages/matplotlib/axis.py\", line 2503, in get_tick_space\n",
      "    tick = self._get_tick(True)\n",
      "  File \"/home/martial/anaconda3/lib/python3.5/site-packages/matplotlib/axis.py\", line 2164, in _get_tick\n",
      "    return YTick(self.axes, 0, '', major=major, **tick_kw)\n",
      "  File \"/home/martial/anaconda3/lib/python3.5/site-packages/matplotlib/axis.py\", line 176, in __init__\n",
      "    self.tick1line = self._get_tick1line()\n",
      "  File \"/home/martial/anaconda3/lib/python3.5/site-packages/matplotlib/axis.py\", line 599, in _get_tick1line\n",
      "    zorder=self._zorder)\n",
      "  File \"/home/martial/anaconda3/lib/python3.5/site-packages/matplotlib/lines.py\", line 397, in __init__\n",
      "    self._marker = MarkerStyle(marker, fillstyle)\n",
      "  File \"/home/martial/anaconda3/lib/python3.5/site-packages/matplotlib/markers.py\", line 188, in __init__\n",
      "    self.set_fillstyle(fillstyle)\n",
      "  File \"/home/martial/anaconda3/lib/python3.5/site-packages/matplotlib/markers.py\", line 235, in set_fillstyle\n",
      "    fillstyle = rcParams['markers.fillstyle']\n",
      "RecursionError: maximum recursion depth exceeded\n"
     ]
    }
   ],
   "source": [
    "edx_raw.plot(navigator=haadf_raw, xray_lines=True)"
   ]
  },
  {
   "cell_type": "code",
   "execution_count": 25,
   "metadata": {},
   "outputs": [],
   "source": [
    "for i in range(0,nbr_xray_lines):\n",
    "    edx_raw.get_lines_intensity()[i].plot()"
   ]
  },
  {
   "cell_type": "markdown",
   "metadata": {},
   "source": [
    "##### Mozaic Figure"
   ]
  },
  {
   "cell_type": "code",
   "execution_count": 27,
   "metadata": {},
   "outputs": [],
   "source": [
    "fig, axes = plt.subplots(nrows=3, ncols=2, sharex=False, sharey=False, squeeze=True)\n",
    "fig.subplots_adjust(hspace=-2.4, wspace=-1.0)\n",
    "fig.set_tight_layout(True)\n",
    "plt.setp(axes, xticks=[], xticklabels=[], yticks=[], yticklabels=[])\n",
    "\n",
    "im = axes[0,0].imshow(haadf_raw_txt.data, cmap='gray')\n",
    "im = axes[1,0].imshow(edx_raw.get_lines_intensity(['N_Ka'])[0].data,vmin = 0, vmax = 1, cmap='gnuplot')\n",
    "im = axes[2,0].imshow(edx_raw.get_lines_intensity(['O_Ka'])[0].data, vmin = 0, vmax = 1, cmap='gnuplot')\n",
    "im = axes[0,1].imshow(edx_raw.get_lines_intensity(['Ga_La'])[0].data,vmin = 0, vmax = 1, cmap='gnuplot')\n",
    "im = axes[1,1].imshow(edx_raw.get_lines_intensity(['Al_Ka'])[0].data,vmin = 0, vmax = 1, cmap='gnuplot')\n",
    "im = axes[2,1].imshow(edx_raw.get_lines_intensity(['In_La'])[0].data, vmin = 0, vmax = 1, cmap='gnuplot')\n",
    "\n",
    "plt.show()\n",
    "plt.savefig(\"Raw_edx_fig.png\", dpi=150)"
   ]
  },
  {
   "cell_type": "markdown",
   "metadata": {},
   "source": [
    "### Plotting denoised data"
   ]
  },
  {
   "cell_type": "code",
   "execution_count": 97,
   "metadata": {},
   "outputs": [
    {
     "name": "stderr",
     "output_type": "stream",
     "text": [
      "/home/martial/anaconda3/lib/python3.5/site-packages/matplotlib/cbook/deprecation.py:107: MatplotlibDeprecationWarning: Adding an axes using the same arguments as a previous axes currently reuses the earlier instance.  In a future version, a new instance will always be created and returned.  Meanwhile, this warning can be suppressed, and the future behavior ensured, by passing a unique label to each axes instance.\n",
      "  warnings.warn(message, mplDeprecation, stacklevel=1)\n",
      "Traceback (most recent call last):\n",
      "  File \"/home/martial/anaconda3/lib/python3.5/site-packages/matplotlib/cbook/__init__.py\", line 388, in process\n",
      "    proxy(*args, **kwargs)\n",
      "  File \"/home/martial/anaconda3/lib/python3.5/site-packages/matplotlib/cbook/__init__.py\", line 228, in __call__\n",
      "    return mtd(*args, **kwargs)\n",
      "  File \"/home/martial/anaconda3/lib/python3.5/site-packages/hyperspy/drawing/figure.py\", line 31, in _on_draw\n",
      "    self._draw_animated()\n",
      "  File \"/home/martial/anaconda3/lib/python3.5/site-packages/hyperspy/drawing/figure.py\", line 51, in _draw_animated\n",
      "    [ax.draw_artist(a) for a in artists if\n",
      "  File \"/home/martial/anaconda3/lib/python3.5/site-packages/hyperspy/drawing/figure.py\", line 52, in <listcomp>\n",
      "    a.get_animated() is True]\n",
      "  File \"/home/martial/anaconda3/lib/python3.5/site-packages/matplotlib/axes/_base.py\", line 2622, in draw_artist\n",
      "    a.draw(self._cachedRenderer)\n",
      "  File \"/home/martial/anaconda3/lib/python3.5/site-packages/matplotlib/artist.py\", line 55, in draw_wrapper\n",
      "    return draw(artist, renderer, *args, **kwargs)\n",
      "  File \"/home/martial/anaconda3/lib/python3.5/site-packages/matplotlib/axis.py\", line 1190, in draw\n",
      "    ticks_to_draw = self._update_ticks(renderer)\n",
      "  File \"/home/martial/anaconda3/lib/python3.5/site-packages/matplotlib/axis.py\", line 1028, in _update_ticks\n",
      "    tick_tups = list(self.iter_ticks())  # iter_ticks calls the locator\n",
      "  File \"/home/martial/anaconda3/lib/python3.5/site-packages/matplotlib/axis.py\", line 971, in iter_ticks\n",
      "    majorLocs = self.major.locator()\n",
      "  File \"/home/martial/anaconda3/lib/python3.5/site-packages/matplotlib/ticker.py\", line 1945, in __call__\n",
      "    return self.tick_values(vmin, vmax)\n",
      "  File \"/home/martial/anaconda3/lib/python3.5/site-packages/matplotlib/ticker.py\", line 1953, in tick_values\n",
      "    locs = self._raw_ticks(vmin, vmax)\n",
      "  File \"/home/martial/anaconda3/lib/python3.5/site-packages/matplotlib/ticker.py\", line 1899, in _raw_ticks\n",
      "    nbins = np.clip(self.axis.get_tick_space(),\n",
      "  File \"/home/martial/anaconda3/lib/python3.5/site-packages/matplotlib/axis.py\", line 2503, in get_tick_space\n",
      "    tick = self._get_tick(True)\n",
      "  File \"/home/martial/anaconda3/lib/python3.5/site-packages/matplotlib/axis.py\", line 2164, in _get_tick\n",
      "    return YTick(self.axes, 0, '', major=major, **tick_kw)\n",
      "  File \"/home/martial/anaconda3/lib/python3.5/site-packages/matplotlib/axis.py\", line 102, in __init__\n",
      "    artist.Artist.__init__(self)\n",
      "  File \"/home/martial/anaconda3/lib/python3.5/site-packages/matplotlib/artist.py\", line 119, in __init__\n",
      "    self._sketch = rcParams['path.sketch']\n",
      "  File \"/home/martial/anaconda3/lib/python3.5/site-packages/matplotlib/__init__.py\", line 950, in __getitem__\n",
      "    val = dict.__getitem__(self, key)\n",
      "RecursionError: maximum recursion depth exceeded while calling a Python object\n",
      "Traceback (most recent call last):\n",
      "  File \"/home/martial/anaconda3/lib/python3.5/site-packages/matplotlib/cbook/__init__.py\", line 388, in process\n",
      "    proxy(*args, **kwargs)\n",
      "  File \"/home/martial/anaconda3/lib/python3.5/site-packages/matplotlib/cbook/__init__.py\", line 228, in __call__\n",
      "    return mtd(*args, **kwargs)\n",
      "  File \"/home/martial/anaconda3/lib/python3.5/site-packages/hyperspy/drawing/figure.py\", line 31, in _on_draw\n",
      "    self._draw_animated()\n",
      "  File \"/home/martial/anaconda3/lib/python3.5/site-packages/hyperspy/drawing/figure.py\", line 51, in _draw_animated\n",
      "    [ax.draw_artist(a) for a in artists if\n",
      "  File \"/home/martial/anaconda3/lib/python3.5/site-packages/hyperspy/drawing/figure.py\", line 52, in <listcomp>\n",
      "    a.get_animated() is True]\n",
      "  File \"/home/martial/anaconda3/lib/python3.5/site-packages/matplotlib/axes/_base.py\", line 2622, in draw_artist\n",
      "    a.draw(self._cachedRenderer)\n",
      "  File \"/home/martial/anaconda3/lib/python3.5/site-packages/matplotlib/artist.py\", line 55, in draw_wrapper\n",
      "    return draw(artist, renderer, *args, **kwargs)\n",
      "  File \"/home/martial/anaconda3/lib/python3.5/site-packages/matplotlib/axis.py\", line 1190, in draw\n",
      "    ticks_to_draw = self._update_ticks(renderer)\n",
      "  File \"/home/martial/anaconda3/lib/python3.5/site-packages/matplotlib/axis.py\", line 1028, in _update_ticks\n",
      "    tick_tups = list(self.iter_ticks())  # iter_ticks calls the locator\n",
      "  File \"/home/martial/anaconda3/lib/python3.5/site-packages/matplotlib/axis.py\", line 971, in iter_ticks\n",
      "    majorLocs = self.major.locator()\n",
      "  File \"/home/martial/anaconda3/lib/python3.5/site-packages/matplotlib/ticker.py\", line 1945, in __call__\n",
      "    return self.tick_values(vmin, vmax)\n",
      "  File \"/home/martial/anaconda3/lib/python3.5/site-packages/matplotlib/ticker.py\", line 1953, in tick_values\n",
      "    locs = self._raw_ticks(vmin, vmax)\n",
      "  File \"/home/martial/anaconda3/lib/python3.5/site-packages/matplotlib/ticker.py\", line 1899, in _raw_ticks\n",
      "    nbins = np.clip(self.axis.get_tick_space(),\n",
      "  File \"/home/martial/anaconda3/lib/python3.5/site-packages/matplotlib/axis.py\", line 2503, in get_tick_space\n",
      "    tick = self._get_tick(True)\n",
      "  File \"/home/martial/anaconda3/lib/python3.5/site-packages/matplotlib/axis.py\", line 2164, in _get_tick\n",
      "    return YTick(self.axes, 0, '', major=major, **tick_kw)\n",
      "  File \"/home/martial/anaconda3/lib/python3.5/site-packages/matplotlib/axis.py\", line 102, in __init__\n",
      "    artist.Artist.__init__(self)\n",
      "  File \"/home/martial/anaconda3/lib/python3.5/site-packages/matplotlib/artist.py\", line 119, in __init__\n",
      "    self._sketch = rcParams['path.sketch']\n",
      "  File \"/home/martial/anaconda3/lib/python3.5/site-packages/matplotlib/__init__.py\", line 950, in __getitem__\n",
      "    val = dict.__getitem__(self, key)\n",
      "RecursionError: maximum recursion depth exceeded while calling a Python object\n",
      "Traceback (most recent call last):\n",
      "  File \"/home/martial/anaconda3/lib/python3.5/site-packages/matplotlib/cbook/__init__.py\", line 388, in process\n",
      "    proxy(*args, **kwargs)\n",
      "  File \"/home/martial/anaconda3/lib/python3.5/site-packages/matplotlib/cbook/__init__.py\", line 228, in __call__\n",
      "    return mtd(*args, **kwargs)\n",
      "  File \"/home/martial/anaconda3/lib/python3.5/site-packages/hyperspy/drawing/figure.py\", line 31, in _on_draw\n",
      "    self._draw_animated()\n",
      "  File \"/home/martial/anaconda3/lib/python3.5/site-packages/hyperspy/drawing/figure.py\", line 51, in _draw_animated\n",
      "    [ax.draw_artist(a) for a in artists if\n",
      "  File \"/home/martial/anaconda3/lib/python3.5/site-packages/hyperspy/drawing/figure.py\", line 52, in <listcomp>\n",
      "    a.get_animated() is True]\n",
      "  File \"/home/martial/anaconda3/lib/python3.5/site-packages/matplotlib/axes/_base.py\", line 2622, in draw_artist\n",
      "    a.draw(self._cachedRenderer)\n",
      "  File \"/home/martial/anaconda3/lib/python3.5/site-packages/matplotlib/artist.py\", line 55, in draw_wrapper\n",
      "    return draw(artist, renderer, *args, **kwargs)\n",
      "  File \"/home/martial/anaconda3/lib/python3.5/site-packages/matplotlib/axis.py\", line 1190, in draw\n",
      "    ticks_to_draw = self._update_ticks(renderer)\n",
      "  File \"/home/martial/anaconda3/lib/python3.5/site-packages/matplotlib/axis.py\", line 1028, in _update_ticks\n",
      "    tick_tups = list(self.iter_ticks())  # iter_ticks calls the locator\n",
      "  File \"/home/martial/anaconda3/lib/python3.5/site-packages/matplotlib/axis.py\", line 971, in iter_ticks\n",
      "    majorLocs = self.major.locator()\n",
      "  File \"/home/martial/anaconda3/lib/python3.5/site-packages/matplotlib/ticker.py\", line 1945, in __call__\n",
      "    return self.tick_values(vmin, vmax)\n",
      "  File \"/home/martial/anaconda3/lib/python3.5/site-packages/matplotlib/ticker.py\", line 1953, in tick_values\n",
      "    locs = self._raw_ticks(vmin, vmax)\n",
      "  File \"/home/martial/anaconda3/lib/python3.5/site-packages/matplotlib/ticker.py\", line 1899, in _raw_ticks\n",
      "    nbins = np.clip(self.axis.get_tick_space(),\n",
      "  File \"/home/martial/anaconda3/lib/python3.5/site-packages/matplotlib/axis.py\", line 2503, in get_tick_space\n",
      "    tick = self._get_tick(True)\n",
      "  File \"/home/martial/anaconda3/lib/python3.5/site-packages/matplotlib/axis.py\", line 2164, in _get_tick\n",
      "    return YTick(self.axes, 0, '', major=major, **tick_kw)\n",
      "  File \"/home/martial/anaconda3/lib/python3.5/site-packages/matplotlib/axis.py\", line 176, in __init__\n",
      "    self.tick1line = self._get_tick1line()\n",
      "  File \"/home/martial/anaconda3/lib/python3.5/site-packages/matplotlib/axis.py\", line 599, in _get_tick1line\n",
      "    zorder=self._zorder)\n",
      "  File \"/home/martial/anaconda3/lib/python3.5/site-packages/matplotlib/lines.py\", line 397, in __init__\n",
      "    self._marker = MarkerStyle(marker, fillstyle)\n",
      "  File \"/home/martial/anaconda3/lib/python3.5/site-packages/matplotlib/markers.py\", line 188, in __init__\n",
      "    self.set_fillstyle(fillstyle)\n",
      "  File \"/home/martial/anaconda3/lib/python3.5/site-packages/matplotlib/markers.py\", line 235, in set_fillstyle\n",
      "    fillstyle = rcParams['markers.fillstyle']\n",
      "RecursionError: maximum recursion depth exceeded\n"
     ]
    },
    {
     "name": "stderr",
     "output_type": "stream",
     "text": [
      "Traceback (most recent call last):\n",
      "  File \"/home/martial/anaconda3/lib/python3.5/site-packages/matplotlib/cbook/__init__.py\", line 388, in process\n",
      "    proxy(*args, **kwargs)\n",
      "  File \"/home/martial/anaconda3/lib/python3.5/site-packages/matplotlib/cbook/__init__.py\", line 228, in __call__\n",
      "    return mtd(*args, **kwargs)\n",
      "  File \"/home/martial/anaconda3/lib/python3.5/site-packages/hyperspy/drawing/figure.py\", line 31, in _on_draw\n",
      "    self._draw_animated()\n",
      "  File \"/home/martial/anaconda3/lib/python3.5/site-packages/hyperspy/drawing/figure.py\", line 51, in _draw_animated\n",
      "    [ax.draw_artist(a) for a in artists if\n",
      "  File \"/home/martial/anaconda3/lib/python3.5/site-packages/hyperspy/drawing/figure.py\", line 52, in <listcomp>\n",
      "    a.get_animated() is True]\n",
      "  File \"/home/martial/anaconda3/lib/python3.5/site-packages/matplotlib/axes/_base.py\", line 2622, in draw_artist\n",
      "    a.draw(self._cachedRenderer)\n",
      "  File \"/home/martial/anaconda3/lib/python3.5/site-packages/matplotlib/artist.py\", line 55, in draw_wrapper\n",
      "    return draw(artist, renderer, *args, **kwargs)\n",
      "  File \"/home/martial/anaconda3/lib/python3.5/site-packages/matplotlib/axis.py\", line 1190, in draw\n",
      "    ticks_to_draw = self._update_ticks(renderer)\n",
      "  File \"/home/martial/anaconda3/lib/python3.5/site-packages/matplotlib/axis.py\", line 1028, in _update_ticks\n",
      "    tick_tups = list(self.iter_ticks())  # iter_ticks calls the locator\n",
      "  File \"/home/martial/anaconda3/lib/python3.5/site-packages/matplotlib/axis.py\", line 971, in iter_ticks\n",
      "    majorLocs = self.major.locator()\n",
      "  File \"/home/martial/anaconda3/lib/python3.5/site-packages/matplotlib/ticker.py\", line 1945, in __call__\n",
      "    return self.tick_values(vmin, vmax)\n",
      "  File \"/home/martial/anaconda3/lib/python3.5/site-packages/matplotlib/ticker.py\", line 1953, in tick_values\n",
      "    locs = self._raw_ticks(vmin, vmax)\n",
      "  File \"/home/martial/anaconda3/lib/python3.5/site-packages/matplotlib/ticker.py\", line 1899, in _raw_ticks\n",
      "    nbins = np.clip(self.axis.get_tick_space(),\n",
      "  File \"/home/martial/anaconda3/lib/python3.5/site-packages/matplotlib/axis.py\", line 2503, in get_tick_space\n",
      "    tick = self._get_tick(True)\n",
      "  File \"/home/martial/anaconda3/lib/python3.5/site-packages/matplotlib/axis.py\", line 2164, in _get_tick\n",
      "    return YTick(self.axes, 0, '', major=major, **tick_kw)\n",
      "  File \"/home/martial/anaconda3/lib/python3.5/site-packages/matplotlib/axis.py\", line 176, in __init__\n",
      "    self.tick1line = self._get_tick1line()\n",
      "  File \"/home/martial/anaconda3/lib/python3.5/site-packages/matplotlib/axis.py\", line 599, in _get_tick1line\n",
      "    zorder=self._zorder)\n",
      "  File \"/home/martial/anaconda3/lib/python3.5/site-packages/matplotlib/lines.py\", line 397, in __init__\n",
      "    self._marker = MarkerStyle(marker, fillstyle)\n",
      "  File \"/home/martial/anaconda3/lib/python3.5/site-packages/matplotlib/markers.py\", line 188, in __init__\n",
      "    self.set_fillstyle(fillstyle)\n",
      "  File \"/home/martial/anaconda3/lib/python3.5/site-packages/matplotlib/markers.py\", line 235, in set_fillstyle\n",
      "    fillstyle = rcParams['markers.fillstyle']\n",
      "RecursionError: maximum recursion depth exceeded\n"
     ]
    }
   ],
   "source": [
    "edx_denoised.integrate1D(1).plot(navigator=haadf_denoised.integrate1D(1), xray_lines=True)"
   ]
  },
  {
   "cell_type": "code",
   "execution_count": 29,
   "metadata": {
    "collapsed": true
   },
   "outputs": [],
   "source": [
    "for i in range(0,nbr_xray_lines):\n",
    "    edx_denoised.get_lines_intensity()[i].plot()"
   ]
  },
  {
   "cell_type": "markdown",
   "metadata": {},
   "source": [
    "##### Mozaic Figure"
   ]
  },
  {
   "cell_type": "code",
   "execution_count": 30,
   "metadata": {},
   "outputs": [
    {
     "name": "stderr",
     "output_type": "stream",
     "text": [
      "Traceback (most recent call last):\n",
      "  File \"/home/martial/anaconda3/lib/python3.5/site-packages/matplotlib/backends/backend_qt5.py\", line 519, in _draw_idle\n",
      "    self.draw()\n",
      "  File \"/home/martial/anaconda3/lib/python3.5/site-packages/matplotlib/backends/backend_agg.py\", line 433, in draw\n",
      "    self.figure.draw(self.renderer)\n",
      "  File \"/home/martial/anaconda3/lib/python3.5/site-packages/matplotlib/artist.py\", line 55, in draw_wrapper\n",
      "    return draw(artist, renderer, *args, **kwargs)\n",
      "  File \"/home/martial/anaconda3/lib/python3.5/site-packages/matplotlib/figure.py\", line 1475, in draw\n",
      "    renderer, self, artists, self.suppressComposite)\n",
      "  File \"/home/martial/anaconda3/lib/python3.5/site-packages/matplotlib/image.py\", line 141, in _draw_list_compositing_images\n",
      "    a.draw(renderer)\n",
      "  File \"/home/martial/anaconda3/lib/python3.5/site-packages/matplotlib/artist.py\", line 55, in draw_wrapper\n",
      "    return draw(artist, renderer, *args, **kwargs)\n",
      "  File \"/home/martial/anaconda3/lib/python3.5/site-packages/matplotlib/axes/_base.py\", line 2607, in draw\n",
      "    mimage._draw_list_compositing_images(renderer, self, artists)\n",
      "  File \"/home/martial/anaconda3/lib/python3.5/site-packages/matplotlib/image.py\", line 141, in _draw_list_compositing_images\n",
      "    a.draw(renderer)\n",
      "  File \"/home/martial/anaconda3/lib/python3.5/site-packages/matplotlib/artist.py\", line 55, in draw_wrapper\n",
      "    return draw(artist, renderer, *args, **kwargs)\n",
      "  File \"/home/martial/anaconda3/lib/python3.5/site-packages/matplotlib/image.py\", line 593, in draw\n",
      "    renderer, renderer.get_image_magnification())\n",
      "  File \"/home/martial/anaconda3/lib/python3.5/site-packages/matplotlib/image.py\", line 841, in make_image\n",
      "    unsampled=unsampled)\n",
      "  File \"/home/martial/anaconda3/lib/python3.5/site-packages/matplotlib/image.py\", line 309, in _make_image\n",
      "    clipped_bbox = Bbox.intersection(out_bbox, clip_bbox)\n",
      "  File \"/home/martial/anaconda3/lib/python3.5/site-packages/matplotlib/transforms.py\", line 759, in intersection\n",
      "    x0 = np.maximum(bbox1.xmin, bbox2.xmin)\n",
      "  File \"/home/martial/anaconda3/lib/python3.5/site-packages/matplotlib/transforms.py\", line 355, in xmin\n",
      "    return np.min(self.get_points()[:, 0])\n",
      "  File \"/home/martial/anaconda3/lib/python3.5/site-packages/matplotlib/transforms.py\", line 1082, in get_points\n",
      "    [p[1, 0], p[1, 1]]])\n",
      "  File \"/home/martial/anaconda3/lib/python3.5/site-packages/matplotlib/transforms.py\", line 1446, in transform\n",
      "    res = self.transform_affine(self.transform_non_affine(values))\n",
      "  File \"/home/martial/anaconda3/lib/python3.5/site-packages/matplotlib/transforms.py\", line 2482, in transform_affine\n",
      "    return self.get_affine().transform(points)\n",
      "  File \"/home/martial/anaconda3/lib/python3.5/site-packages/matplotlib/transforms.py\", line 2509, in get_affine\n",
      "    return Affine2D(np.dot(self._b.get_affine().get_matrix(),\n",
      "  File \"/home/martial/anaconda3/lib/python3.5/site-packages/matplotlib/transforms.py\", line 2510, in get_affine\n",
      "    self._a.get_affine().get_matrix()))\n",
      "  File \"/home/martial/anaconda3/lib/python3.5/site-packages/matplotlib/transforms.py\", line 1929, in __init__\n",
      "    Affine2DBase.__init__(self, **kwargs)\n",
      "RecursionError: maximum recursion depth exceeded\n",
      "Traceback (most recent call last):\n",
      "  File \"/home/martial/anaconda3/lib/python3.5/site-packages/matplotlib/backends/backend_qt5.py\", line 519, in _draw_idle\n",
      "    self.draw()\n",
      "  File \"/home/martial/anaconda3/lib/python3.5/site-packages/matplotlib/backends/backend_agg.py\", line 433, in draw\n",
      "    self.figure.draw(self.renderer)\n",
      "  File \"/home/martial/anaconda3/lib/python3.5/site-packages/matplotlib/artist.py\", line 55, in draw_wrapper\n",
      "    return draw(artist, renderer, *args, **kwargs)\n",
      "  File \"/home/martial/anaconda3/lib/python3.5/site-packages/matplotlib/figure.py\", line 1475, in draw\n",
      "    renderer, self, artists, self.suppressComposite)\n",
      "  File \"/home/martial/anaconda3/lib/python3.5/site-packages/matplotlib/image.py\", line 141, in _draw_list_compositing_images\n",
      "    a.draw(renderer)\n",
      "  File \"/home/martial/anaconda3/lib/python3.5/site-packages/matplotlib/artist.py\", line 55, in draw_wrapper\n",
      "    return draw(artist, renderer, *args, **kwargs)\n",
      "  File \"/home/martial/anaconda3/lib/python3.5/site-packages/matplotlib/axes/_base.py\", line 2607, in draw\n",
      "    mimage._draw_list_compositing_images(renderer, self, artists)\n",
      "  File \"/home/martial/anaconda3/lib/python3.5/site-packages/matplotlib/image.py\", line 141, in _draw_list_compositing_images\n",
      "    a.draw(renderer)\n",
      "  File \"/home/martial/anaconda3/lib/python3.5/site-packages/matplotlib/artist.py\", line 55, in draw_wrapper\n",
      "    return draw(artist, renderer, *args, **kwargs)\n",
      "  File \"/home/martial/anaconda3/lib/python3.5/site-packages/matplotlib/image.py\", line 593, in draw\n",
      "    renderer, renderer.get_image_magnification())\n",
      "  File \"/home/martial/anaconda3/lib/python3.5/site-packages/matplotlib/image.py\", line 841, in make_image\n",
      "    unsampled=unsampled)\n",
      "  File \"/home/martial/anaconda3/lib/python3.5/site-packages/matplotlib/image.py\", line 309, in _make_image\n",
      "    clipped_bbox = Bbox.intersection(out_bbox, clip_bbox)\n",
      "  File \"/home/martial/anaconda3/lib/python3.5/site-packages/matplotlib/transforms.py\", line 759, in intersection\n",
      "    x0 = np.maximum(bbox1.xmin, bbox2.xmin)\n",
      "  File \"/home/martial/anaconda3/lib/python3.5/site-packages/matplotlib/transforms.py\", line 355, in xmin\n",
      "    return np.min(self.get_points()[:, 0])\n",
      "  File \"/home/martial/anaconda3/lib/python3.5/site-packages/matplotlib/transforms.py\", line 1082, in get_points\n",
      "    [p[1, 0], p[1, 1]]])\n",
      "  File \"/home/martial/anaconda3/lib/python3.5/site-packages/matplotlib/transforms.py\", line 1446, in transform\n",
      "    res = self.transform_affine(self.transform_non_affine(values))\n",
      "  File \"/home/martial/anaconda3/lib/python3.5/site-packages/matplotlib/transforms.py\", line 2482, in transform_affine\n",
      "    return self.get_affine().transform(points)\n",
      "  File \"/home/martial/anaconda3/lib/python3.5/site-packages/matplotlib/transforms.py\", line 2509, in get_affine\n",
      "    return Affine2D(np.dot(self._b.get_affine().get_matrix(),\n",
      "  File \"/home/martial/anaconda3/lib/python3.5/site-packages/matplotlib/transforms.py\", line 2510, in get_affine\n",
      "    self._a.get_affine().get_matrix()))\n",
      "  File \"/home/martial/anaconda3/lib/python3.5/site-packages/matplotlib/transforms.py\", line 1929, in __init__\n",
      "    Affine2DBase.__init__(self, **kwargs)\n",
      "RecursionError: maximum recursion depth exceeded\n",
      "Traceback (most recent call last):\n",
      "  File \"/home/martial/anaconda3/lib/python3.5/site-packages/matplotlib/backends/backend_qt5.py\", line 519, in _draw_idle\n",
      "    self.draw()\n",
      "  File \"/home/martial/anaconda3/lib/python3.5/site-packages/matplotlib/backends/backend_agg.py\", line 433, in draw\n",
      "    self.figure.draw(self.renderer)\n",
      "  File \"/home/martial/anaconda3/lib/python3.5/site-packages/matplotlib/artist.py\", line 55, in draw_wrapper\n",
      "    return draw(artist, renderer, *args, **kwargs)\n",
      "  File \"/home/martial/anaconda3/lib/python3.5/site-packages/matplotlib/figure.py\", line 1475, in draw\n",
      "    renderer, self, artists, self.suppressComposite)\n",
      "  File \"/home/martial/anaconda3/lib/python3.5/site-packages/matplotlib/image.py\", line 141, in _draw_list_compositing_images\n",
      "    a.draw(renderer)\n",
      "  File \"/home/martial/anaconda3/lib/python3.5/site-packages/matplotlib/artist.py\", line 55, in draw_wrapper\n",
      "    return draw(artist, renderer, *args, **kwargs)\n",
      "  File \"/home/martial/anaconda3/lib/python3.5/site-packages/matplotlib/axes/_base.py\", line 2607, in draw\n",
      "    mimage._draw_list_compositing_images(renderer, self, artists)\n",
      "  File \"/home/martial/anaconda3/lib/python3.5/site-packages/matplotlib/image.py\", line 141, in _draw_list_compositing_images\n",
      "    a.draw(renderer)\n",
      "  File \"/home/martial/anaconda3/lib/python3.5/site-packages/matplotlib/artist.py\", line 55, in draw_wrapper\n",
      "    return draw(artist, renderer, *args, **kwargs)\n",
      "  File \"/home/martial/anaconda3/lib/python3.5/site-packages/matplotlib/image.py\", line 593, in draw\n",
      "    renderer, renderer.get_image_magnification())\n",
      "  File \"/home/martial/anaconda3/lib/python3.5/site-packages/matplotlib/image.py\", line 841, in make_image\n",
      "    unsampled=unsampled)\n",
      "  File \"/home/martial/anaconda3/lib/python3.5/site-packages/matplotlib/image.py\", line 309, in _make_image\n",
      "    clipped_bbox = Bbox.intersection(out_bbox, clip_bbox)\n",
      "  File \"/home/martial/anaconda3/lib/python3.5/site-packages/matplotlib/transforms.py\", line 759, in intersection\n",
      "    x0 = np.maximum(bbox1.xmin, bbox2.xmin)\n",
      "  File \"/home/martial/anaconda3/lib/python3.5/site-packages/matplotlib/transforms.py\", line 355, in xmin\n",
      "    return np.min(self.get_points()[:, 0])\n",
      "  File \"/home/martial/anaconda3/lib/python3.5/site-packages/matplotlib/transforms.py\", line 1082, in get_points\n",
      "    [p[1, 0], p[1, 1]]])\n",
      "  File \"/home/martial/anaconda3/lib/python3.5/site-packages/matplotlib/transforms.py\", line 1446, in transform\n",
      "    res = self.transform_affine(self.transform_non_affine(values))\n",
      "  File \"/home/martial/anaconda3/lib/python3.5/site-packages/matplotlib/transforms.py\", line 2482, in transform_affine\n",
      "    return self.get_affine().transform(points)\n",
      "  File \"/home/martial/anaconda3/lib/python3.5/site-packages/matplotlib/transforms.py\", line 2509, in get_affine\n",
      "    return Affine2D(np.dot(self._b.get_affine().get_matrix(),\n",
      "  File \"/home/martial/anaconda3/lib/python3.5/site-packages/matplotlib/transforms.py\", line 2510, in get_affine\n",
      "    self._a.get_affine().get_matrix()))\n",
      "  File \"/home/martial/anaconda3/lib/python3.5/site-packages/matplotlib/transforms.py\", line 1929, in __init__\n",
      "    Affine2DBase.__init__(self, **kwargs)\n",
      "RecursionError: maximum recursion depth exceeded\n"
     ]
    },
    {
     "name": "stderr",
     "output_type": "stream",
     "text": [
      "Traceback (most recent call last):\n",
      "  File \"/home/martial/anaconda3/lib/python3.5/site-packages/matplotlib/backends/backend_qt5.py\", line 519, in _draw_idle\n",
      "    self.draw()\n",
      "  File \"/home/martial/anaconda3/lib/python3.5/site-packages/matplotlib/backends/backend_agg.py\", line 433, in draw\n",
      "    self.figure.draw(self.renderer)\n",
      "  File \"/home/martial/anaconda3/lib/python3.5/site-packages/matplotlib/artist.py\", line 55, in draw_wrapper\n",
      "    return draw(artist, renderer, *args, **kwargs)\n",
      "  File \"/home/martial/anaconda3/lib/python3.5/site-packages/matplotlib/figure.py\", line 1475, in draw\n",
      "    renderer, self, artists, self.suppressComposite)\n",
      "  File \"/home/martial/anaconda3/lib/python3.5/site-packages/matplotlib/image.py\", line 141, in _draw_list_compositing_images\n",
      "    a.draw(renderer)\n",
      "  File \"/home/martial/anaconda3/lib/python3.5/site-packages/matplotlib/artist.py\", line 55, in draw_wrapper\n",
      "    return draw(artist, renderer, *args, **kwargs)\n",
      "  File \"/home/martial/anaconda3/lib/python3.5/site-packages/matplotlib/axes/_base.py\", line 2607, in draw\n",
      "    mimage._draw_list_compositing_images(renderer, self, artists)\n",
      "  File \"/home/martial/anaconda3/lib/python3.5/site-packages/matplotlib/image.py\", line 141, in _draw_list_compositing_images\n",
      "    a.draw(renderer)\n",
      "  File \"/home/martial/anaconda3/lib/python3.5/site-packages/matplotlib/artist.py\", line 55, in draw_wrapper\n",
      "    return draw(artist, renderer, *args, **kwargs)\n",
      "  File \"/home/martial/anaconda3/lib/python3.5/site-packages/matplotlib/image.py\", line 593, in draw\n",
      "    renderer, renderer.get_image_magnification())\n",
      "  File \"/home/martial/anaconda3/lib/python3.5/site-packages/matplotlib/image.py\", line 841, in make_image\n",
      "    unsampled=unsampled)\n",
      "  File \"/home/martial/anaconda3/lib/python3.5/site-packages/matplotlib/image.py\", line 309, in _make_image\n",
      "    clipped_bbox = Bbox.intersection(out_bbox, clip_bbox)\n",
      "  File \"/home/martial/anaconda3/lib/python3.5/site-packages/matplotlib/transforms.py\", line 759, in intersection\n",
      "    x0 = np.maximum(bbox1.xmin, bbox2.xmin)\n",
      "  File \"/home/martial/anaconda3/lib/python3.5/site-packages/matplotlib/transforms.py\", line 355, in xmin\n",
      "    return np.min(self.get_points()[:, 0])\n",
      "  File \"/home/martial/anaconda3/lib/python3.5/site-packages/matplotlib/transforms.py\", line 1082, in get_points\n",
      "    [p[1, 0], p[1, 1]]])\n",
      "  File \"/home/martial/anaconda3/lib/python3.5/site-packages/matplotlib/transforms.py\", line 1446, in transform\n",
      "    res = self.transform_affine(self.transform_non_affine(values))\n",
      "  File \"/home/martial/anaconda3/lib/python3.5/site-packages/matplotlib/transforms.py\", line 2482, in transform_affine\n",
      "    return self.get_affine().transform(points)\n",
      "  File \"/home/martial/anaconda3/lib/python3.5/site-packages/matplotlib/transforms.py\", line 2509, in get_affine\n",
      "    return Affine2D(np.dot(self._b.get_affine().get_matrix(),\n",
      "  File \"/home/martial/anaconda3/lib/python3.5/site-packages/matplotlib/transforms.py\", line 2510, in get_affine\n",
      "    self._a.get_affine().get_matrix()))\n",
      "  File \"/home/martial/anaconda3/lib/python3.5/site-packages/matplotlib/transforms.py\", line 1929, in __init__\n",
      "    Affine2DBase.__init__(self, **kwargs)\n",
      "RecursionError: maximum recursion depth exceeded\n",
      "Traceback (most recent call last):\n",
      "  File \"/home/martial/anaconda3/lib/python3.5/site-packages/matplotlib/backends/backend_qt5.py\", line 519, in _draw_idle\n",
      "    self.draw()\n",
      "  File \"/home/martial/anaconda3/lib/python3.5/site-packages/matplotlib/backends/backend_agg.py\", line 433, in draw\n",
      "    self.figure.draw(self.renderer)\n",
      "  File \"/home/martial/anaconda3/lib/python3.5/site-packages/matplotlib/artist.py\", line 55, in draw_wrapper\n",
      "    return draw(artist, renderer, *args, **kwargs)\n",
      "  File \"/home/martial/anaconda3/lib/python3.5/site-packages/matplotlib/figure.py\", line 1475, in draw\n",
      "    renderer, self, artists, self.suppressComposite)\n",
      "  File \"/home/martial/anaconda3/lib/python3.5/site-packages/matplotlib/image.py\", line 141, in _draw_list_compositing_images\n",
      "    a.draw(renderer)\n",
      "  File \"/home/martial/anaconda3/lib/python3.5/site-packages/matplotlib/artist.py\", line 55, in draw_wrapper\n",
      "    return draw(artist, renderer, *args, **kwargs)\n",
      "  File \"/home/martial/anaconda3/lib/python3.5/site-packages/matplotlib/axes/_base.py\", line 2607, in draw\n",
      "    mimage._draw_list_compositing_images(renderer, self, artists)\n",
      "  File \"/home/martial/anaconda3/lib/python3.5/site-packages/matplotlib/image.py\", line 141, in _draw_list_compositing_images\n",
      "    a.draw(renderer)\n",
      "  File \"/home/martial/anaconda3/lib/python3.5/site-packages/matplotlib/artist.py\", line 55, in draw_wrapper\n",
      "    return draw(artist, renderer, *args, **kwargs)\n",
      "  File \"/home/martial/anaconda3/lib/python3.5/site-packages/matplotlib/image.py\", line 593, in draw\n",
      "    renderer, renderer.get_image_magnification())\n",
      "  File \"/home/martial/anaconda3/lib/python3.5/site-packages/matplotlib/image.py\", line 841, in make_image\n",
      "    unsampled=unsampled)\n",
      "  File \"/home/martial/anaconda3/lib/python3.5/site-packages/matplotlib/image.py\", line 309, in _make_image\n",
      "    clipped_bbox = Bbox.intersection(out_bbox, clip_bbox)\n",
      "  File \"/home/martial/anaconda3/lib/python3.5/site-packages/matplotlib/transforms.py\", line 759, in intersection\n",
      "    x0 = np.maximum(bbox1.xmin, bbox2.xmin)\n",
      "  File \"/home/martial/anaconda3/lib/python3.5/site-packages/matplotlib/transforms.py\", line 355, in xmin\n",
      "    return np.min(self.get_points()[:, 0])\n",
      "  File \"/home/martial/anaconda3/lib/python3.5/site-packages/matplotlib/transforms.py\", line 1082, in get_points\n",
      "    [p[1, 0], p[1, 1]]])\n",
      "  File \"/home/martial/anaconda3/lib/python3.5/site-packages/matplotlib/transforms.py\", line 1446, in transform\n",
      "    res = self.transform_affine(self.transform_non_affine(values))\n",
      "  File \"/home/martial/anaconda3/lib/python3.5/site-packages/matplotlib/transforms.py\", line 2482, in transform_affine\n",
      "    return self.get_affine().transform(points)\n",
      "  File \"/home/martial/anaconda3/lib/python3.5/site-packages/matplotlib/transforms.py\", line 2509, in get_affine\n",
      "    return Affine2D(np.dot(self._b.get_affine().get_matrix(),\n",
      "  File \"/home/martial/anaconda3/lib/python3.5/site-packages/matplotlib/transforms.py\", line 2510, in get_affine\n",
      "    self._a.get_affine().get_matrix()))\n",
      "  File \"/home/martial/anaconda3/lib/python3.5/site-packages/matplotlib/transforms.py\", line 1929, in __init__\n",
      "    Affine2DBase.__init__(self, **kwargs)\n",
      "RecursionError: maximum recursion depth exceeded\n"
     ]
    }
   ],
   "source": [
    "fig, axes = plt.subplots(nrows=3, ncols=2, sharex=False, sharey=False, squeeze=True)\n",
    "fig.subplots_adjust(hspace=-2.4, wspace=-1.0)\n",
    "fig.set_tight_layout(True)\n",
    "plt.setp(axes, xticks=[], xticklabels=[], yticks=[], yticklabels=[])\n",
    "\n",
    "im = axes[0,0].imshow(haadf_denoised.data, cmap='gray')\n",
    "im = axes[1,0].imshow(edx_denoised.get_lines_intensity(['N_Ka'])[0].data,vmin = 0, cmap='gnuplot')\n",
    "im = axes[2,0].imshow(edx_denoised.get_lines_intensity(['O_Ka'])[0].data, vmin = 0, cmap='gnuplot')\n",
    "im = axes[0,1].imshow(edx_denoised.get_lines_intensity(['Ga_La'])[0].data,vmin = 0, cmap='gnuplot')\n",
    "im = axes[1,1].imshow(edx_denoised.get_lines_intensity(['Al_Ka'])[0].data,vmin = 0, cmap='gnuplot')\n",
    "im = axes[2,1].imshow(edx_denoised.get_lines_intensity(['In_La'])[0].data, vmin = 0, cmap='gnuplot')\n",
    "\n",
    "plt.show()\n",
    "plt.savefig(\"Denoised_data_edx_fig2.png\", dpi=150)"
   ]
  },
  {
   "cell_type": "markdown",
   "metadata": {
    "collapsed": true
   },
   "source": [
    "### Vertical integration of the integrated xray line, raw data"
   ]
  },
  {
   "cell_type": "code",
   "execution_count": 31,
   "metadata": {},
   "outputs": [],
   "source": [
    "Int_ver = []\n",
    "\n",
    "Int_ver.append(norm(haadf_raw.integrate1D(1)))\n",
    "Int_ver.append(norm(edx_raw.get_lines_intensity(['N_Ka'])[0].integrate1D(1).transpose()))\n",
    "Int_ver.append(norm(edx_raw.get_lines_intensity(['Ga_La'])[0].integrate1D(1)).transpose())\n",
    "Int_ver.append(norm(edx_raw.get_lines_intensity(['Al_Ka'])[0].integrate1D(1)).transpose())\n",
    "Int_ver.append(norm(edx_raw.get_lines_intensity(['In_La'])[0].integrate1D(1)).transpose())"
   ]
  },
  {
   "cell_type": "code",
   "execution_count": 32,
   "metadata": {},
   "outputs": [],
   "source": [
    "#### Cascade plot\n",
    "cascade_plot = hs.plot.plot_spectra(Int_ver, style='cascade', legend=None, dpi=200)\n",
    "cascade_plot.figure.savefig(\"Vertical_integration_raw_data.png\")\n"
   ]
  },
  {
   "cell_type": "code",
   "execution_count": 33,
   "metadata": {},
   "outputs": [],
   "source": [
    "#### Overlap plot\n",
    "\n",
    "cascade_plot = hs.plot.plot_spectra(Int_ver, style='overlap', legend='auto', legend_loc='center left')\n",
    "cascade_plot.figure.savefig(\"Vertical_integration.png\")"
   ]
  },
  {
   "cell_type": "code",
   "execution_count": null,
   "metadata": {
    "collapsed": true
   },
   "outputs": [],
   "source": []
  },
  {
   "cell_type": "markdown",
   "metadata": {
    "collapsed": true
   },
   "source": [
    "### Vertical integration of the integrated xray line, denoised data"
   ]
  },
  {
   "cell_type": "code",
   "execution_count": 34,
   "metadata": {},
   "outputs": [],
   "source": [
    "Int_ver = []\n",
    "\n",
    "Int_ver.append(norm(haadf_denoised.integrate1D(1)))\n",
    "Int_ver.append(norm(edx_denoised.get_lines_intensity(['N_Ka'])[0].integrate1D(1).transpose()))\n",
    "Int_ver.append(norm(edx_denoised.get_lines_intensity(['Ga_La'])[0].integrate1D(1).transpose()))\n",
    "Int_ver.append(norm(edx_denoised.get_lines_intensity(['Al_Ka'])[0].integrate1D(1).transpose()))\n",
    "Int_ver.append(norm(edx_denoised.get_lines_intensity(['In_La'])[0].integrate1D(1).transpose()))"
   ]
  },
  {
   "cell_type": "code",
   "execution_count": 51,
   "metadata": {},
   "outputs": [],
   "source": [
    "Int_ver = []\n",
    "\n",
    "Int_ver.append(norm(haadf_denoised.integrate1D(1)))\n",
    "Int_ver.append((edx_denoised.get_lines_intensity(['N_Ka'])[0].integrate1D(1).transpose())/1.526)\n",
    "Int_ver.append((edx_denoised.get_lines_intensity(['Ga_Ka'])[0].integrate1D(1).transpose())/2.18)\n",
    "Int_ver.append((edx_denoised.get_lines_intensity(['Al_Ka'])[0].integrate1D(1).transpose())/0.993)\n",
    "Int_ver.append((edx_denoised.get_lines_intensity(['In_La'])[0].integrate1D(1).transpose())/3.071)"
   ]
  },
  {
   "cell_type": "code",
   "execution_count": 46,
   "metadata": {},
   "outputs": [],
   "source": [
    "#### Cascade plot\n",
    "cascade_plot = hs.plot.plot_spectra(Int_ver, style='cascade', legend=None, legend_loc='center left', dpi=200)\n",
    "cascade_plot.figure.savefig(\"Vertical_integration_denoised_data.png\")\n"
   ]
  },
  {
   "cell_type": "code",
   "execution_count": 52,
   "metadata": {},
   "outputs": [],
   "source": [
    "#### Overlap plot\n",
    "\n",
    "cascade_plot = hs.plot.plot_spectra(Int_ver, style='overlap', legend=None, legend_loc='center left')\n",
    "cascade_plot.figure.savefig(\"Vertical_integration.png\")"
   ]
  },
  {
   "cell_type": "markdown",
   "metadata": {
    "collapsed": true
   },
   "source": [
    "### Quantification of vertically integrated raw data"
   ]
  },
  {
   "cell_type": "code",
   "execution_count": 66,
   "metadata": {
    "collapsed": true
   },
   "outputs": [],
   "source": [
    "# CL factor from Rosenmoheur paper at 300kV (from Esprit)\n",
    "# CL factor from Esprit software juelich (see text file)\n",
    "\n",
    "CL_Ga_Ka=2.18 #Ga K: 2.18 Ga L:2.006\n",
    "CL_Al_Ka=0.993 #1.2\n",
    "CL_In_La=3.071 #2.9 #3.05 #In K: 41.184 In L:3.071\n",
    "CL_N_K=1.526"
   ]
  },
  {
   "cell_type": "code",
   "execution_count": 54,
   "metadata": {},
   "outputs": [
    {
     "data": {
      "text/plain": [
       "[<BaseSignal, title: X-ray line intensity of EDX: C_Ka at 0.28 keV, dimensions: (744, 561|)>,\n",
       " <BaseSignal, title: X-ray line intensity of EDX: O_Ka at 0.52 keV, dimensions: (744, 561|)>,\n",
       " <BaseSignal, title: X-ray line intensity of EDX: Al_Ka at 1.49 keV, dimensions: (744, 561|)>,\n",
       " <BaseSignal, title: X-ray line intensity of EDX: Ga_La at 1.10 keV, dimensions: (744, 561|)>,\n",
       " <BaseSignal, title: X-ray line intensity of EDX: Ga_Ka at 9.25 keV, dimensions: (744, 561|)>,\n",
       " <BaseSignal, title: X-ray line intensity of EDX: In_La at 3.29 keV, dimensions: (744, 561|)>,\n",
       " <BaseSignal, title: X-ray line intensity of EDX: N_Ka at 0.39 keV, dimensions: (744, 561|)>]"
      ]
     },
     "execution_count": 54,
     "metadata": {},
     "output_type": "execute_result"
    }
   ],
   "source": [
    "edx_raw.get_lines_intensity()"
   ]
  },
  {
   "cell_type": "code",
   "execution_count": 55,
   "metadata": {},
   "outputs": [
    {
     "data": {
      "text/plain": [
       "[<BaseSignal, title: X-ray line intensity of EDX: C_Ka at 0.28 keV, dimensions: (744, 561|)>,\n",
       " <BaseSignal, title: X-ray line intensity of EDX: O_Ka at 0.52 keV, dimensions: (744, 561|)>,\n",
       " <BaseSignal, title: X-ray line intensity of EDX: Al_Ka at 1.49 keV, dimensions: (744, 561|)>,\n",
       " <BaseSignal, title: X-ray line intensity of EDX: Ga_La at 1.10 keV, dimensions: (744, 561|)>,\n",
       " <BaseSignal, title: X-ray line intensity of EDX: Ga_Ka at 9.25 keV, dimensions: (744, 561|)>,\n",
       " <BaseSignal, title: X-ray line intensity of EDX: In_La at 3.29 keV, dimensions: (744, 561|)>,\n",
       " <BaseSignal, title: X-ray line intensity of EDX: N_Ka at 0.39 keV, dimensions: (744, 561|)>]"
      ]
     },
     "execution_count": 55,
     "metadata": {},
     "output_type": "execute_result"
    }
   ],
   "source": [
    "edx_raw.get_lines_intensity()"
   ]
  },
  {
   "cell_type": "markdown",
   "metadata": {},
   "source": [
    "Sum_Ga_Al_In_raw = mul_CL(edx_raw.get_lines_intensity(['Ga_Ka'])[0].integrate1D(1).transpose(),CL_Ga_Ka)+mul_CL(edx_raw.get_lines_intensity(['Al_Ka'])[0].integrate1D(1).transpose(), CL_Al_Ka)+mul_CL(edx_raw.get_lines_intensity(['In_La'])[0].integrate1D(1).transpose(), CL_In_La)+mul_CL(edx_raw.get_lines_intensity(['N_Ka'])[0].integrate1D(1).transpose(), CL_N_K)"
   ]
  },
  {
   "cell_type": "markdown",
   "metadata": {
    "collapsed": true
   },
   "source": [
    "Int_ver = []\n",
    "\n",
    "Int_ver.append(mul_CL(edx_raw.get_lines_intensity(['Ga_Ka'])[0].integrate1D(1).transpose(),CL_Ga_Ka)/Sum_Ga_Al_In_raw)\n",
    "Int_ver.append(mul_CL(edx_raw.get_lines_intensity(['Al_Ka'])[0].integrate1D(1).transpose(),CL_Al_Ka)/Sum_Ga_Al_In_raw)\n",
    "Int_ver.append(mul_CL(edx_raw.get_lines_intensity(['In_La'])[0].integrate1D(1).transpose(),CL_In_La)/Sum_Ga_Al_In_raw)\n",
    "Int_ver.append(mul_CL(edx_raw.get_lines_intensity(['N_Ka'])[0].integrate1D(1).transpose(),CL_N_K)/Sum_Ga_Al_In_raw)"
   ]
  },
  {
   "cell_type": "markdown",
   "metadata": {},
   "source": [
    "Int_ver = []\n",
    "\n",
    "Int_ver.append(mul_CL(edx_raw.get_lines_intensity(['Ga_Ka'])[0].integrate1D(1).transpose(),CL_Ga_Ka))\n",
    "Int_ver.append(mul_CL(edx_raw.get_lines_intensity(['Al_Ka'])[0].integrate1D(1).transpose(),CL_Al_Ka))\n",
    "Int_ver.append(mul_CL(edx_raw.get_lines_intensity(['In_La'])[0].integrate1D(1).transpose(),CL_In_La))\n",
    "Int_ver.append(mul_CL(edx_raw.get_lines_intensity(['N_Ka'])[0].integrate1D(1).transpose(),CL_N_K))"
   ]
  },
  {
   "cell_type": "code",
   "execution_count": 186,
   "metadata": {},
   "outputs": [
    {
     "name": "stderr",
     "output_type": "stream",
     "text": [
      "/home/martial/anaconda3/lib/python3.5/site-packages/hyperspy/misc/utils.py:1049: VisibleDeprecationWarning: The `Signal1D.integrate_in_range` method is deprecated and will be removed in v2.0. Use a `roi.SpanRoi` followed by `integrate1D` instead.\n",
      "  warnings.warn(msg, VisibleDeprecationWarning)\n"
     ]
    }
   ],
   "source": [
    "Ga_Ka_raw = edx_raw.integrate_in_range(signal_range=(9.0,9.5))/(9.5-9.0)\n",
    "#Ga_La = edx_denoised.integrate_in_range(signal_range=(1.0,1.23))/(1.23-1.0)\n",
    "N_Ka_raw = edx_raw.integrate_in_range(signal_range=(0.34,0.44))/(0.44-0.34)\n",
    "In_La_raw = edx_raw.integrate_in_range(signal_range=(3.15,3.4))/(3.4-3.15)\n",
    "Al_Ka_raw = edx_raw.integrate_in_range(signal_range=(1.35,1.65))/(1.65-1.35)"
   ]
  },
  {
   "cell_type": "code",
   "execution_count": 187,
   "metadata": {
    "collapsed": true
   },
   "outputs": [],
   "source": [
    "Int_ver = []\n",
    "\n",
    "Int_ver.append(Ga_Ka_raw.integrate1D(1).transpose())\n",
    "Int_ver.append(Al_Ka_raw.integrate1D(1).transpose())\n",
    "Int_ver.append(In_La_raw.integrate1D(1).transpose())\n",
    "Int_ver.append(N_Ka_raw.integrate1D(1).transpose())"
   ]
  },
  {
   "cell_type": "code",
   "execution_count": 189,
   "metadata": {},
   "outputs": [],
   "source": [
    "#### Cascade plot\n",
    "cascade_plot = hs.plot.plot_spectra(Int_ver, style='overlap', dpi=200)\n",
    "cascade_plot.figure.savefig(\"Vertical_integration_raw_data_not-norm_not-CL_overlap.png\")\n"
   ]
  },
  {
   "cell_type": "markdown",
   "metadata": {},
   "source": [
    "### Quantification of vertically integrated denoised data"
   ]
  },
  {
   "cell_type": "code",
   "execution_count": 166,
   "metadata": {},
   "outputs": [
    {
     "name": "stderr",
     "output_type": "stream",
     "text": [
      "/home/martial/anaconda3/lib/python3.5/site-packages/matplotlib/cbook/deprecation.py:107: MatplotlibDeprecationWarning: Adding an axes using the same arguments as a previous axes currently reuses the earlier instance.  In a future version, a new instance will always be created and returned.  Meanwhile, this warning can be suppressed, and the future behavior ensured, by passing a unique label to each axes instance.\n",
      "  warnings.warn(message, mplDeprecation, stacklevel=1)\n",
      "Traceback (most recent call last):\n",
      "  File \"/home/martial/anaconda3/lib/python3.5/site-packages/matplotlib/cbook/__init__.py\", line 388, in process\n",
      "    proxy(*args, **kwargs)\n",
      "  File \"/home/martial/anaconda3/lib/python3.5/site-packages/matplotlib/cbook/__init__.py\", line 228, in __call__\n",
      "    return mtd(*args, **kwargs)\n",
      "  File \"/home/martial/anaconda3/lib/python3.5/site-packages/hyperspy/drawing/figure.py\", line 31, in _on_draw\n",
      "    self._draw_animated()\n",
      "  File \"/home/martial/anaconda3/lib/python3.5/site-packages/hyperspy/drawing/figure.py\", line 51, in _draw_animated\n",
      "    [ax.draw_artist(a) for a in artists if\n",
      "  File \"/home/martial/anaconda3/lib/python3.5/site-packages/hyperspy/drawing/figure.py\", line 52, in <listcomp>\n",
      "    a.get_animated() is True]\n",
      "  File \"/home/martial/anaconda3/lib/python3.5/site-packages/matplotlib/axes/_base.py\", line 2622, in draw_artist\n",
      "    a.draw(self._cachedRenderer)\n",
      "  File \"/home/martial/anaconda3/lib/python3.5/site-packages/matplotlib/artist.py\", line 55, in draw_wrapper\n",
      "    return draw(artist, renderer, *args, **kwargs)\n",
      "  File \"/home/martial/anaconda3/lib/python3.5/site-packages/matplotlib/axis.py\", line 1190, in draw\n",
      "    ticks_to_draw = self._update_ticks(renderer)\n",
      "  File \"/home/martial/anaconda3/lib/python3.5/site-packages/matplotlib/axis.py\", line 1028, in _update_ticks\n",
      "    tick_tups = list(self.iter_ticks())  # iter_ticks calls the locator\n",
      "  File \"/home/martial/anaconda3/lib/python3.5/site-packages/matplotlib/axis.py\", line 971, in iter_ticks\n",
      "    majorLocs = self.major.locator()\n",
      "  File \"/home/martial/anaconda3/lib/python3.5/site-packages/matplotlib/ticker.py\", line 1945, in __call__\n",
      "    return self.tick_values(vmin, vmax)\n",
      "  File \"/home/martial/anaconda3/lib/python3.5/site-packages/matplotlib/ticker.py\", line 1953, in tick_values\n",
      "    locs = self._raw_ticks(vmin, vmax)\n",
      "  File \"/home/martial/anaconda3/lib/python3.5/site-packages/matplotlib/ticker.py\", line 1899, in _raw_ticks\n",
      "    nbins = np.clip(self.axis.get_tick_space(),\n",
      "  File \"/home/martial/anaconda3/lib/python3.5/site-packages/matplotlib/axis.py\", line 2503, in get_tick_space\n",
      "    tick = self._get_tick(True)\n",
      "  File \"/home/martial/anaconda3/lib/python3.5/site-packages/matplotlib/axis.py\", line 2164, in _get_tick\n",
      "    return YTick(self.axes, 0, '', major=major, **tick_kw)\n",
      "  File \"/home/martial/anaconda3/lib/python3.5/site-packages/matplotlib/axis.py\", line 102, in __init__\n",
      "    artist.Artist.__init__(self)\n",
      "  File \"/home/martial/anaconda3/lib/python3.5/site-packages/matplotlib/artist.py\", line 119, in __init__\n",
      "    self._sketch = rcParams['path.sketch']\n",
      "  File \"/home/martial/anaconda3/lib/python3.5/site-packages/matplotlib/__init__.py\", line 950, in __getitem__\n",
      "    val = dict.__getitem__(self, key)\n",
      "RecursionError: maximum recursion depth exceeded while calling a Python object\n",
      "Traceback (most recent call last):\n",
      "  File \"/home/martial/anaconda3/lib/python3.5/site-packages/matplotlib/cbook/__init__.py\", line 388, in process\n",
      "    proxy(*args, **kwargs)\n",
      "  File \"/home/martial/anaconda3/lib/python3.5/site-packages/matplotlib/cbook/__init__.py\", line 228, in __call__\n",
      "    return mtd(*args, **kwargs)\n",
      "  File \"/home/martial/anaconda3/lib/python3.5/site-packages/hyperspy/drawing/figure.py\", line 31, in _on_draw\n",
      "    self._draw_animated()\n",
      "  File \"/home/martial/anaconda3/lib/python3.5/site-packages/hyperspy/drawing/figure.py\", line 51, in _draw_animated\n",
      "    [ax.draw_artist(a) for a in artists if\n",
      "  File \"/home/martial/anaconda3/lib/python3.5/site-packages/hyperspy/drawing/figure.py\", line 52, in <listcomp>\n",
      "    a.get_animated() is True]\n",
      "  File \"/home/martial/anaconda3/lib/python3.5/site-packages/matplotlib/axes/_base.py\", line 2622, in draw_artist\n",
      "    a.draw(self._cachedRenderer)\n",
      "  File \"/home/martial/anaconda3/lib/python3.5/site-packages/matplotlib/artist.py\", line 55, in draw_wrapper\n",
      "    return draw(artist, renderer, *args, **kwargs)\n",
      "  File \"/home/martial/anaconda3/lib/python3.5/site-packages/matplotlib/image.py\", line 593, in draw\n",
      "    renderer, renderer.get_image_magnification())\n",
      "  File \"/home/martial/anaconda3/lib/python3.5/site-packages/matplotlib/image.py\", line 841, in make_image\n",
      "    unsampled=unsampled)\n",
      "  File \"/home/martial/anaconda3/lib/python3.5/site-packages/matplotlib/image.py\", line 489, in _make_image\n",
      "    output = self.norm(np.ma.masked_array(A_resampled, out_mask))\n",
      "  File \"/home/martial/anaconda3/lib/python3.5/site-packages/matplotlib/colors.py\", line 938, in __call__\n",
      "    result, is_scalar = self.process_value(value)\n",
      "  File \"/home/martial/anaconda3/lib/python3.5/site-packages/matplotlib/colors.py\", line 924, in process_value\n",
      "    result = np.ma.array(data, mask=mask, dtype=dtype, copy=True)\n",
      "  File \"/home/martial/anaconda3/lib/python3.5/site-packages/numpy/ma/core.py\", line 6146, in array\n",
      "    ndmin=ndmin, shrink=shrink, order=order)\n",
      "  File \"/home/martial/anaconda3/lib/python3.5/site-packages/numpy/ma/core.py\", line 2727, in __new__\n",
      "    _data = ndarray.view(_data, cls)\n",
      "  File \"/home/martial/anaconda3/lib/python3.5/site-packages/numpy/ma/core.py\", line 2922, in __array_finalize__\n",
      "    self._mask = _mask\n",
      "  File \"/home/martial/anaconda3/lib/python3.5/site-packages/numpy/ma/core.py\", line 3268, in __setattr__\n",
      "    super(MaskedArray, self).__setattr__(attr, value)\n",
      "RecursionError: maximum recursion depth exceeded while calling a Python object\n",
      "Traceback (most recent call last):\n",
      "  File \"/home/martial/anaconda3/lib/python3.5/site-packages/matplotlib/backends/backend_qt5.py\", line 519, in _draw_idle\n",
      "    self.draw()\n",
      "  File \"/home/martial/anaconda3/lib/python3.5/site-packages/matplotlib/backends/backend_agg.py\", line 433, in draw\n",
      "    self.figure.draw(self.renderer)\n",
      "  File \"/home/martial/anaconda3/lib/python3.5/site-packages/matplotlib/artist.py\", line 55, in draw_wrapper\n",
      "    return draw(artist, renderer, *args, **kwargs)\n",
      "  File \"/home/martial/anaconda3/lib/python3.5/site-packages/matplotlib/figure.py\", line 1475, in draw\n",
      "    renderer, self, artists, self.suppressComposite)\n",
      "  File \"/home/martial/anaconda3/lib/python3.5/site-packages/matplotlib/image.py\", line 141, in _draw_list_compositing_images\n",
      "    a.draw(renderer)\n",
      "  File \"/home/martial/anaconda3/lib/python3.5/site-packages/matplotlib/artist.py\", line 55, in draw_wrapper\n",
      "    return draw(artist, renderer, *args, **kwargs)\n",
      "  File \"/home/martial/anaconda3/lib/python3.5/site-packages/matplotlib/axes/_base.py\", line 2607, in draw\n",
      "    mimage._draw_list_compositing_images(renderer, self, artists)\n",
      "  File \"/home/martial/anaconda3/lib/python3.5/site-packages/matplotlib/image.py\", line 141, in _draw_list_compositing_images\n",
      "    a.draw(renderer)\n",
      "  File \"/home/martial/anaconda3/lib/python3.5/site-packages/matplotlib/artist.py\", line 55, in draw_wrapper\n",
      "    return draw(artist, renderer, *args, **kwargs)\n",
      "  File \"/home/martial/anaconda3/lib/python3.5/site-packages/matplotlib/image.py\", line 593, in draw\n",
      "    renderer, renderer.get_image_magnification())\n",
      "  File \"/home/martial/anaconda3/lib/python3.5/site-packages/matplotlib/image.py\", line 841, in make_image\n",
      "    unsampled=unsampled)\n",
      "  File \"/home/martial/anaconda3/lib/python3.5/site-packages/matplotlib/image.py\", line 309, in _make_image\n",
      "    clipped_bbox = Bbox.intersection(out_bbox, clip_bbox)\n",
      "  File \"/home/martial/anaconda3/lib/python3.5/site-packages/matplotlib/transforms.py\", line 759, in intersection\n",
      "    x0 = np.maximum(bbox1.xmin, bbox2.xmin)\n",
      "  File \"/home/martial/anaconda3/lib/python3.5/site-packages/matplotlib/transforms.py\", line 355, in xmin\n",
      "    return np.min(self.get_points()[:, 0])\n",
      "  File \"/home/martial/anaconda3/lib/python3.5/site-packages/matplotlib/transforms.py\", line 1082, in get_points\n",
      "    [p[1, 0], p[1, 1]]])\n",
      "  File \"/home/martial/anaconda3/lib/python3.5/site-packages/matplotlib/transforms.py\", line 1446, in transform\n",
      "    res = self.transform_affine(self.transform_non_affine(values))\n",
      "  File \"/home/martial/anaconda3/lib/python3.5/site-packages/matplotlib/transforms.py\", line 2482, in transform_affine\n",
      "    return self.get_affine().transform(points)\n",
      "  File \"/home/martial/anaconda3/lib/python3.5/site-packages/matplotlib/transforms.py\", line 2509, in get_affine\n",
      "    return Affine2D(np.dot(self._b.get_affine().get_matrix(),\n",
      "  File \"/home/martial/anaconda3/lib/python3.5/site-packages/matplotlib/transforms.py\", line 2510, in get_affine\n",
      "    self._a.get_affine().get_matrix()))\n",
      "  File \"/home/martial/anaconda3/lib/python3.5/site-packages/matplotlib/transforms.py\", line 1929, in __init__\n",
      "    Affine2DBase.__init__(self, **kwargs)\n",
      "RecursionError: maximum recursion depth exceeded\n"
     ]
    },
    {
     "name": "stderr",
     "output_type": "stream",
     "text": [
      "Traceback (most recent call last):\n",
      "  File \"/home/martial/anaconda3/lib/python3.5/site-packages/matplotlib/cbook/__init__.py\", line 388, in process\n",
      "    proxy(*args, **kwargs)\n",
      "  File \"/home/martial/anaconda3/lib/python3.5/site-packages/matplotlib/cbook/__init__.py\", line 228, in __call__\n",
      "    return mtd(*args, **kwargs)\n",
      "  File \"/home/martial/anaconda3/lib/python3.5/site-packages/hyperspy/drawing/figure.py\", line 31, in _on_draw\n",
      "    self._draw_animated()\n",
      "  File \"/home/martial/anaconda3/lib/python3.5/site-packages/hyperspy/drawing/figure.py\", line 51, in _draw_animated\n",
      "    [ax.draw_artist(a) for a in artists if\n",
      "  File \"/home/martial/anaconda3/lib/python3.5/site-packages/hyperspy/drawing/figure.py\", line 52, in <listcomp>\n",
      "    a.get_animated() is True]\n",
      "  File \"/home/martial/anaconda3/lib/python3.5/site-packages/matplotlib/axes/_base.py\", line 2622, in draw_artist\n",
      "    a.draw(self._cachedRenderer)\n",
      "  File \"/home/martial/anaconda3/lib/python3.5/site-packages/matplotlib/artist.py\", line 55, in draw_wrapper\n",
      "    return draw(artist, renderer, *args, **kwargs)\n",
      "  File \"/home/martial/anaconda3/lib/python3.5/site-packages/matplotlib/axis.py\", line 1190, in draw\n",
      "    ticks_to_draw = self._update_ticks(renderer)\n",
      "  File \"/home/martial/anaconda3/lib/python3.5/site-packages/matplotlib/axis.py\", line 1028, in _update_ticks\n",
      "    tick_tups = list(self.iter_ticks())  # iter_ticks calls the locator\n",
      "  File \"/home/martial/anaconda3/lib/python3.5/site-packages/matplotlib/axis.py\", line 971, in iter_ticks\n",
      "    majorLocs = self.major.locator()\n",
      "  File \"/home/martial/anaconda3/lib/python3.5/site-packages/matplotlib/ticker.py\", line 1945, in __call__\n",
      "    return self.tick_values(vmin, vmax)\n",
      "  File \"/home/martial/anaconda3/lib/python3.5/site-packages/matplotlib/ticker.py\", line 1953, in tick_values\n",
      "    locs = self._raw_ticks(vmin, vmax)\n",
      "  File \"/home/martial/anaconda3/lib/python3.5/site-packages/matplotlib/ticker.py\", line 1899, in _raw_ticks\n",
      "    nbins = np.clip(self.axis.get_tick_space(),\n",
      "  File \"/home/martial/anaconda3/lib/python3.5/site-packages/matplotlib/axis.py\", line 2503, in get_tick_space\n",
      "    tick = self._get_tick(True)\n",
      "  File \"/home/martial/anaconda3/lib/python3.5/site-packages/matplotlib/axis.py\", line 2164, in _get_tick\n",
      "    return YTick(self.axes, 0, '', major=major, **tick_kw)\n",
      "  File \"/home/martial/anaconda3/lib/python3.5/site-packages/matplotlib/axis.py\", line 176, in __init__\n",
      "    self.tick1line = self._get_tick1line()\n",
      "  File \"/home/martial/anaconda3/lib/python3.5/site-packages/matplotlib/axis.py\", line 599, in _get_tick1line\n",
      "    zorder=self._zorder)\n",
      "  File \"/home/martial/anaconda3/lib/python3.5/site-packages/matplotlib/lines.py\", line 397, in __init__\n",
      "    self._marker = MarkerStyle(marker, fillstyle)\n",
      "  File \"/home/martial/anaconda3/lib/python3.5/site-packages/matplotlib/markers.py\", line 188, in __init__\n",
      "    self.set_fillstyle(fillstyle)\n",
      "  File \"/home/martial/anaconda3/lib/python3.5/site-packages/matplotlib/markers.py\", line 235, in set_fillstyle\n",
      "    fillstyle = rcParams['markers.fillstyle']\n",
      "RecursionError: maximum recursion depth exceeded\n",
      "Traceback (most recent call last):\n",
      "  File \"/home/martial/anaconda3/lib/python3.5/site-packages/matplotlib/cbook/__init__.py\", line 388, in process\n",
      "    proxy(*args, **kwargs)\n",
      "  File \"/home/martial/anaconda3/lib/python3.5/site-packages/matplotlib/cbook/__init__.py\", line 228, in __call__\n",
      "    return mtd(*args, **kwargs)\n",
      "  File \"/home/martial/anaconda3/lib/python3.5/site-packages/hyperspy/drawing/figure.py\", line 31, in _on_draw\n",
      "    self._draw_animated()\n",
      "  File \"/home/martial/anaconda3/lib/python3.5/site-packages/hyperspy/drawing/figure.py\", line 51, in _draw_animated\n",
      "    [ax.draw_artist(a) for a in artists if\n",
      "  File \"/home/martial/anaconda3/lib/python3.5/site-packages/hyperspy/drawing/figure.py\", line 52, in <listcomp>\n",
      "    a.get_animated() is True]\n",
      "  File \"/home/martial/anaconda3/lib/python3.5/site-packages/matplotlib/axes/_base.py\", line 2622, in draw_artist\n",
      "    a.draw(self._cachedRenderer)\n",
      "  File \"/home/martial/anaconda3/lib/python3.5/site-packages/matplotlib/artist.py\", line 55, in draw_wrapper\n",
      "    return draw(artist, renderer, *args, **kwargs)\n",
      "  File \"/home/martial/anaconda3/lib/python3.5/site-packages/matplotlib/axis.py\", line 1190, in draw\n",
      "    ticks_to_draw = self._update_ticks(renderer)\n",
      "  File \"/home/martial/anaconda3/lib/python3.5/site-packages/matplotlib/axis.py\", line 1028, in _update_ticks\n",
      "    tick_tups = list(self.iter_ticks())  # iter_ticks calls the locator\n",
      "  File \"/home/martial/anaconda3/lib/python3.5/site-packages/matplotlib/axis.py\", line 971, in iter_ticks\n",
      "    majorLocs = self.major.locator()\n",
      "  File \"/home/martial/anaconda3/lib/python3.5/site-packages/matplotlib/ticker.py\", line 1945, in __call__\n",
      "    return self.tick_values(vmin, vmax)\n",
      "  File \"/home/martial/anaconda3/lib/python3.5/site-packages/matplotlib/ticker.py\", line 1953, in tick_values\n",
      "    locs = self._raw_ticks(vmin, vmax)\n",
      "  File \"/home/martial/anaconda3/lib/python3.5/site-packages/matplotlib/ticker.py\", line 1899, in _raw_ticks\n",
      "    nbins = np.clip(self.axis.get_tick_space(),\n",
      "  File \"/home/martial/anaconda3/lib/python3.5/site-packages/matplotlib/axis.py\", line 2503, in get_tick_space\n",
      "    tick = self._get_tick(True)\n",
      "  File \"/home/martial/anaconda3/lib/python3.5/site-packages/matplotlib/axis.py\", line 2164, in _get_tick\n",
      "    return YTick(self.axes, 0, '', major=major, **tick_kw)\n",
      "  File \"/home/martial/anaconda3/lib/python3.5/site-packages/matplotlib/axis.py\", line 176, in __init__\n",
      "    self.tick1line = self._get_tick1line()\n",
      "  File \"/home/martial/anaconda3/lib/python3.5/site-packages/matplotlib/axis.py\", line 599, in _get_tick1line\n",
      "    zorder=self._zorder)\n",
      "  File \"/home/martial/anaconda3/lib/python3.5/site-packages/matplotlib/lines.py\", line 397, in __init__\n",
      "    self._marker = MarkerStyle(marker, fillstyle)\n",
      "  File \"/home/martial/anaconda3/lib/python3.5/site-packages/matplotlib/markers.py\", line 188, in __init__\n",
      "    self.set_fillstyle(fillstyle)\n",
      "  File \"/home/martial/anaconda3/lib/python3.5/site-packages/matplotlib/markers.py\", line 235, in set_fillstyle\n",
      "    fillstyle = rcParams['markers.fillstyle']\n",
      "RecursionError: maximum recursion depth exceeded\n",
      "Traceback (most recent call last):\n",
      "  File \"/home/martial/anaconda3/lib/python3.5/site-packages/matplotlib/cbook/__init__.py\", line 388, in process\n",
      "    proxy(*args, **kwargs)\n",
      "  File \"/home/martial/anaconda3/lib/python3.5/site-packages/matplotlib/cbook/__init__.py\", line 228, in __call__\n",
      "    return mtd(*args, **kwargs)\n",
      "  File \"/home/martial/anaconda3/lib/python3.5/site-packages/hyperspy/drawing/figure.py\", line 31, in _on_draw\n",
      "    self._draw_animated()\n",
      "  File \"/home/martial/anaconda3/lib/python3.5/site-packages/hyperspy/drawing/figure.py\", line 51, in _draw_animated\n",
      "    [ax.draw_artist(a) for a in artists if\n",
      "  File \"/home/martial/anaconda3/lib/python3.5/site-packages/hyperspy/drawing/figure.py\", line 52, in <listcomp>\n",
      "    a.get_animated() is True]\n",
      "  File \"/home/martial/anaconda3/lib/python3.5/site-packages/matplotlib/axes/_base.py\", line 2622, in draw_artist\n",
      "    a.draw(self._cachedRenderer)\n",
      "  File \"/home/martial/anaconda3/lib/python3.5/site-packages/matplotlib/artist.py\", line 55, in draw_wrapper\n",
      "    return draw(artist, renderer, *args, **kwargs)\n",
      "  File \"/home/martial/anaconda3/lib/python3.5/site-packages/matplotlib/axis.py\", line 1190, in draw\n",
      "    ticks_to_draw = self._update_ticks(renderer)\n",
      "  File \"/home/martial/anaconda3/lib/python3.5/site-packages/matplotlib/axis.py\", line 1028, in _update_ticks\n",
      "    tick_tups = list(self.iter_ticks())  # iter_ticks calls the locator\n",
      "  File \"/home/martial/anaconda3/lib/python3.5/site-packages/matplotlib/axis.py\", line 971, in iter_ticks\n",
      "    majorLocs = self.major.locator()\n",
      "  File \"/home/martial/anaconda3/lib/python3.5/site-packages/matplotlib/ticker.py\", line 1945, in __call__\n",
      "    return self.tick_values(vmin, vmax)\n",
      "  File \"/home/martial/anaconda3/lib/python3.5/site-packages/matplotlib/ticker.py\", line 1953, in tick_values\n",
      "    locs = self._raw_ticks(vmin, vmax)\n",
      "  File \"/home/martial/anaconda3/lib/python3.5/site-packages/matplotlib/ticker.py\", line 1899, in _raw_ticks\n",
      "    nbins = np.clip(self.axis.get_tick_space(),\n",
      "  File \"/home/martial/anaconda3/lib/python3.5/site-packages/matplotlib/axis.py\", line 2503, in get_tick_space\n",
      "    tick = self._get_tick(True)\n",
      "  File \"/home/martial/anaconda3/lib/python3.5/site-packages/matplotlib/axis.py\", line 2164, in _get_tick\n",
      "    return YTick(self.axes, 0, '', major=major, **tick_kw)\n",
      "  File \"/home/martial/anaconda3/lib/python3.5/site-packages/matplotlib/axis.py\", line 176, in __init__\n",
      "    self.tick1line = self._get_tick1line()\n",
      "  File \"/home/martial/anaconda3/lib/python3.5/site-packages/matplotlib/axis.py\", line 599, in _get_tick1line\n",
      "    zorder=self._zorder)\n",
      "  File \"/home/martial/anaconda3/lib/python3.5/site-packages/matplotlib/lines.py\", line 397, in __init__\n",
      "    self._marker = MarkerStyle(marker, fillstyle)\n",
      "  File \"/home/martial/anaconda3/lib/python3.5/site-packages/matplotlib/markers.py\", line 188, in __init__\n",
      "    self.set_fillstyle(fillstyle)\n",
      "  File \"/home/martial/anaconda3/lib/python3.5/site-packages/matplotlib/markers.py\", line 235, in set_fillstyle\n",
      "    fillstyle = rcParams['markers.fillstyle']\n",
      "RecursionError: maximum recursion depth exceeded\n"
     ]
    },
    {
     "name": "stderr",
     "output_type": "stream",
     "text": [
      "Traceback (most recent call last):\n",
      "  File \"/home/martial/anaconda3/lib/python3.5/site-packages/matplotlib/cbook/__init__.py\", line 388, in process\n",
      "    proxy(*args, **kwargs)\n",
      "  File \"/home/martial/anaconda3/lib/python3.5/site-packages/matplotlib/cbook/__init__.py\", line 228, in __call__\n",
      "    return mtd(*args, **kwargs)\n",
      "  File \"/home/martial/anaconda3/lib/python3.5/site-packages/hyperspy/drawing/figure.py\", line 31, in _on_draw\n",
      "    self._draw_animated()\n",
      "  File \"/home/martial/anaconda3/lib/python3.5/site-packages/hyperspy/drawing/figure.py\", line 51, in _draw_animated\n",
      "    [ax.draw_artist(a) for a in artists if\n",
      "  File \"/home/martial/anaconda3/lib/python3.5/site-packages/hyperspy/drawing/figure.py\", line 52, in <listcomp>\n",
      "    a.get_animated() is True]\n",
      "  File \"/home/martial/anaconda3/lib/python3.5/site-packages/matplotlib/axes/_base.py\", line 2622, in draw_artist\n",
      "    a.draw(self._cachedRenderer)\n",
      "  File \"/home/martial/anaconda3/lib/python3.5/site-packages/matplotlib/artist.py\", line 55, in draw_wrapper\n",
      "    return draw(artist, renderer, *args, **kwargs)\n",
      "  File \"/home/martial/anaconda3/lib/python3.5/site-packages/matplotlib/axis.py\", line 1190, in draw\n",
      "    ticks_to_draw = self._update_ticks(renderer)\n",
      "  File \"/home/martial/anaconda3/lib/python3.5/site-packages/matplotlib/axis.py\", line 1028, in _update_ticks\n",
      "    tick_tups = list(self.iter_ticks())  # iter_ticks calls the locator\n",
      "  File \"/home/martial/anaconda3/lib/python3.5/site-packages/matplotlib/axis.py\", line 971, in iter_ticks\n",
      "    majorLocs = self.major.locator()\n",
      "  File \"/home/martial/anaconda3/lib/python3.5/site-packages/matplotlib/ticker.py\", line 1945, in __call__\n",
      "    return self.tick_values(vmin, vmax)\n",
      "  File \"/home/martial/anaconda3/lib/python3.5/site-packages/matplotlib/ticker.py\", line 1953, in tick_values\n",
      "    locs = self._raw_ticks(vmin, vmax)\n",
      "  File \"/home/martial/anaconda3/lib/python3.5/site-packages/matplotlib/ticker.py\", line 1899, in _raw_ticks\n",
      "    nbins = np.clip(self.axis.get_tick_space(),\n",
      "  File \"/home/martial/anaconda3/lib/python3.5/site-packages/matplotlib/axis.py\", line 2503, in get_tick_space\n",
      "    tick = self._get_tick(True)\n",
      "  File \"/home/martial/anaconda3/lib/python3.5/site-packages/matplotlib/axis.py\", line 2164, in _get_tick\n",
      "    return YTick(self.axes, 0, '', major=major, **tick_kw)\n",
      "  File \"/home/martial/anaconda3/lib/python3.5/site-packages/matplotlib/axis.py\", line 176, in __init__\n",
      "    self.tick1line = self._get_tick1line()\n",
      "  File \"/home/martial/anaconda3/lib/python3.5/site-packages/matplotlib/axis.py\", line 599, in _get_tick1line\n",
      "    zorder=self._zorder)\n",
      "  File \"/home/martial/anaconda3/lib/python3.5/site-packages/matplotlib/lines.py\", line 397, in __init__\n",
      "    self._marker = MarkerStyle(marker, fillstyle)\n",
      "  File \"/home/martial/anaconda3/lib/python3.5/site-packages/matplotlib/markers.py\", line 188, in __init__\n",
      "    self.set_fillstyle(fillstyle)\n",
      "  File \"/home/martial/anaconda3/lib/python3.5/site-packages/matplotlib/markers.py\", line 235, in set_fillstyle\n",
      "    fillstyle = rcParams['markers.fillstyle']\n",
      "RecursionError: maximum recursion depth exceeded\n",
      "Traceback (most recent call last):\n",
      "  File \"/home/martial/anaconda3/lib/python3.5/site-packages/matplotlib/cbook/__init__.py\", line 388, in process\n",
      "    proxy(*args, **kwargs)\n",
      "  File \"/home/martial/anaconda3/lib/python3.5/site-packages/matplotlib/cbook/__init__.py\", line 228, in __call__\n",
      "    return mtd(*args, **kwargs)\n",
      "  File \"/home/martial/anaconda3/lib/python3.5/site-packages/hyperspy/drawing/figure.py\", line 31, in _on_draw\n",
      "    self._draw_animated()\n",
      "  File \"/home/martial/anaconda3/lib/python3.5/site-packages/hyperspy/drawing/figure.py\", line 51, in _draw_animated\n",
      "    [ax.draw_artist(a) for a in artists if\n",
      "  File \"/home/martial/anaconda3/lib/python3.5/site-packages/hyperspy/drawing/figure.py\", line 52, in <listcomp>\n",
      "    a.get_animated() is True]\n",
      "  File \"/home/martial/anaconda3/lib/python3.5/site-packages/matplotlib/axes/_base.py\", line 2622, in draw_artist\n",
      "    a.draw(self._cachedRenderer)\n",
      "  File \"/home/martial/anaconda3/lib/python3.5/site-packages/matplotlib/artist.py\", line 55, in draw_wrapper\n",
      "    return draw(artist, renderer, *args, **kwargs)\n",
      "  File \"/home/martial/anaconda3/lib/python3.5/site-packages/matplotlib/axis.py\", line 1190, in draw\n",
      "    ticks_to_draw = self._update_ticks(renderer)\n",
      "  File \"/home/martial/anaconda3/lib/python3.5/site-packages/matplotlib/axis.py\", line 1028, in _update_ticks\n",
      "    tick_tups = list(self.iter_ticks())  # iter_ticks calls the locator\n",
      "  File \"/home/martial/anaconda3/lib/python3.5/site-packages/matplotlib/axis.py\", line 971, in iter_ticks\n",
      "    majorLocs = self.major.locator()\n",
      "  File \"/home/martial/anaconda3/lib/python3.5/site-packages/matplotlib/ticker.py\", line 1945, in __call__\n",
      "    return self.tick_values(vmin, vmax)\n",
      "  File \"/home/martial/anaconda3/lib/python3.5/site-packages/matplotlib/ticker.py\", line 1953, in tick_values\n",
      "    locs = self._raw_ticks(vmin, vmax)\n",
      "  File \"/home/martial/anaconda3/lib/python3.5/site-packages/matplotlib/ticker.py\", line 1899, in _raw_ticks\n",
      "    nbins = np.clip(self.axis.get_tick_space(),\n",
      "  File \"/home/martial/anaconda3/lib/python3.5/site-packages/matplotlib/axis.py\", line 2503, in get_tick_space\n",
      "    tick = self._get_tick(True)\n",
      "  File \"/home/martial/anaconda3/lib/python3.5/site-packages/matplotlib/axis.py\", line 2164, in _get_tick\n",
      "    return YTick(self.axes, 0, '', major=major, **tick_kw)\n",
      "  File \"/home/martial/anaconda3/lib/python3.5/site-packages/matplotlib/axis.py\", line 176, in __init__\n",
      "    self.tick1line = self._get_tick1line()\n",
      "  File \"/home/martial/anaconda3/lib/python3.5/site-packages/matplotlib/axis.py\", line 599, in _get_tick1line\n",
      "    zorder=self._zorder)\n",
      "  File \"/home/martial/anaconda3/lib/python3.5/site-packages/matplotlib/lines.py\", line 397, in __init__\n",
      "    self._marker = MarkerStyle(marker, fillstyle)\n",
      "  File \"/home/martial/anaconda3/lib/python3.5/site-packages/matplotlib/markers.py\", line 188, in __init__\n",
      "    self.set_fillstyle(fillstyle)\n",
      "  File \"/home/martial/anaconda3/lib/python3.5/site-packages/matplotlib/markers.py\", line 235, in set_fillstyle\n",
      "    fillstyle = rcParams['markers.fillstyle']\n",
      "RecursionError: maximum recursion depth exceeded\n",
      "Traceback (most recent call last):\n",
      "  File \"/home/martial/anaconda3/lib/python3.5/site-packages/matplotlib/cbook/__init__.py\", line 388, in process\n",
      "    proxy(*args, **kwargs)\n",
      "  File \"/home/martial/anaconda3/lib/python3.5/site-packages/matplotlib/cbook/__init__.py\", line 228, in __call__\n",
      "    return mtd(*args, **kwargs)\n",
      "  File \"/home/martial/anaconda3/lib/python3.5/site-packages/hyperspy/drawing/figure.py\", line 31, in _on_draw\n",
      "    self._draw_animated()\n",
      "  File \"/home/martial/anaconda3/lib/python3.5/site-packages/hyperspy/drawing/figure.py\", line 51, in _draw_animated\n",
      "    [ax.draw_artist(a) for a in artists if\n",
      "  File \"/home/martial/anaconda3/lib/python3.5/site-packages/hyperspy/drawing/figure.py\", line 52, in <listcomp>\n",
      "    a.get_animated() is True]\n",
      "  File \"/home/martial/anaconda3/lib/python3.5/site-packages/matplotlib/axes/_base.py\", line 2622, in draw_artist\n",
      "    a.draw(self._cachedRenderer)\n",
      "  File \"/home/martial/anaconda3/lib/python3.5/site-packages/matplotlib/artist.py\", line 55, in draw_wrapper\n",
      "    return draw(artist, renderer, *args, **kwargs)\n",
      "  File \"/home/martial/anaconda3/lib/python3.5/site-packages/matplotlib/axis.py\", line 1190, in draw\n",
      "    ticks_to_draw = self._update_ticks(renderer)\n",
      "  File \"/home/martial/anaconda3/lib/python3.5/site-packages/matplotlib/axis.py\", line 1028, in _update_ticks\n",
      "    tick_tups = list(self.iter_ticks())  # iter_ticks calls the locator\n",
      "  File \"/home/martial/anaconda3/lib/python3.5/site-packages/matplotlib/axis.py\", line 971, in iter_ticks\n",
      "    majorLocs = self.major.locator()\n",
      "  File \"/home/martial/anaconda3/lib/python3.5/site-packages/matplotlib/ticker.py\", line 1945, in __call__\n",
      "    return self.tick_values(vmin, vmax)\n",
      "  File \"/home/martial/anaconda3/lib/python3.5/site-packages/matplotlib/ticker.py\", line 1953, in tick_values\n",
      "    locs = self._raw_ticks(vmin, vmax)\n",
      "  File \"/home/martial/anaconda3/lib/python3.5/site-packages/matplotlib/ticker.py\", line 1899, in _raw_ticks\n",
      "    nbins = np.clip(self.axis.get_tick_space(),\n",
      "  File \"/home/martial/anaconda3/lib/python3.5/site-packages/matplotlib/axis.py\", line 2503, in get_tick_space\n",
      "    tick = self._get_tick(True)\n",
      "  File \"/home/martial/anaconda3/lib/python3.5/site-packages/matplotlib/axis.py\", line 2164, in _get_tick\n",
      "    return YTick(self.axes, 0, '', major=major, **tick_kw)\n",
      "  File \"/home/martial/anaconda3/lib/python3.5/site-packages/matplotlib/axis.py\", line 176, in __init__\n",
      "    self.tick1line = self._get_tick1line()\n",
      "  File \"/home/martial/anaconda3/lib/python3.5/site-packages/matplotlib/axis.py\", line 599, in _get_tick1line\n",
      "    zorder=self._zorder)\n",
      "  File \"/home/martial/anaconda3/lib/python3.5/site-packages/matplotlib/lines.py\", line 397, in __init__\n",
      "    self._marker = MarkerStyle(marker, fillstyle)\n",
      "  File \"/home/martial/anaconda3/lib/python3.5/site-packages/matplotlib/markers.py\", line 188, in __init__\n",
      "    self.set_fillstyle(fillstyle)\n",
      "  File \"/home/martial/anaconda3/lib/python3.5/site-packages/matplotlib/markers.py\", line 235, in set_fillstyle\n",
      "    fillstyle = rcParams['markers.fillstyle']\n",
      "RecursionError: maximum recursion depth exceeded\n"
     ]
    },
    {
     "name": "stderr",
     "output_type": "stream",
     "text": [
      "Traceback (most recent call last):\n",
      "  File \"/home/martial/anaconda3/lib/python3.5/site-packages/matplotlib/cbook/__init__.py\", line 388, in process\n",
      "    proxy(*args, **kwargs)\n",
      "  File \"/home/martial/anaconda3/lib/python3.5/site-packages/matplotlib/cbook/__init__.py\", line 228, in __call__\n",
      "    return mtd(*args, **kwargs)\n",
      "  File \"/home/martial/anaconda3/lib/python3.5/site-packages/hyperspy/drawing/figure.py\", line 31, in _on_draw\n",
      "    self._draw_animated()\n",
      "  File \"/home/martial/anaconda3/lib/python3.5/site-packages/hyperspy/drawing/figure.py\", line 51, in _draw_animated\n",
      "    [ax.draw_artist(a) for a in artists if\n",
      "  File \"/home/martial/anaconda3/lib/python3.5/site-packages/hyperspy/drawing/figure.py\", line 52, in <listcomp>\n",
      "    a.get_animated() is True]\n",
      "  File \"/home/martial/anaconda3/lib/python3.5/site-packages/matplotlib/axes/_base.py\", line 2622, in draw_artist\n",
      "    a.draw(self._cachedRenderer)\n",
      "  File \"/home/martial/anaconda3/lib/python3.5/site-packages/matplotlib/artist.py\", line 55, in draw_wrapper\n",
      "    return draw(artist, renderer, *args, **kwargs)\n",
      "  File \"/home/martial/anaconda3/lib/python3.5/site-packages/matplotlib/axis.py\", line 1190, in draw\n",
      "    ticks_to_draw = self._update_ticks(renderer)\n",
      "  File \"/home/martial/anaconda3/lib/python3.5/site-packages/matplotlib/axis.py\", line 1028, in _update_ticks\n",
      "    tick_tups = list(self.iter_ticks())  # iter_ticks calls the locator\n",
      "  File \"/home/martial/anaconda3/lib/python3.5/site-packages/matplotlib/axis.py\", line 971, in iter_ticks\n",
      "    majorLocs = self.major.locator()\n",
      "  File \"/home/martial/anaconda3/lib/python3.5/site-packages/matplotlib/ticker.py\", line 1945, in __call__\n",
      "    return self.tick_values(vmin, vmax)\n",
      "  File \"/home/martial/anaconda3/lib/python3.5/site-packages/matplotlib/ticker.py\", line 1953, in tick_values\n",
      "    locs = self._raw_ticks(vmin, vmax)\n",
      "  File \"/home/martial/anaconda3/lib/python3.5/site-packages/matplotlib/ticker.py\", line 1899, in _raw_ticks\n",
      "    nbins = np.clip(self.axis.get_tick_space(),\n",
      "  File \"/home/martial/anaconda3/lib/python3.5/site-packages/matplotlib/axis.py\", line 2503, in get_tick_space\n",
      "    tick = self._get_tick(True)\n",
      "  File \"/home/martial/anaconda3/lib/python3.5/site-packages/matplotlib/axis.py\", line 2164, in _get_tick\n",
      "    return YTick(self.axes, 0, '', major=major, **tick_kw)\n",
      "  File \"/home/martial/anaconda3/lib/python3.5/site-packages/matplotlib/axis.py\", line 176, in __init__\n",
      "    self.tick1line = self._get_tick1line()\n",
      "  File \"/home/martial/anaconda3/lib/python3.5/site-packages/matplotlib/axis.py\", line 599, in _get_tick1line\n",
      "    zorder=self._zorder)\n",
      "  File \"/home/martial/anaconda3/lib/python3.5/site-packages/matplotlib/lines.py\", line 397, in __init__\n",
      "    self._marker = MarkerStyle(marker, fillstyle)\n",
      "  File \"/home/martial/anaconda3/lib/python3.5/site-packages/matplotlib/markers.py\", line 188, in __init__\n",
      "    self.set_fillstyle(fillstyle)\n",
      "  File \"/home/martial/anaconda3/lib/python3.5/site-packages/matplotlib/markers.py\", line 235, in set_fillstyle\n",
      "    fillstyle = rcParams['markers.fillstyle']\n",
      "RecursionError: maximum recursion depth exceeded\n",
      "Traceback (most recent call last):\n",
      "  File \"/home/martial/anaconda3/lib/python3.5/site-packages/matplotlib/cbook/__init__.py\", line 388, in process\n",
      "    proxy(*args, **kwargs)\n",
      "  File \"/home/martial/anaconda3/lib/python3.5/site-packages/matplotlib/cbook/__init__.py\", line 228, in __call__\n",
      "    return mtd(*args, **kwargs)\n",
      "  File \"/home/martial/anaconda3/lib/python3.5/site-packages/hyperspy/drawing/figure.py\", line 31, in _on_draw\n",
      "    self._draw_animated()\n",
      "  File \"/home/martial/anaconda3/lib/python3.5/site-packages/hyperspy/drawing/figure.py\", line 51, in _draw_animated\n",
      "    [ax.draw_artist(a) for a in artists if\n",
      "  File \"/home/martial/anaconda3/lib/python3.5/site-packages/hyperspy/drawing/figure.py\", line 52, in <listcomp>\n",
      "    a.get_animated() is True]\n",
      "  File \"/home/martial/anaconda3/lib/python3.5/site-packages/matplotlib/axes/_base.py\", line 2622, in draw_artist\n",
      "    a.draw(self._cachedRenderer)\n",
      "  File \"/home/martial/anaconda3/lib/python3.5/site-packages/matplotlib/artist.py\", line 55, in draw_wrapper\n",
      "    return draw(artist, renderer, *args, **kwargs)\n",
      "  File \"/home/martial/anaconda3/lib/python3.5/site-packages/matplotlib/axis.py\", line 1190, in draw\n",
      "    ticks_to_draw = self._update_ticks(renderer)\n",
      "  File \"/home/martial/anaconda3/lib/python3.5/site-packages/matplotlib/axis.py\", line 1028, in _update_ticks\n",
      "    tick_tups = list(self.iter_ticks())  # iter_ticks calls the locator\n",
      "  File \"/home/martial/anaconda3/lib/python3.5/site-packages/matplotlib/axis.py\", line 971, in iter_ticks\n",
      "    majorLocs = self.major.locator()\n",
      "  File \"/home/martial/anaconda3/lib/python3.5/site-packages/matplotlib/ticker.py\", line 1945, in __call__\n",
      "    return self.tick_values(vmin, vmax)\n",
      "  File \"/home/martial/anaconda3/lib/python3.5/site-packages/matplotlib/ticker.py\", line 1953, in tick_values\n",
      "    locs = self._raw_ticks(vmin, vmax)\n",
      "  File \"/home/martial/anaconda3/lib/python3.5/site-packages/matplotlib/ticker.py\", line 1899, in _raw_ticks\n",
      "    nbins = np.clip(self.axis.get_tick_space(),\n",
      "  File \"/home/martial/anaconda3/lib/python3.5/site-packages/matplotlib/axis.py\", line 2503, in get_tick_space\n",
      "    tick = self._get_tick(True)\n",
      "  File \"/home/martial/anaconda3/lib/python3.5/site-packages/matplotlib/axis.py\", line 2164, in _get_tick\n",
      "    return YTick(self.axes, 0, '', major=major, **tick_kw)\n",
      "  File \"/home/martial/anaconda3/lib/python3.5/site-packages/matplotlib/axis.py\", line 176, in __init__\n",
      "    self.tick1line = self._get_tick1line()\n",
      "  File \"/home/martial/anaconda3/lib/python3.5/site-packages/matplotlib/axis.py\", line 599, in _get_tick1line\n",
      "    zorder=self._zorder)\n",
      "  File \"/home/martial/anaconda3/lib/python3.5/site-packages/matplotlib/lines.py\", line 397, in __init__\n",
      "    self._marker = MarkerStyle(marker, fillstyle)\n",
      "  File \"/home/martial/anaconda3/lib/python3.5/site-packages/matplotlib/markers.py\", line 188, in __init__\n",
      "    self.set_fillstyle(fillstyle)\n",
      "  File \"/home/martial/anaconda3/lib/python3.5/site-packages/matplotlib/markers.py\", line 235, in set_fillstyle\n",
      "    fillstyle = rcParams['markers.fillstyle']\n",
      "RecursionError: maximum recursion depth exceeded\n",
      "Traceback (most recent call last):\n",
      "  File \"/home/martial/anaconda3/lib/python3.5/site-packages/matplotlib/cbook/__init__.py\", line 388, in process\n",
      "    proxy(*args, **kwargs)\n",
      "  File \"/home/martial/anaconda3/lib/python3.5/site-packages/matplotlib/cbook/__init__.py\", line 228, in __call__\n",
      "    return mtd(*args, **kwargs)\n",
      "  File \"/home/martial/anaconda3/lib/python3.5/site-packages/hyperspy/drawing/figure.py\", line 31, in _on_draw\n",
      "    self._draw_animated()\n",
      "  File \"/home/martial/anaconda3/lib/python3.5/site-packages/hyperspy/drawing/figure.py\", line 51, in _draw_animated\n",
      "    [ax.draw_artist(a) for a in artists if\n",
      "  File \"/home/martial/anaconda3/lib/python3.5/site-packages/hyperspy/drawing/figure.py\", line 52, in <listcomp>\n",
      "    a.get_animated() is True]\n",
      "  File \"/home/martial/anaconda3/lib/python3.5/site-packages/matplotlib/axes/_base.py\", line 2622, in draw_artist\n",
      "    a.draw(self._cachedRenderer)\n",
      "  File \"/home/martial/anaconda3/lib/python3.5/site-packages/matplotlib/artist.py\", line 55, in draw_wrapper\n",
      "    return draw(artist, renderer, *args, **kwargs)\n",
      "  File \"/home/martial/anaconda3/lib/python3.5/site-packages/matplotlib/axis.py\", line 1190, in draw\n",
      "    ticks_to_draw = self._update_ticks(renderer)\n",
      "  File \"/home/martial/anaconda3/lib/python3.5/site-packages/matplotlib/axis.py\", line 1028, in _update_ticks\n",
      "    tick_tups = list(self.iter_ticks())  # iter_ticks calls the locator\n",
      "  File \"/home/martial/anaconda3/lib/python3.5/site-packages/matplotlib/axis.py\", line 971, in iter_ticks\n",
      "    majorLocs = self.major.locator()\n",
      "  File \"/home/martial/anaconda3/lib/python3.5/site-packages/matplotlib/ticker.py\", line 1945, in __call__\n",
      "    return self.tick_values(vmin, vmax)\n",
      "  File \"/home/martial/anaconda3/lib/python3.5/site-packages/matplotlib/ticker.py\", line 1953, in tick_values\n",
      "    locs = self._raw_ticks(vmin, vmax)\n",
      "  File \"/home/martial/anaconda3/lib/python3.5/site-packages/matplotlib/ticker.py\", line 1899, in _raw_ticks\n",
      "    nbins = np.clip(self.axis.get_tick_space(),\n",
      "  File \"/home/martial/anaconda3/lib/python3.5/site-packages/matplotlib/axis.py\", line 2503, in get_tick_space\n",
      "    tick = self._get_tick(True)\n",
      "  File \"/home/martial/anaconda3/lib/python3.5/site-packages/matplotlib/axis.py\", line 2164, in _get_tick\n",
      "    return YTick(self.axes, 0, '', major=major, **tick_kw)\n",
      "  File \"/home/martial/anaconda3/lib/python3.5/site-packages/matplotlib/axis.py\", line 176, in __init__\n",
      "    self.tick1line = self._get_tick1line()\n",
      "  File \"/home/martial/anaconda3/lib/python3.5/site-packages/matplotlib/axis.py\", line 599, in _get_tick1line\n",
      "    zorder=self._zorder)\n",
      "  File \"/home/martial/anaconda3/lib/python3.5/site-packages/matplotlib/lines.py\", line 397, in __init__\n",
      "    self._marker = MarkerStyle(marker, fillstyle)\n",
      "  File \"/home/martial/anaconda3/lib/python3.5/site-packages/matplotlib/markers.py\", line 188, in __init__\n",
      "    self.set_fillstyle(fillstyle)\n",
      "  File \"/home/martial/anaconda3/lib/python3.5/site-packages/matplotlib/markers.py\", line 235, in set_fillstyle\n",
      "    fillstyle = rcParams['markers.fillstyle']\n",
      "RecursionError: maximum recursion depth exceeded\n"
     ]
    },
    {
     "name": "stderr",
     "output_type": "stream",
     "text": [
      "Traceback (most recent call last):\n",
      "  File \"/home/martial/anaconda3/lib/python3.5/site-packages/matplotlib/cbook/__init__.py\", line 388, in process\n",
      "    proxy(*args, **kwargs)\n",
      "  File \"/home/martial/anaconda3/lib/python3.5/site-packages/matplotlib/cbook/__init__.py\", line 228, in __call__\n",
      "    return mtd(*args, **kwargs)\n",
      "  File \"/home/martial/anaconda3/lib/python3.5/site-packages/hyperspy/drawing/figure.py\", line 31, in _on_draw\n",
      "    self._draw_animated()\n",
      "  File \"/home/martial/anaconda3/lib/python3.5/site-packages/hyperspy/drawing/figure.py\", line 51, in _draw_animated\n",
      "    [ax.draw_artist(a) for a in artists if\n",
      "  File \"/home/martial/anaconda3/lib/python3.5/site-packages/hyperspy/drawing/figure.py\", line 52, in <listcomp>\n",
      "    a.get_animated() is True]\n",
      "  File \"/home/martial/anaconda3/lib/python3.5/site-packages/matplotlib/axes/_base.py\", line 2622, in draw_artist\n",
      "    a.draw(self._cachedRenderer)\n",
      "  File \"/home/martial/anaconda3/lib/python3.5/site-packages/matplotlib/artist.py\", line 55, in draw_wrapper\n",
      "    return draw(artist, renderer, *args, **kwargs)\n",
      "  File \"/home/martial/anaconda3/lib/python3.5/site-packages/matplotlib/axis.py\", line 1190, in draw\n",
      "    ticks_to_draw = self._update_ticks(renderer)\n",
      "  File \"/home/martial/anaconda3/lib/python3.5/site-packages/matplotlib/axis.py\", line 1028, in _update_ticks\n",
      "    tick_tups = list(self.iter_ticks())  # iter_ticks calls the locator\n",
      "  File \"/home/martial/anaconda3/lib/python3.5/site-packages/matplotlib/axis.py\", line 971, in iter_ticks\n",
      "    majorLocs = self.major.locator()\n",
      "  File \"/home/martial/anaconda3/lib/python3.5/site-packages/matplotlib/ticker.py\", line 1945, in __call__\n",
      "    return self.tick_values(vmin, vmax)\n",
      "  File \"/home/martial/anaconda3/lib/python3.5/site-packages/matplotlib/ticker.py\", line 1953, in tick_values\n",
      "    locs = self._raw_ticks(vmin, vmax)\n",
      "  File \"/home/martial/anaconda3/lib/python3.5/site-packages/matplotlib/ticker.py\", line 1899, in _raw_ticks\n",
      "    nbins = np.clip(self.axis.get_tick_space(),\n",
      "  File \"/home/martial/anaconda3/lib/python3.5/site-packages/matplotlib/axis.py\", line 2503, in get_tick_space\n",
      "    tick = self._get_tick(True)\n",
      "  File \"/home/martial/anaconda3/lib/python3.5/site-packages/matplotlib/axis.py\", line 2164, in _get_tick\n",
      "    return YTick(self.axes, 0, '', major=major, **tick_kw)\n",
      "  File \"/home/martial/anaconda3/lib/python3.5/site-packages/matplotlib/axis.py\", line 176, in __init__\n",
      "    self.tick1line = self._get_tick1line()\n",
      "  File \"/home/martial/anaconda3/lib/python3.5/site-packages/matplotlib/axis.py\", line 599, in _get_tick1line\n",
      "    zorder=self._zorder)\n",
      "  File \"/home/martial/anaconda3/lib/python3.5/site-packages/matplotlib/lines.py\", line 397, in __init__\n",
      "    self._marker = MarkerStyle(marker, fillstyle)\n",
      "  File \"/home/martial/anaconda3/lib/python3.5/site-packages/matplotlib/markers.py\", line 188, in __init__\n",
      "    self.set_fillstyle(fillstyle)\n",
      "  File \"/home/martial/anaconda3/lib/python3.5/site-packages/matplotlib/markers.py\", line 235, in set_fillstyle\n",
      "    fillstyle = rcParams['markers.fillstyle']\n",
      "RecursionError: maximum recursion depth exceeded\n",
      "Traceback (most recent call last):\n",
      "  File \"/home/martial/anaconda3/lib/python3.5/site-packages/matplotlib/cbook/__init__.py\", line 388, in process\n",
      "    proxy(*args, **kwargs)\n",
      "  File \"/home/martial/anaconda3/lib/python3.5/site-packages/matplotlib/cbook/__init__.py\", line 228, in __call__\n",
      "    return mtd(*args, **kwargs)\n",
      "  File \"/home/martial/anaconda3/lib/python3.5/site-packages/hyperspy/drawing/figure.py\", line 31, in _on_draw\n",
      "    self._draw_animated()\n",
      "  File \"/home/martial/anaconda3/lib/python3.5/site-packages/hyperspy/drawing/figure.py\", line 51, in _draw_animated\n",
      "    [ax.draw_artist(a) for a in artists if\n",
      "  File \"/home/martial/anaconda3/lib/python3.5/site-packages/hyperspy/drawing/figure.py\", line 52, in <listcomp>\n",
      "    a.get_animated() is True]\n",
      "  File \"/home/martial/anaconda3/lib/python3.5/site-packages/matplotlib/axes/_base.py\", line 2622, in draw_artist\n",
      "    a.draw(self._cachedRenderer)\n",
      "  File \"/home/martial/anaconda3/lib/python3.5/site-packages/matplotlib/artist.py\", line 55, in draw_wrapper\n",
      "    return draw(artist, renderer, *args, **kwargs)\n",
      "  File \"/home/martial/anaconda3/lib/python3.5/site-packages/matplotlib/axis.py\", line 1190, in draw\n",
      "    ticks_to_draw = self._update_ticks(renderer)\n",
      "  File \"/home/martial/anaconda3/lib/python3.5/site-packages/matplotlib/axis.py\", line 1028, in _update_ticks\n",
      "    tick_tups = list(self.iter_ticks())  # iter_ticks calls the locator\n",
      "  File \"/home/martial/anaconda3/lib/python3.5/site-packages/matplotlib/axis.py\", line 971, in iter_ticks\n",
      "    majorLocs = self.major.locator()\n",
      "  File \"/home/martial/anaconda3/lib/python3.5/site-packages/matplotlib/ticker.py\", line 1945, in __call__\n",
      "    return self.tick_values(vmin, vmax)\n",
      "  File \"/home/martial/anaconda3/lib/python3.5/site-packages/matplotlib/ticker.py\", line 1953, in tick_values\n",
      "    locs = self._raw_ticks(vmin, vmax)\n",
      "  File \"/home/martial/anaconda3/lib/python3.5/site-packages/matplotlib/ticker.py\", line 1899, in _raw_ticks\n",
      "    nbins = np.clip(self.axis.get_tick_space(),\n",
      "  File \"/home/martial/anaconda3/lib/python3.5/site-packages/matplotlib/axis.py\", line 2503, in get_tick_space\n",
      "    tick = self._get_tick(True)\n",
      "  File \"/home/martial/anaconda3/lib/python3.5/site-packages/matplotlib/axis.py\", line 2164, in _get_tick\n",
      "    return YTick(self.axes, 0, '', major=major, **tick_kw)\n",
      "  File \"/home/martial/anaconda3/lib/python3.5/site-packages/matplotlib/axis.py\", line 176, in __init__\n",
      "    self.tick1line = self._get_tick1line()\n",
      "  File \"/home/martial/anaconda3/lib/python3.5/site-packages/matplotlib/axis.py\", line 599, in _get_tick1line\n",
      "    zorder=self._zorder)\n",
      "  File \"/home/martial/anaconda3/lib/python3.5/site-packages/matplotlib/lines.py\", line 397, in __init__\n",
      "    self._marker = MarkerStyle(marker, fillstyle)\n",
      "  File \"/home/martial/anaconda3/lib/python3.5/site-packages/matplotlib/markers.py\", line 188, in __init__\n",
      "    self.set_fillstyle(fillstyle)\n",
      "  File \"/home/martial/anaconda3/lib/python3.5/site-packages/matplotlib/markers.py\", line 235, in set_fillstyle\n",
      "    fillstyle = rcParams['markers.fillstyle']\n",
      "RecursionError: maximum recursion depth exceeded\n",
      "Traceback (most recent call last):\n",
      "  File \"/home/martial/anaconda3/lib/python3.5/site-packages/matplotlib/cbook/__init__.py\", line 388, in process\n",
      "    proxy(*args, **kwargs)\n",
      "  File \"/home/martial/anaconda3/lib/python3.5/site-packages/matplotlib/cbook/__init__.py\", line 228, in __call__\n",
      "    return mtd(*args, **kwargs)\n",
      "  File \"/home/martial/anaconda3/lib/python3.5/site-packages/hyperspy/drawing/figure.py\", line 31, in _on_draw\n",
      "    self._draw_animated()\n",
      "  File \"/home/martial/anaconda3/lib/python3.5/site-packages/hyperspy/drawing/figure.py\", line 51, in _draw_animated\n",
      "    [ax.draw_artist(a) for a in artists if\n",
      "  File \"/home/martial/anaconda3/lib/python3.5/site-packages/hyperspy/drawing/figure.py\", line 52, in <listcomp>\n",
      "    a.get_animated() is True]\n",
      "  File \"/home/martial/anaconda3/lib/python3.5/site-packages/matplotlib/axes/_base.py\", line 2622, in draw_artist\n",
      "    a.draw(self._cachedRenderer)\n",
      "  File \"/home/martial/anaconda3/lib/python3.5/site-packages/matplotlib/artist.py\", line 55, in draw_wrapper\n",
      "    return draw(artist, renderer, *args, **kwargs)\n",
      "  File \"/home/martial/anaconda3/lib/python3.5/site-packages/matplotlib/axis.py\", line 1190, in draw\n",
      "    ticks_to_draw = self._update_ticks(renderer)\n",
      "  File \"/home/martial/anaconda3/lib/python3.5/site-packages/matplotlib/axis.py\", line 1028, in _update_ticks\n",
      "    tick_tups = list(self.iter_ticks())  # iter_ticks calls the locator\n",
      "  File \"/home/martial/anaconda3/lib/python3.5/site-packages/matplotlib/axis.py\", line 971, in iter_ticks\n",
      "    majorLocs = self.major.locator()\n",
      "  File \"/home/martial/anaconda3/lib/python3.5/site-packages/matplotlib/ticker.py\", line 1945, in __call__\n",
      "    return self.tick_values(vmin, vmax)\n",
      "  File \"/home/martial/anaconda3/lib/python3.5/site-packages/matplotlib/ticker.py\", line 1953, in tick_values\n",
      "    locs = self._raw_ticks(vmin, vmax)\n",
      "  File \"/home/martial/anaconda3/lib/python3.5/site-packages/matplotlib/ticker.py\", line 1899, in _raw_ticks\n",
      "    nbins = np.clip(self.axis.get_tick_space(),\n",
      "  File \"/home/martial/anaconda3/lib/python3.5/site-packages/matplotlib/axis.py\", line 2503, in get_tick_space\n",
      "    tick = self._get_tick(True)\n",
      "  File \"/home/martial/anaconda3/lib/python3.5/site-packages/matplotlib/axis.py\", line 2164, in _get_tick\n",
      "    return YTick(self.axes, 0, '', major=major, **tick_kw)\n",
      "  File \"/home/martial/anaconda3/lib/python3.5/site-packages/matplotlib/axis.py\", line 176, in __init__\n",
      "    self.tick1line = self._get_tick1line()\n",
      "  File \"/home/martial/anaconda3/lib/python3.5/site-packages/matplotlib/axis.py\", line 599, in _get_tick1line\n",
      "    zorder=self._zorder)\n",
      "  File \"/home/martial/anaconda3/lib/python3.5/site-packages/matplotlib/lines.py\", line 397, in __init__\n",
      "    self._marker = MarkerStyle(marker, fillstyle)\n",
      "  File \"/home/martial/anaconda3/lib/python3.5/site-packages/matplotlib/markers.py\", line 188, in __init__\n",
      "    self.set_fillstyle(fillstyle)\n",
      "  File \"/home/martial/anaconda3/lib/python3.5/site-packages/matplotlib/markers.py\", line 235, in set_fillstyle\n",
      "    fillstyle = rcParams['markers.fillstyle']\n",
      "RecursionError: maximum recursion depth exceeded\n"
     ]
    },
    {
     "name": "stderr",
     "output_type": "stream",
     "text": [
      "Traceback (most recent call last):\n",
      "  File \"/home/martial/anaconda3/lib/python3.5/site-packages/matplotlib/cbook/__init__.py\", line 388, in process\n",
      "    proxy(*args, **kwargs)\n",
      "  File \"/home/martial/anaconda3/lib/python3.5/site-packages/matplotlib/cbook/__init__.py\", line 228, in __call__\n",
      "    return mtd(*args, **kwargs)\n",
      "  File \"/home/martial/anaconda3/lib/python3.5/site-packages/hyperspy/drawing/figure.py\", line 31, in _on_draw\n",
      "    self._draw_animated()\n",
      "  File \"/home/martial/anaconda3/lib/python3.5/site-packages/hyperspy/drawing/figure.py\", line 51, in _draw_animated\n",
      "    [ax.draw_artist(a) for a in artists if\n",
      "  File \"/home/martial/anaconda3/lib/python3.5/site-packages/hyperspy/drawing/figure.py\", line 52, in <listcomp>\n",
      "    a.get_animated() is True]\n",
      "  File \"/home/martial/anaconda3/lib/python3.5/site-packages/matplotlib/axes/_base.py\", line 2622, in draw_artist\n",
      "    a.draw(self._cachedRenderer)\n",
      "  File \"/home/martial/anaconda3/lib/python3.5/site-packages/matplotlib/artist.py\", line 55, in draw_wrapper\n",
      "    return draw(artist, renderer, *args, **kwargs)\n",
      "  File \"/home/martial/anaconda3/lib/python3.5/site-packages/matplotlib/axis.py\", line 1190, in draw\n",
      "    ticks_to_draw = self._update_ticks(renderer)\n",
      "  File \"/home/martial/anaconda3/lib/python3.5/site-packages/matplotlib/axis.py\", line 1028, in _update_ticks\n",
      "    tick_tups = list(self.iter_ticks())  # iter_ticks calls the locator\n",
      "  File \"/home/martial/anaconda3/lib/python3.5/site-packages/matplotlib/axis.py\", line 971, in iter_ticks\n",
      "    majorLocs = self.major.locator()\n",
      "  File \"/home/martial/anaconda3/lib/python3.5/site-packages/matplotlib/ticker.py\", line 1945, in __call__\n",
      "    return self.tick_values(vmin, vmax)\n",
      "  File \"/home/martial/anaconda3/lib/python3.5/site-packages/matplotlib/ticker.py\", line 1953, in tick_values\n",
      "    locs = self._raw_ticks(vmin, vmax)\n",
      "  File \"/home/martial/anaconda3/lib/python3.5/site-packages/matplotlib/ticker.py\", line 1899, in _raw_ticks\n",
      "    nbins = np.clip(self.axis.get_tick_space(),\n",
      "  File \"/home/martial/anaconda3/lib/python3.5/site-packages/matplotlib/axis.py\", line 2503, in get_tick_space\n",
      "    tick = self._get_tick(True)\n",
      "  File \"/home/martial/anaconda3/lib/python3.5/site-packages/matplotlib/axis.py\", line 2164, in _get_tick\n",
      "    return YTick(self.axes, 0, '', major=major, **tick_kw)\n",
      "  File \"/home/martial/anaconda3/lib/python3.5/site-packages/matplotlib/axis.py\", line 176, in __init__\n",
      "    self.tick1line = self._get_tick1line()\n",
      "  File \"/home/martial/anaconda3/lib/python3.5/site-packages/matplotlib/axis.py\", line 599, in _get_tick1line\n",
      "    zorder=self._zorder)\n",
      "  File \"/home/martial/anaconda3/lib/python3.5/site-packages/matplotlib/lines.py\", line 397, in __init__\n",
      "    self._marker = MarkerStyle(marker, fillstyle)\n",
      "  File \"/home/martial/anaconda3/lib/python3.5/site-packages/matplotlib/markers.py\", line 188, in __init__\n",
      "    self.set_fillstyle(fillstyle)\n",
      "  File \"/home/martial/anaconda3/lib/python3.5/site-packages/matplotlib/markers.py\", line 235, in set_fillstyle\n",
      "    fillstyle = rcParams['markers.fillstyle']\n",
      "RecursionError: maximum recursion depth exceeded\n",
      "Traceback (most recent call last):\n",
      "  File \"/home/martial/anaconda3/lib/python3.5/site-packages/matplotlib/cbook/__init__.py\", line 388, in process\n",
      "    proxy(*args, **kwargs)\n",
      "  File \"/home/martial/anaconda3/lib/python3.5/site-packages/matplotlib/cbook/__init__.py\", line 228, in __call__\n",
      "    return mtd(*args, **kwargs)\n",
      "  File \"/home/martial/anaconda3/lib/python3.5/site-packages/hyperspy/drawing/figure.py\", line 31, in _on_draw\n",
      "    self._draw_animated()\n",
      "  File \"/home/martial/anaconda3/lib/python3.5/site-packages/hyperspy/drawing/figure.py\", line 51, in _draw_animated\n",
      "    [ax.draw_artist(a) for a in artists if\n",
      "  File \"/home/martial/anaconda3/lib/python3.5/site-packages/hyperspy/drawing/figure.py\", line 52, in <listcomp>\n",
      "    a.get_animated() is True]\n",
      "  File \"/home/martial/anaconda3/lib/python3.5/site-packages/matplotlib/axes/_base.py\", line 2622, in draw_artist\n",
      "    a.draw(self._cachedRenderer)\n",
      "  File \"/home/martial/anaconda3/lib/python3.5/site-packages/matplotlib/artist.py\", line 55, in draw_wrapper\n",
      "    return draw(artist, renderer, *args, **kwargs)\n",
      "  File \"/home/martial/anaconda3/lib/python3.5/site-packages/matplotlib/axis.py\", line 1190, in draw\n",
      "    ticks_to_draw = self._update_ticks(renderer)\n",
      "  File \"/home/martial/anaconda3/lib/python3.5/site-packages/matplotlib/axis.py\", line 1028, in _update_ticks\n",
      "    tick_tups = list(self.iter_ticks())  # iter_ticks calls the locator\n",
      "  File \"/home/martial/anaconda3/lib/python3.5/site-packages/matplotlib/axis.py\", line 971, in iter_ticks\n",
      "    majorLocs = self.major.locator()\n",
      "  File \"/home/martial/anaconda3/lib/python3.5/site-packages/matplotlib/ticker.py\", line 1945, in __call__\n",
      "    return self.tick_values(vmin, vmax)\n",
      "  File \"/home/martial/anaconda3/lib/python3.5/site-packages/matplotlib/ticker.py\", line 1953, in tick_values\n",
      "    locs = self._raw_ticks(vmin, vmax)\n",
      "  File \"/home/martial/anaconda3/lib/python3.5/site-packages/matplotlib/ticker.py\", line 1899, in _raw_ticks\n",
      "    nbins = np.clip(self.axis.get_tick_space(),\n",
      "  File \"/home/martial/anaconda3/lib/python3.5/site-packages/matplotlib/axis.py\", line 2503, in get_tick_space\n",
      "    tick = self._get_tick(True)\n",
      "  File \"/home/martial/anaconda3/lib/python3.5/site-packages/matplotlib/axis.py\", line 2164, in _get_tick\n",
      "    return YTick(self.axes, 0, '', major=major, **tick_kw)\n",
      "  File \"/home/martial/anaconda3/lib/python3.5/site-packages/matplotlib/axis.py\", line 176, in __init__\n",
      "    self.tick1line = self._get_tick1line()\n",
      "  File \"/home/martial/anaconda3/lib/python3.5/site-packages/matplotlib/axis.py\", line 599, in _get_tick1line\n",
      "    zorder=self._zorder)\n",
      "  File \"/home/martial/anaconda3/lib/python3.5/site-packages/matplotlib/lines.py\", line 397, in __init__\n",
      "    self._marker = MarkerStyle(marker, fillstyle)\n",
      "  File \"/home/martial/anaconda3/lib/python3.5/site-packages/matplotlib/markers.py\", line 188, in __init__\n",
      "    self.set_fillstyle(fillstyle)\n",
      "  File \"/home/martial/anaconda3/lib/python3.5/site-packages/matplotlib/markers.py\", line 235, in set_fillstyle\n",
      "    fillstyle = rcParams['markers.fillstyle']\n",
      "RecursionError: maximum recursion depth exceeded\n",
      "Traceback (most recent call last):\n",
      "  File \"/home/martial/anaconda3/lib/python3.5/site-packages/matplotlib/cbook/__init__.py\", line 388, in process\n",
      "    proxy(*args, **kwargs)\n",
      "  File \"/home/martial/anaconda3/lib/python3.5/site-packages/matplotlib/cbook/__init__.py\", line 228, in __call__\n",
      "    return mtd(*args, **kwargs)\n",
      "  File \"/home/martial/anaconda3/lib/python3.5/site-packages/hyperspy/drawing/figure.py\", line 31, in _on_draw\n",
      "    self._draw_animated()\n",
      "  File \"/home/martial/anaconda3/lib/python3.5/site-packages/hyperspy/drawing/figure.py\", line 51, in _draw_animated\n",
      "    [ax.draw_artist(a) for a in artists if\n",
      "  File \"/home/martial/anaconda3/lib/python3.5/site-packages/hyperspy/drawing/figure.py\", line 52, in <listcomp>\n",
      "    a.get_animated() is True]\n",
      "  File \"/home/martial/anaconda3/lib/python3.5/site-packages/matplotlib/axes/_base.py\", line 2622, in draw_artist\n",
      "    a.draw(self._cachedRenderer)\n",
      "  File \"/home/martial/anaconda3/lib/python3.5/site-packages/matplotlib/artist.py\", line 55, in draw_wrapper\n",
      "    return draw(artist, renderer, *args, **kwargs)\n",
      "  File \"/home/martial/anaconda3/lib/python3.5/site-packages/matplotlib/axis.py\", line 1190, in draw\n",
      "    ticks_to_draw = self._update_ticks(renderer)\n",
      "  File \"/home/martial/anaconda3/lib/python3.5/site-packages/matplotlib/axis.py\", line 1028, in _update_ticks\n",
      "    tick_tups = list(self.iter_ticks())  # iter_ticks calls the locator\n",
      "  File \"/home/martial/anaconda3/lib/python3.5/site-packages/matplotlib/axis.py\", line 971, in iter_ticks\n",
      "    majorLocs = self.major.locator()\n",
      "  File \"/home/martial/anaconda3/lib/python3.5/site-packages/matplotlib/ticker.py\", line 1945, in __call__\n",
      "    return self.tick_values(vmin, vmax)\n",
      "  File \"/home/martial/anaconda3/lib/python3.5/site-packages/matplotlib/ticker.py\", line 1953, in tick_values\n",
      "    locs = self._raw_ticks(vmin, vmax)\n",
      "  File \"/home/martial/anaconda3/lib/python3.5/site-packages/matplotlib/ticker.py\", line 1899, in _raw_ticks\n",
      "    nbins = np.clip(self.axis.get_tick_space(),\n",
      "  File \"/home/martial/anaconda3/lib/python3.5/site-packages/matplotlib/axis.py\", line 2503, in get_tick_space\n",
      "    tick = self._get_tick(True)\n",
      "  File \"/home/martial/anaconda3/lib/python3.5/site-packages/matplotlib/axis.py\", line 2164, in _get_tick\n",
      "    return YTick(self.axes, 0, '', major=major, **tick_kw)\n",
      "  File \"/home/martial/anaconda3/lib/python3.5/site-packages/matplotlib/axis.py\", line 176, in __init__\n",
      "    self.tick1line = self._get_tick1line()\n",
      "  File \"/home/martial/anaconda3/lib/python3.5/site-packages/matplotlib/axis.py\", line 599, in _get_tick1line\n",
      "    zorder=self._zorder)\n",
      "  File \"/home/martial/anaconda3/lib/python3.5/site-packages/matplotlib/lines.py\", line 397, in __init__\n",
      "    self._marker = MarkerStyle(marker, fillstyle)\n",
      "  File \"/home/martial/anaconda3/lib/python3.5/site-packages/matplotlib/markers.py\", line 188, in __init__\n",
      "    self.set_fillstyle(fillstyle)\n",
      "  File \"/home/martial/anaconda3/lib/python3.5/site-packages/matplotlib/markers.py\", line 235, in set_fillstyle\n",
      "    fillstyle = rcParams['markers.fillstyle']\n",
      "RecursionError: maximum recursion depth exceeded\n"
     ]
    }
   ],
   "source": [
    "edx_denoised.plot(xray_lines=True)"
   ]
  },
  {
   "cell_type": "markdown",
   "metadata": {
    "collapsed": true
   },
   "source": [
    "# CL factor from Rosenmoheur paper at 300kV (from Esprit)\n",
    "# CL factor from Esprit software juelich (see text file)\n",
    "\n",
    "CL_Ga_Ka=2.18 #Ga K: 2.18 Ga L:2.006\n",
    "CL_Ga_La=2.006\n",
    "CL_Al_Ka=0.993 #1.2\n",
    "CL_In_La=3.071 #2.9 #3.05 #In K: 41.184 In L:3.071\n",
    "CL_N_K=1.526"
   ]
  },
  {
   "cell_type": "markdown",
   "metadata": {},
   "source": [
    "Sum_Ga_Al_In = mul_CL(edx_denoised.get_lines_intensity(['Ga_Ka'])[0].integrate1D(1).transpose(),CL_Ga_Ka)+mul_CL(edx_denoised.get_lines_intensity(['Al_Ka'])[0].integrate1D(1).transpose(), CL_Al_Ka)+mul_CL(edx_denoised.get_lines_intensity(['In_La'])[0].integrate1D(1).transpose(), CL_In_La)+mul_CL(edx_denoised.get_lines_intensity(['N_Ka'])[0].integrate1D(1).transpose(), CL_N_K)"
   ]
  },
  {
   "cell_type": "markdown",
   "metadata": {
    "collapsed": true
   },
   "source": [
    "Int_ver = []\n",
    "\n",
    "Int_ver.append(mul_CL(edx_denoised.get_lines_intensity(['Ga_Ka'])[0].integrate1D(1).transpose(),CL_Ga_Ka)/Sum_Ga_Al_In)\n",
    "Int_ver.append(mul_CL(edx_denoised.get_lines_intensity(['Al_Ka'])[0].integrate1D(1).transpose(),CL_Al_Ka)/Sum_Ga_Al_In)\n",
    "Int_ver.append(mul_CL(edx_denoised.get_lines_intensity(['In_La'])[0].integrate1D(1).transpose(),CL_In_La)/Sum_Ga_Al_In)\n",
    "Int_ver.append(mul_CL(edx_denoised.get_lines_intensity(['N_Ka'])[0].integrate1D(1).transpose(),CL_N_K)/Sum_Ga_Al_In)"
   ]
  },
  {
   "cell_type": "markdown",
   "metadata": {
    "collapsed": true
   },
   "source": [
    "Int_ver = []\n",
    "\n",
    "Int_ver.append(mul_CL(edx_denoised.get_lines_intensity(['Ga_Ka'])[0].integrate1D(1).transpose(),CL_Ga_Ka))\n",
    "Int_ver.append(mul_CL(edx_denoised.get_lines_intensity(['Al_Ka'])[0].integrate1D(1).transpose(),CL_Al_Ka))\n",
    "Int_ver.append(mul_CL(edx_denoised.get_lines_intensity(['In_La'])[0].integrate1D(1).transpose(),CL_In_La))\n",
    "Int_ver.append(mul_CL(edx_denoised.get_lines_intensity(['N_Ka'])[0].integrate1D(1).transpose(),CL_N_K))"
   ]
  },
  {
   "cell_type": "markdown",
   "metadata": {
    "collapsed": true
   },
   "source": [
    "Int_ver = []\n",
    "\n",
    "Int_ver.append((edx_denoised.get_lines_intensity(['Ga_Ka'])[0].integrate1D(1).transpose()))\n",
    "Int_ver.append((edx_denoised.get_lines_intensity(['Al_Ka'])[0].integrate1D(1).transpose()))\n",
    "Int_ver.append((edx_denoised.get_lines_intensity(['In_La'])[0].integrate1D(1).transpose()))\n",
    "Int_ver.append((edx_denoised.get_lines_intensity(['N_Ka'])[0].integrate1D(1).transpose()))"
   ]
  },
  {
   "cell_type": "code",
   "execution_count": 190,
   "metadata": {},
   "outputs": [
    {
     "name": "stderr",
     "output_type": "stream",
     "text": [
      "/home/martial/anaconda3/lib/python3.5/site-packages/hyperspy/misc/utils.py:1049: VisibleDeprecationWarning: The `Signal1D.integrate_in_range` method is deprecated and will be removed in v2.0. Use a `roi.SpanRoi` followed by `integrate1D` instead.\n",
      "  warnings.warn(msg, VisibleDeprecationWarning)\n"
     ]
    }
   ],
   "source": [
    "Ga_Ka_denoised = edx_denoised.integrate_in_range(signal_range=(9.0,9.5))/(9.5-9.0)\n",
    "#Ga_La = edx_denoised.integrate_in_range(signal_range=(1.0,1.23))/(1.23-1.0)\n",
    "N_Ka_denoised = edx_denoised.integrate_in_range(signal_range=(0.34,0.44))/(0.44-0.34)\n",
    "In_La_denoised = edx_denoised.integrate_in_range(signal_range=(3.15,3.4))/(3.4-3.15)\n",
    "Al_Ka_denoised = edx_denoised.integrate_in_range(signal_range=(1.35,1.65))/(1.65-1.35)"
   ]
  },
  {
   "cell_type": "code",
   "execution_count": 191,
   "metadata": {},
   "outputs": [],
   "source": [
    "Int_ver = []\n",
    "\n",
    "Int_ver.append(Ga_Ka_denoised.integrate1D(1).transpose())\n",
    "Int_ver.append(Al_Ka_denoised.integrate1D(1).transpose())\n",
    "Int_ver.append(In_La_denoised.integrate1D(1).transpose())\n",
    "Int_ver.append(N_Ka_denoised.integrate1D(1).transpose())"
   ]
  },
  {
   "cell_type": "markdown",
   "metadata": {},
   "source": [
    "Int_ver = []\n",
    "\n",
    "Int_ver.append(mul_CL(Ga_Ka.integrate1D(1).transpose(),CL_Ga_Ka))\n",
    "Int_ver.append(mul_CL(Ga_La.integrate1D(1).transpose(),CL_Ga_La))\n",
    "Int_ver.append(mul_CL(Al_Ka.integrate1D(1).transpose(),CL_Al_Ka))\n",
    "Int_ver.append(mul_CL(In_La.integrate1D(1).transpose(),CL_In_La))\n",
    "Int_ver.append(mul_CL(N_Ka.integrate1D(1).transpose(),CL_N_K))"
   ]
  },
  {
   "cell_type": "code",
   "execution_count": 184,
   "metadata": {},
   "outputs": [],
   "source": [
    "#### Cascade plot\n",
    "cascade_plot = hs.plot.plot_spectra(Int_ver, style='overlap', dpi=200)\n",
    "cascade_plot.figure.savefig(\"Vertical_integration_denoised_data_CL_overlap.png\")"
   ]
  },
  {
   "cell_type": "markdown",
   "metadata": {},
   "source": [
    "### Maximun and average Spectrum"
   ]
  },
  {
   "cell_type": "code",
   "execution_count": null,
   "metadata": {
    "collapsed": true
   },
   "outputs": [],
   "source": [
    "local_spc_a = edx_raw.mean(axis=1).mean(axis=0).deepcopy()"
   ]
  },
  {
   "cell_type": "code",
   "execution_count": null,
   "metadata": {
    "collapsed": true
   },
   "outputs": [],
   "source": [
    "local_spc_b = local_spc_1.deepcopy()"
   ]
  },
  {
   "cell_type": "code",
   "execution_count": null,
   "metadata": {
    "collapsed": true
   },
   "outputs": [],
   "source": [
    "local_spc_a.data = edx_raw.data[280,372,:]/20\n",
    "local_spc_b.data = edx_denoised.data[280,372,:]"
   ]
  },
  {
   "cell_type": "code",
   "execution_count": null,
   "metadata": {},
   "outputs": [],
   "source": [
    "Spc_lt = []\n",
    "\n",
    "#Middle Spectra\n",
    "Spc_lt.append(local_spc_a)\n",
    "Spc_lt.append(local_spc_b)\n",
    "#Average Spectra\n",
    "Spc_lt.append(edx_raw.mean(axis=1).mean(axis=0))\n",
    "Spc_lt.append(edx_denoised.mean(axis=1).mean(axis=0))"
   ]
  },
  {
   "cell_type": "code",
   "execution_count": null,
   "metadata": {},
   "outputs": [],
   "source": [
    "#### Cascade plot\n",
    "cascade_plot = hs.plot.plot_spectra(Spc_lt, style='cascade', legend=None, legend_loc='center left', dpi=200)\n",
    "cascade_plot.figure.savefig(\"Spectra_extracted.png\")"
   ]
  },
  {
   "cell_type": "code",
   "execution_count": null,
   "metadata": {
    "collapsed": true
   },
   "outputs": [],
   "source": []
  },
  {
   "cell_type": "markdown",
   "metadata": {},
   "source": [
    "### Average in GaN layer to detect the presence of Al"
   ]
  },
  {
   "cell_type": "code",
   "execution_count": null,
   "metadata": {
    "collapsed": true
   },
   "outputs": [],
   "source": [
    "edx_raw.plot()"
   ]
  },
  {
   "cell_type": "code",
   "execution_count": null,
   "metadata": {},
   "outputs": [],
   "source": [
    "edx_raw.data = np.ma.array(edx_raw.data, mask=False)"
   ]
  },
  {
   "cell_type": "code",
   "execution_count": null,
   "metadata": {
    "collapsed": true
   },
   "outputs": [],
   "source": [
    "edx_raw.data.mask[:,100:] = True"
   ]
  },
  {
   "cell_type": "code",
   "execution_count": null,
   "metadata": {},
   "outputs": [],
   "source": [
    "edx_raw.plot()"
   ]
  },
  {
   "cell_type": "code",
   "execution_count": null,
   "metadata": {
    "collapsed": true
   },
   "outputs": [],
   "source": [
    "Spc_lt = []\n",
    "\n",
    "#Average Spectra\n",
    "Spc_lt.append(edx_raw.mean(axis=1).mean(axis=0))"
   ]
  },
  {
   "cell_type": "code",
   "execution_count": null,
   "metadata": {
    "collapsed": true
   },
   "outputs": [],
   "source": [
    "edx_raw.data.mask[:,:] = False"
   ]
  },
  {
   "cell_type": "code",
   "execution_count": null,
   "metadata": {
    "collapsed": true
   },
   "outputs": [],
   "source": [
    "edx_raw.data.mask[:,200:] = True"
   ]
  },
  {
   "cell_type": "code",
   "execution_count": null,
   "metadata": {},
   "outputs": [],
   "source": [
    "edx_raw.plot()"
   ]
  },
  {
   "cell_type": "code",
   "execution_count": null,
   "metadata": {},
   "outputs": [],
   "source": [
    "Spc_lt.append(edx_raw.mean(axis=1).mean(axis=0))"
   ]
  },
  {
   "cell_type": "code",
   "execution_count": null,
   "metadata": {
    "collapsed": true
   },
   "outputs": [],
   "source": [
    "edx_raw.data.mask[:,:] = False"
   ]
  },
  {
   "cell_type": "code",
   "execution_count": null,
   "metadata": {},
   "outputs": [],
   "source": [
    "edx_raw.plot()"
   ]
  },
  {
   "cell_type": "code",
   "execution_count": null,
   "metadata": {},
   "outputs": [],
   "source": [
    "Spc_lt.append(edx_raw.mean(axis=1).mean(axis=0))"
   ]
  },
  {
   "cell_type": "code",
   "execution_count": null,
   "metadata": {},
   "outputs": [],
   "source": [
    "#### Cascade plot\n",
    "cascade_plot = hs.plot.plot_spectra(Spc_lt, style='cascade', legend=None, dpi=200)\n",
    "cascade_plot.figure.savefig(\"Spectra_extracted_x.png\")"
   ]
  },
  {
   "cell_type": "markdown",
   "metadata": {},
   "source": [
    "### PCA Denoising"
   ]
  },
  {
   "cell_type": "code",
   "execution_count": 313,
   "metadata": {},
   "outputs": [],
   "source": [
    "edx_raw.change_dtype('float64')"
   ]
  },
  {
   "cell_type": "code",
   "execution_count": 317,
   "metadata": {},
   "outputs": [],
   "source": [
    "edx_raw.decomposition(normalize_poissonian_noise=True, output_dimension=3, navigation_mask=None)"
   ]
  },
  {
   "cell_type": "code",
   "execution_count": 318,
   "metadata": {},
   "outputs": [
    {
     "data": {
      "text/plain": [
       "<matplotlib.axes._subplots.AxesSubplot at 0x7f3418041748>"
      ]
     },
     "execution_count": 318,
     "metadata": {},
     "output_type": "execute_result"
    }
   ],
   "source": [
    "edx_raw.plot_explained_variance_ratio()"
   ]
  },
  {
   "cell_type": "code",
   "execution_count": 319,
   "metadata": {},
   "outputs": [],
   "source": [
    "edx_raw_sc = edx_raw.get_decomposition_model(components=10)"
   ]
  },
  {
   "cell_type": "code",
   "execution_count": 320,
   "metadata": {},
   "outputs": [],
   "source": [
    "edx_raw_sc.save(\"PCA_10compo.hdf5\")"
   ]
  },
  {
   "cell_type": "code",
   "execution_count": 9,
   "metadata": {},
   "outputs": [
    {
     "name": "stderr",
     "output_type": "stream",
     "text": [
      "/home/martial/anaconda3/lib/python3.5/site-packages/matplotlib/axes/_base.py:3040: UserWarning: Attempting to set identical bottom==top results\n",
      "in singular transformations; automatically expanding.\n",
      "bottom=0.0, top=0.0\n",
      "  'bottom=%s, top=%s') % (bottom, top))\n"
     ]
    }
   ],
   "source": [
    "edx_raw_sc.plot()"
   ]
  },
  {
   "cell_type": "code",
   "execution_count": null,
   "metadata": {
    "collapsed": true
   },
   "outputs": [],
   "source": [
    "edx_raw_sc.mean(axis=1).mean(axis=0).plot()"
   ]
  },
  {
   "cell_type": "markdown",
   "metadata": {},
   "source": [
    "### Mozaic figure"
   ]
  },
  {
   "cell_type": "code",
   "execution_count": 326,
   "metadata": {},
   "outputs": [],
   "source": [
    "fig, axes = plt.subplots(nrows=3, ncols=2, sharex=False, sharey=False, squeeze=True)\n",
    "fig.subplots_adjust(hspace=-2.4, wspace=-1.0)\n",
    "fig.set_tight_layout(True)\n",
    "plt.setp(axes, xticks=[], xticklabels=[], yticks=[], yticklabels=[])\n",
    "\n",
    "im = axes[0,0].imshow(haadf_raw.data, cmap='gray')\n",
    "im = axes[1,0].imshow(edx_raw_sc.get_lines_intensity(['N_Ka'])[0].data,vmin = 0, vmax = 1, cmap='gnuplot')\n",
    "im = axes[2,0].imshow(edx_raw_sc.get_lines_intensity(['Ga_La'])[0].data,vmin = 0, vmax = 1, cmap='gnuplot')\n",
    "im = axes[0,1].imshow(edx_raw_sc.get_lines_intensity(['Al_Ka'])[0].data,vmin = 0, vmax = 1, cmap='gnuplot')\n",
    "im = axes[1,1].imshow(edx_raw_sc.get_lines_intensity(['In_La'])[0].data, vmin = 0, vmax = 1, cmap='gnuplot')\n",
    "im = axes[2,1].imshow(edx_raw_sc.get_lines_intensity(['In_La'])[0].data, vmin = 0, vmax = 1, cmap='gnuplot')\n",
    "\n",
    "\n",
    "plt.show()\n",
    "plt.savefig(\"Denoised_data_edx_fig2_PCA10.png\", dpi=150)"
   ]
  },
  {
   "cell_type": "code",
   "execution_count": 329,
   "metadata": {},
   "outputs": [],
   "source": [
    "Int_ver = []\n",
    "\n",
    "Int_ver.append(norm(haadf_raw.integrate1D(1)))\n",
    "Int_ver.append(norm(edx_raw_sc.get_lines_intensity(['N_Ka'])[0].integrate1D(1).transpose()))\n",
    "Int_ver.append(norm(edx_raw_sc.get_lines_intensity(['Ga_La'])[0].integrate1D(1).transpose()))\n",
    "Int_ver.append(norm(edx_raw_sc.get_lines_intensity(['Al_Ka'])[0].integrate1D(1).transpose()))\n",
    "Int_ver.append(norm(edx_raw_sc.get_lines_intensity(['In_La'])[0].integrate1D(1).transpose()))"
   ]
  },
  {
   "cell_type": "code",
   "execution_count": 330,
   "metadata": {},
   "outputs": [
    {
     "name": "stderr",
     "output_type": "stream",
     "text": [
      "/home/martial/anaconda3/lib/python3.5/site-packages/matplotlib/__init__.py:898: UserWarning: axes.color_cycle is deprecated and replaced with axes.prop_cycle; please use the latter.\n",
      "  warnings.warn(self.msg_depr % (key, alt_key))\n"
     ]
    }
   ],
   "source": [
    "#### Cascade plot\n",
    "cascade_plot = hs.plot.plot_spectra(Int_ver, style='cascade', legend=None, legend_loc='center left', dpi=200)\n",
    "cascade_plot.figure.savefig(\"Vertical_integration_raw_PCA10.png\")\n"
   ]
  },
  {
   "cell_type": "code",
   "execution_count": null,
   "metadata": {
    "collapsed": true
   },
   "outputs": [],
   "source": []
  },
  {
   "cell_type": "code",
   "execution_count": null,
   "metadata": {
    "collapsed": true
   },
   "outputs": [],
   "source": []
  },
  {
   "cell_type": "code",
   "execution_count": 291,
   "metadata": {},
   "outputs": [],
   "source": [
    "haadf_001 = hs.load(\"./Raw_data/emi/001_1.8Mx_15.00.02 Scanning Acquire_1.ser\")"
   ]
  },
  {
   "cell_type": "code",
   "execution_count": 292,
   "metadata": {
    "collapsed": true
   },
   "outputs": [],
   "source": [
    "haadf_001.plot()"
   ]
  },
  {
   "cell_type": "code",
   "execution_count": 297,
   "metadata": {},
   "outputs": [],
   "source": [
    "haadf_002 = hs.load(\"./Raw_data/emi/001_7.2Mx_15.01.20 Scanning Acquire_1.ser\")"
   ]
  },
  {
   "cell_type": "code",
   "execution_count": 298,
   "metadata": {
    "collapsed": true
   },
   "outputs": [],
   "source": [
    "haadf_002.plot()"
   ]
  },
  {
   "cell_type": "code",
   "execution_count": 299,
   "metadata": {
    "collapsed": true
   },
   "outputs": [],
   "source": [
    "haadf_003 = hs.load(\"./Raw_data/emi/001_7.2Mx__rot90deg_15.01.20 Scanning Acquire_1.ser\")"
   ]
  },
  {
   "cell_type": "code",
   "execution_count": 300,
   "metadata": {
    "collapsed": true
   },
   "outputs": [],
   "source": [
    "haadf_003.plot()"
   ]
  },
  {
   "cell_type": "code",
   "execution_count": 301,
   "metadata": {
    "collapsed": true
   },
   "outputs": [],
   "source": [
    "haadf_004 = hs.load(\"./Raw_data/emi/002_15.17.03 Scanning Acquire_1.ser\")"
   ]
  },
  {
   "cell_type": "code",
   "execution_count": 302,
   "metadata": {
    "collapsed": true
   },
   "outputs": [],
   "source": [
    "haadf_004.plot()"
   ]
  },
  {
   "cell_type": "code",
   "execution_count": 303,
   "metadata": {
    "collapsed": true
   },
   "outputs": [],
   "source": [
    "haadf_005 = hs.load(\"./Raw_data/emi/004_3rd_layer_15.44.52 Scanning Acquire_1.ser\")"
   ]
  },
  {
   "cell_type": "code",
   "execution_count": 311,
   "metadata": {
    "collapsed": true
   },
   "outputs": [],
   "source": [
    "haadf_005.plot()"
   ]
  },
  {
   "cell_type": "code",
   "execution_count": 310,
   "metadata": {},
   "outputs": [
    {
     "data": {
      "text/plain": [
       "array([ 0.00113054], dtype=float32)"
      ]
     },
     "execution_count": 310,
     "metadata": {},
     "output_type": "execute_result"
    }
   ],
   "source": [
    "edx_raw.mean([0,1,2]).data"
   ]
  },
  {
   "cell_type": "code",
   "execution_count": null,
   "metadata": {
    "collapsed": true
   },
   "outputs": [],
   "source": []
  }
 ],
 "metadata": {
  "anaconda-cloud": {},
  "kernelspec": {
   "display_name": "Python 3",
   "language": "python",
   "name": "python3"
  },
  "language_info": {
   "codemirror_mode": {
    "name": "ipython",
    "version": 3
   },
   "file_extension": ".py",
   "mimetype": "text/x-python",
   "name": "python",
   "nbconvert_exporter": "python",
   "pygments_lexer": "ipython3",
   "version": "3.7.4"
  }
 },
 "nbformat": 4,
 "nbformat_minor": 1
}
