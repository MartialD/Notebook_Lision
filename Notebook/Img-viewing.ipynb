{
 "cells": [
  {
   "cell_type": "code",
   "execution_count": 1,
   "metadata": {},
   "outputs": [
    {
     "name": "stderr",
     "output_type": "stream",
     "text": [
      "WARNING:hyperspy_gui_traitsui:The module://ipykernel.pylab.backend_inline matplotlib backend is not compatible with the traitsui GUI elements. For more information, read http://hyperspy.readthedocs.io/en/stable/user_guide/getting_started.html#possible-warnings-when-importing-hyperspy.\n",
      "WARNING:hyperspy_gui_traitsui:The traitsui GUI elements are not available.\n"
     ]
    }
   ],
   "source": [
    "#import sys\n",
    "#sys.path.insert(0, \"/home/martial/Data/programs/Github/hyperspy_T/\")\n",
    "import hyperspy.api as hs"
   ]
  },
  {
   "cell_type": "code",
   "execution_count": 2,
   "metadata": {},
   "outputs": [],
   "source": [
    "import numpy as np\n",
    "import matplotlib.pyplot as plt"
   ]
  },
  {
   "cell_type": "code",
   "execution_count": 3,
   "metadata": {},
   "outputs": [],
   "source": [
    "%matplotlib qt5"
   ]
  },
  {
   "cell_type": "code",
   "execution_count": 5,
   "metadata": {},
   "outputs": [],
   "source": [
    "#open SAED\n",
    "input_file_name = '../Demo_data/SAED_01'\n",
    "input_file_extension = '.dm4'\n",
    "data_file = hs.load(input_file_name+input_file_extension)"
   ]
  },
  {
   "cell_type": "code",
   "execution_count": 9,
   "metadata": {},
   "outputs": [],
   "source": [
    "data_file.plot()"
   ]
  },
  {
   "cell_type": "code",
   "execution_count": 7,
   "metadata": {},
   "outputs": [
    {
     "data": {
      "text/html": [
       "<style>\n",
       "table, th, td {\n",
       "\tborder: 1px solid black;\n",
       "\tborder-collapse: collapse;\n",
       "}\n",
       "th, td {\n",
       "\tpadding: 5px;\n",
       "}\n",
       "</style>\n",
       "<p><b>< Axes manager, axes: (|4096, 4096) ></b></p>\n",
       "<table style='width:100%'>\n",
       "\n",
       "<tr> \n",
       "<th>Signal axis name</th> \n",
       "<th>size</th> \n",
       "<th>offset</th> \n",
       "<th>scale</th> \n",
       "<th>units</th> </tr>\n",
       "<tr> \n",
       "<td>x</td> \n",
       "<td>4096</td> \n",
       "<td>-0.0</td> \n",
       "<td>0.010874038562178612</td> \n",
       "<td>1/nm</td> </tr>\n",
       "<tr> \n",
       "<td>y</td> \n",
       "<td>4096</td> \n",
       "<td>-0.0</td> \n",
       "<td>0.010874038562178612</td> \n",
       "<td>1/nm</td> </tr></table>\n"
      ],
      "text/plain": [
       "<Axes manager, axes: (|4096, 4096)>\n",
       "            Name |   size |  index |  offset |   scale |  units \n",
       "================ | ====== | ====== | ======= | ======= | ====== \n",
       "---------------- | ------ | ------ | ------- | ------- | ------ \n",
       "               x |   4096 |        |      -0 |   0.011 |   1/nm \n",
       "               y |   4096 |        |      -0 |   0.011 |   1/nm "
      ]
     },
     "execution_count": 7,
     "metadata": {},
     "output_type": "execute_result"
    }
   ],
   "source": [
    "data_file.axes_manager"
   ]
  },
  {
   "cell_type": "code",
   "execution_count": 8,
   "metadata": {},
   "outputs": [],
   "source": [
    "data_file.save(input_file_name+'.hdf5')"
   ]
  },
  {
   "cell_type": "code",
   "execution_count": null,
   "metadata": {},
   "outputs": [],
   "source": []
  },
  {
   "cell_type": "code",
   "execution_count": 10,
   "metadata": {},
   "outputs": [],
   "source": [
    "#open SA\n",
    "input_file_name = '../Demo_data/SA-of-SAED_02'\n",
    "input_file_extension = '.dm4'\n",
    "data_file_SA = hs.load(input_file_name+input_file_extension)"
   ]
  },
  {
   "cell_type": "code",
   "execution_count": 11,
   "metadata": {},
   "outputs": [],
   "source": [
    "data_file_SA.plot()"
   ]
  },
  {
   "cell_type": "code",
   "execution_count": null,
   "metadata": {},
   "outputs": [],
   "source": []
  }
 ],
 "metadata": {
  "anaconda-cloud": {},
  "kernelspec": {
   "display_name": "Python 3",
   "language": "python",
   "name": "python3"
  },
  "language_info": {
   "codemirror_mode": {
    "name": "ipython",
    "version": 3
   },
   "file_extension": ".py",
   "mimetype": "text/x-python",
   "name": "python",
   "nbconvert_exporter": "python",
   "pygments_lexer": "ipython3",
   "version": "3.7.4"
  }
 },
 "nbformat": 4,
 "nbformat_minor": 2
}
