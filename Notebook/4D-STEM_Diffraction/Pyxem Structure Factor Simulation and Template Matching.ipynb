{
 "cells": [
  {
   "cell_type": "markdown",
   "metadata": {},
   "source": [
    "Pyxem Structure Factor Simulation and Template Matching.ipynb contains structure factor simulation and structure factor template matching using pyxem"
   ]
  },
  {
   "cell_type": "code",
   "execution_count": 7,
   "metadata": {},
   "outputs": [],
   "source": [
    "%matplotlib qt\n",
    "import numpy as np\n",
    "import hyperspy.api as hs\n",
    "import diffpy\n",
    "import pyxem as pxm\n",
    "from diffsims.generators.zap_map_generator import get_rotation_from_z_to_direction\n",
    "from diffsims.generators.rotation_list_generators import get_grid_around_beam_direction\n",
    "from diffsims.libraries.structure_library import StructureLibrary\n",
    "from diffsims.generators.diffraction_generator import DiffractionGenerator\n",
    "from diffsims.generators.library_generator import DiffractionLibraryGenerator\n",
    "from pyxem.generators.indexation_generator import IndexationGenerator"
   ]
  },
  {
   "cell_type": "code",
   "execution_count": null,
   "metadata": {},
   "outputs": [],
   "source": [
    "#SADP diffraction calibration\n",
    "diffraction_calibration = 0.0010128291323781013"
   ]
  },
  {
   "cell_type": "code",
   "execution_count": 2,
   "metadata": {},
   "outputs": [],
   "source": [
    "#LACBED diffraction calibration\n",
    "diffraction_calibration = 0.01509  "
   ]
  },
  {
   "cell_type": "code",
   "execution_count": 105,
   "metadata": {},
   "outputs": [],
   "source": [
    "#Load cif files\n",
    "structure_p = diffpy.structure.loadStructure('./pigeonite.cif')\n",
    "structure_a = diffpy.structure.loadStructure('./augite.cif')"
   ]
  },
  {
   "cell_type": "code",
   "execution_count": 146,
   "metadata": {},
   "outputs": [],
   "source": [
    "#Key in desired zone axis to be simulated. Orientation is shown in Bunge convention.\n",
    "orientation_a = get_rotation_from_z_to_direction(structure_a, [0,1,0])\n",
    "orientation_p = get_rotation_from_z_to_direction(structure_p, [0,1,0])"
   ]
  },
  {
   "cell_type": "code",
   "execution_count": 147,
   "metadata": {},
   "outputs": [
    {
     "data": {
      "text/plain": [
       "(0, 0, 0)"
      ]
     },
     "execution_count": 147,
     "metadata": {},
     "output_type": "execute_result"
    }
   ],
   "source": [
    "#List of rotations in Bunge convention to be simulated. The angular_range parameters determine the range of rotations in degree\n",
    "rot_list_a = get_grid_around_beam_direction(beam_rotation=orientation_a, resolution=1, angular_range=(0,180))\n",
    "rot_list_p = get_grid_around_beam_direction(beam_rotation=orientation_p, resolution=1, angular_range=(0,180))"
   ]
  },
  {
   "cell_type": "code",
   "execution_count": 108,
   "metadata": {},
   "outputs": [],
   "source": [
    "#StructureLibrary class to store parameters information for simulation. Key in the arrays with simulation parameters desired\n",
    "struc_lib = StructureLibrary(['A','P'],\n",
    "                             [structure_a,structure_p],\n",
    "                             [rot_list_a,rot_list_p])"
   ]
  },
  {
   "cell_type": "code",
   "execution_count": 109,
   "metadata": {},
   "outputs": [],
   "source": [
    "#DiffractionGenerator class, key in required parameters\n",
    "diff_gen = DiffractionGenerator(accelerating_voltage=200,\n",
    "                                max_excitation_error=0.1)"
   ]
  },
  {
   "cell_type": "code",
   "execution_count": 110,
   "metadata": {},
   "outputs": [],
   "source": [
    "#DiffractionLibraryGenerator class\n",
    "lib_gen = DiffractionLibraryGenerator(diff_gen)"
   ]
  },
  {
   "cell_type": "code",
   "execution_count": 111,
   "metadata": {
    "scrolled": true
   },
   "outputs": [
    {
     "name": "stderr",
     "output_type": "stream",
     "text": [
      "                                                                                                                       \r"
     ]
    }
   ],
   "source": [
    "#Structure factor simulation. Key in the pixel output size\n",
    "target_pattern_dimension_pixels = 2048\n",
    "half_size = target_pattern_dimension_pixels // 2\n",
    "reciprocal_radius = diffraction_calibration*(half_size)\n",
    "\n",
    "diff_lib = lib_gen.get_diffraction_library(struc_lib,\n",
    "                                           calibration=diffraction_calibration,\n",
    "                                           reciprocal_radius=reciprocal_radius,\n",
    "                                           half_shape=(half_size, half_size),\n",
    "                                           with_direct_beam=True)"
   ]
  },
  {
   "cell_type": "code",
   "execution_count": null,
   "metadata": {},
   "outputs": [],
   "source": [
    "diff_lib.keys() #keys for phases"
   ]
  },
  {
   "cell_type": "code",
   "execution_count": null,
   "metadata": {},
   "outputs": [],
   "source": [
    "diff_lib['A'].keys()\n",
    "#simulations = DiffractionSimulation object\n",
    "#orientations = List of orientations in Bunge convention\n",
    "#pixel_coords = List of coordinates indicating diffraction spot maxima\n",
    "#intensities = List of diffraction spot intensities"
   ]
  },
  {
   "cell_type": "code",
   "execution_count": null,
   "metadata": {},
   "outputs": [],
   "source": [
    "#To see one simulation\n",
    "x=diff_lib['A']['simulations'][0] \n",
    "plt.imshow(x.get_diffraction_pattern(2048,0),vmax=0.01,cmap='gray')"
   ]
  },
  {
   "cell_type": "code",
   "execution_count": null,
   "metadata": {},
   "outputs": [],
   "source": [
    "#Save the library in the written directory\n",
    "diff_lib.pickle_library('./augite_pigeonite_010.pickle')"
   ]
  },
  {
   "cell_type": "code",
   "execution_count": null,
   "metadata": {},
   "outputs": [],
   "source": [
    "#To load library\n",
    "from diffsims.libraries.diffraction_library import load_DiffractionLibrary\n",
    "diff_lib = load_DiffractionLibrary('./augite_pigeonite_010_SF_directbeam.pickle', safety=True)"
   ]
  },
  {
   "cell_type": "code",
   "execution_count": null,
   "metadata": {},
   "outputs": [],
   "source": []
  },
  {
   "cell_type": "code",
   "execution_count": 2,
   "metadata": {
    "collapsed": true
   },
   "outputs": [
    {
     "ename": "ValueError",
     "evalue": "No file name matches this pattern",
     "output_type": "error",
     "traceback": [
      "\u001b[1;31m---------------------------------------------------------------------------\u001b[0m",
      "\u001b[1;31mValueError\u001b[0m                                Traceback (most recent call last)",
      "\u001b[1;32m<ipython-input-2-9fe79151d7d4>\u001b[0m in \u001b[0;36m<module>\u001b[1;34m\u001b[0m\n\u001b[1;32m----> 1\u001b[1;33m \u001b[0mdp\u001b[0m \u001b[1;33m=\u001b[0m \u001b[0mpxm\u001b[0m\u001b[1;33m.\u001b[0m\u001b[0mload\u001b[0m\u001b[1;33m(\u001b[0m\u001b[1;34m'./2018-05-01-caulle-2011-mnt2-gr25-site1-cpx_host-dp_40cm_004.dm3'\u001b[0m\u001b[1;33m,\u001b[0m\u001b[0msignal_type\u001b[0m\u001b[1;33m=\u001b[0m\u001b[1;34m'electron_diffraction'\u001b[0m\u001b[1;33m)\u001b[0m\u001b[1;33m\u001b[0m\u001b[1;33m\u001b[0m\u001b[0m\n\u001b[0m\u001b[0;32m      2\u001b[0m \u001b[0mdp\u001b[0m\u001b[1;33m\u001b[0m\u001b[1;33m\u001b[0m\u001b[0m\n",
      "\u001b[1;32m~\\miniconda3\\envs\\pyxem\\lib\\site-packages\\hyperspy\\io.py\u001b[0m in \u001b[0;36mload\u001b[1;34m(filenames, signal_type, stack, stack_axis, new_axis_name, lazy, convert_units, **kwds)\u001b[0m\n\u001b[0;32m    215\u001b[0m                                if os.path.isfile(f)])\n\u001b[0;32m    216\u001b[0m         \u001b[1;32mif\u001b[0m \u001b[1;32mnot\u001b[0m \u001b[0mfilenames\u001b[0m\u001b[1;33m:\u001b[0m\u001b[1;33m\u001b[0m\u001b[1;33m\u001b[0m\u001b[0m\n\u001b[1;32m--> 217\u001b[1;33m             \u001b[1;32mraise\u001b[0m \u001b[0mValueError\u001b[0m\u001b[1;33m(\u001b[0m\u001b[1;34m'No file name matches this pattern'\u001b[0m\u001b[1;33m)\u001b[0m\u001b[1;33m\u001b[0m\u001b[1;33m\u001b[0m\u001b[0m\n\u001b[0m\u001b[0;32m    218\u001b[0m     \u001b[1;32melif\u001b[0m \u001b[1;32mnot\u001b[0m \u001b[0misinstance\u001b[0m\u001b[1;33m(\u001b[0m\u001b[0mfilenames\u001b[0m\u001b[1;33m,\u001b[0m \u001b[1;33m(\u001b[0m\u001b[0mlist\u001b[0m\u001b[1;33m,\u001b[0m \u001b[0mtuple\u001b[0m\u001b[1;33m)\u001b[0m\u001b[1;33m)\u001b[0m\u001b[1;33m:\u001b[0m\u001b[1;33m\u001b[0m\u001b[1;33m\u001b[0m\u001b[0m\n\u001b[0;32m    219\u001b[0m         raise ValueError(\n",
      "\u001b[1;31mValueError\u001b[0m: No file name matches this pattern"
     ]
    }
   ],
   "source": [
    "#Load experimental file\n",
    "dp = pxm.load('./2018-05-01-caulle-2011-mnt2-gr25-site1-cpx_host-dp_40cm_004.dm3',signal_type='electron_diffraction')\n",
    "dp"
   ]
  },
  {
   "cell_type": "code",
   "execution_count": 6,
   "metadata": {},
   "outputs": [
    {
     "data": {
      "text/html": [
       "<style>\n",
       "table, th, td {\n",
       "\tborder: 1px solid black;\n",
       "\tborder-collapse: collapse;\n",
       "}\n",
       "th, td {\n",
       "\tpadding: 5px;\n",
       "}\n",
       "</style>\n",
       "<p><b>< Axes manager, axes: (|2048, 2048) ></b></p>\n",
       "<table style='width:100%'>\n",
       "\n",
       "<tr> \n",
       "<th>Signal axis name</th> \n",
       "<th>size</th> \n",
       "<th>offset</th> \n",
       "<th>scale</th> \n",
       "<th>units</th> </tr>\n",
       "<tr> \n",
       "<td>x</td> \n",
       "<td>2048</td> \n",
       "<td>-0.0</td> \n",
       "<td>0.010128291323781013</td> \n",
       "<td>1/nm</td> </tr>\n",
       "<tr> \n",
       "<td>y</td> \n",
       "<td>2048</td> \n",
       "<td>-0.0</td> \n",
       "<td>0.010128291323781013</td> \n",
       "<td>1/nm</td> </tr></table>\n"
      ],
      "text/plain": [
       "<Axes manager, axes: (|2048, 2048)>\n",
       "            Name |   size |  index |  offset |   scale |  units \n",
       "================ | ====== | ====== | ======= | ======= | ====== \n",
       "---------------- | ------ | ------ | ------- | ------- | ------ \n",
       "               x |   2048 |        |      -0 |    0.01 |   1/nm \n",
       "               y |   2048 |        |      -0 |    0.01 |   1/nm "
      ]
     },
     "execution_count": 6,
     "metadata": {},
     "output_type": "execute_result"
    }
   ],
   "source": [
    "#Check axes manager\n",
    "dp.axes_manager"
   ]
  },
  {
   "cell_type": "code",
   "execution_count": 7,
   "metadata": {},
   "outputs": [
    {
     "data": {
      "application/vnd.jupyter.widget-view+json": {
       "model_id": "42b66a144a3447e996fa0a0d36ef0983",
       "version_major": 2,
       "version_minor": 0
      },
      "text/plain": [
       "HBox(children=(FloatProgress(value=0.0, max=1.0), HTML(value='')))"
      ]
     },
     "metadata": {},
     "output_type": "display_data"
    }
   ],
   "source": [
    "#Center the experimental data\n",
    "x=-0.4393496844482421/0.010128291323781013 #px\n",
    "y=-2.4148315042452655/0.010128291323781013\n",
    "dp.apply_affine_transformation(np.array([[1,0,x],\n",
    "                                         [0,1,y],\n",
    "                                         [0,0,1]]),\n",
    "                               order=1,\n",
    "                               keep_dtype=True)"
   ]
  },
  {
   "cell_type": "code",
   "execution_count": 8,
   "metadata": {},
   "outputs": [],
   "source": [
    "#Normalize data\n",
    "dp.data = dp.data.astype('float64')\n",
    "dp.data *= 1 / dp.data.max()"
   ]
  },
  {
   "cell_type": "code",
   "execution_count": 9,
   "metadata": {},
   "outputs": [],
   "source": [
    "#Set calibration on experimental data\n",
    "dp.set_diffraction_calibration(0.0010128291323781013)"
   ]
  },
  {
   "cell_type": "code",
   "execution_count": 10,
   "metadata": {},
   "outputs": [
    {
     "name": "stdout",
     "output_type": "stream",
     "text": [
      "\n"
     ]
    }
   ],
   "source": [
    "#Create 4D shape data as the input is only 2D\n",
    "data = pxm.ElectronDiffraction2D(np.asarray(dp.data).reshape(1, 1, 2048, 2048))\n",
    "data.metadata=dp.metadata\n",
    "data.set_diffraction_calibration(0.0010128291323781013)"
   ]
  },
  {
   "cell_type": "code",
   "execution_count": 11,
   "metadata": {},
   "outputs": [],
   "source": [
    "data.plot()"
   ]
  },
  {
   "cell_type": "code",
   "execution_count": null,
   "metadata": {},
   "outputs": [],
   "source": []
  },
  {
   "cell_type": "code",
   "execution_count": null,
   "metadata": {},
   "outputs": [],
   "source": [
    "#Template matching of variable 'data'\n",
    "indexer = IndexationGenerator(data, diff_lib)\n",
    "indexation_results = indexer.correlate(n_largest=3)"
   ]
  },
  {
   "cell_type": "code",
   "execution_count": null,
   "metadata": {},
   "outputs": [],
   "source": [
    "#Check results\n",
    "indexation_results.data\n",
    "#Result is written as (Phase Number, [z, x, z] Bunge Orientation, Correlation Score)"
   ]
  },
  {
   "cell_type": "code",
   "execution_count": null,
   "metadata": {},
   "outputs": [],
   "source": [
    "crystal_map = indexation_results.get_crystallographic_map()"
   ]
  },
  {
   "cell_type": "code",
   "execution_count": null,
   "metadata": {},
   "outputs": [],
   "source": [
    "#Get phase mapping\n",
    "crystal_map.get_phase_map().plot()"
   ]
  },
  {
   "cell_type": "code",
   "execution_count": null,
   "metadata": {},
   "outputs": [],
   "source": [
    "#Get orientation mapping\n",
    "crystal_map.get_orientation_map().plot()"
   ]
  },
  {
   "cell_type": "code",
   "execution_count": null,
   "metadata": {},
   "outputs": [],
   "source": [
    "#Check best match result\n",
    "indexation_results.plot_best_matching_results_on_signal(\n",
    "    data, diff_lib, permanent_markers=False)"
   ]
  }
 ],
 "metadata": {
  "kernelspec": {
   "display_name": "Python 3",
   "language": "python",
   "name": "python3"
  },
  "language_info": {
   "codemirror_mode": {
    "name": "ipython",
    "version": 3
   },
   "file_extension": ".py",
   "mimetype": "text/x-python",
   "name": "python",
   "nbconvert_exporter": "python",
   "pygments_lexer": "ipython3",
   "version": "3.7.4"
  }
 },
 "nbformat": 4,
 "nbformat_minor": 4
}
