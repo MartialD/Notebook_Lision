{
 "cells": [
  {
   "cell_type": "code",
   "execution_count": 1,
   "metadata": {},
   "outputs": [
    {
     "name": "stderr",
     "output_type": "stream",
     "text": [
      "WARNING:hyperspy_gui_traitsui:The module://ipykernel.pylab.backend_inline matplotlib backend is not compatible with the traitsui GUI elements. For more information, read http://hyperspy.readthedocs.io/en/stable/user_guide/getting_started.html#possible-warnings-when-importing-hyperspy.\n",
      "WARNING:hyperspy_gui_traitsui:The traitsui GUI elements are not available.\n"
     ]
    }
   ],
   "source": [
    "#import sys\n",
    "#sys.path.insert(0, \"/home/martial/Data/programs/Github/hyperspy_T/\")\n",
    "import hyperspy.api as hs"
   ]
  },
  {
   "cell_type": "code",
   "execution_count": 2,
   "metadata": {},
   "outputs": [],
   "source": [
    "from scipy import interpolate\n",
    "from scipy import ndimage"
   ]
  },
  {
   "cell_type": "code",
   "execution_count": 3,
   "metadata": {},
   "outputs": [],
   "source": [
    "import numpy as np\n",
    "import matplotlib.pyplot as plt"
   ]
  },
  {
   "cell_type": "code",
   "execution_count": 4,
   "metadata": {},
   "outputs": [],
   "source": [
    "%matplotlib qt5"
   ]
  },
  {
   "cell_type": "code",
   "execution_count": 26,
   "metadata": {},
   "outputs": [],
   "source": [
    "#open SAED\n",
    "path = '/mnt/nisbfs_2/Data/Vaso/2020-12-28/TEM_time-resolved/Test-3/'\n",
    "input_file_name = 'image_63'\n",
    "input_file_extension = '.dm4'\n",
    "data_file = hs.load(path+input_file_name+',*'+input_file_extension)"
   ]
  },
  {
   "cell_type": "code",
   "execution_count": 30,
   "metadata": {},
   "outputs": [],
   "source": [
    "data_file.plot()"
   ]
  },
  {
   "cell_type": "code",
   "execution_count": 28,
   "metadata": {},
   "outputs": [],
   "source": [
    "data_file.crop_image(top=370., left=500., right=2200., bottom=2070.)"
   ]
  },
  {
   "cell_type": "code",
   "execution_count": 25,
   "metadata": {},
   "outputs": [
    {
     "name": "stderr",
     "output_type": "stream",
     "text": [
      "/home/martial/anaconda3/lib/python3.7/site-packages/ipykernel_launcher.py:7: RuntimeWarning: More than 20 figures have been opened. Figures created through the pyplot interface (`matplotlib.pyplot.figure`) are retained until explicitly closed and may consume too much memory. (To control this warning, see the rcParam `figure.max_open_warning`).\n",
      "  import sys\n"
     ]
    }
   ],
   "source": [
    "for i in [13,14,37,38,40,41,44,72,73,75,80,105,131,139,140,144,166,170,171,174,176,197,199,201]:\n",
    "    input_file_name = 'image_'+str(i)\n",
    "    data_file = hs.load(path+input_file_name+',*'+input_file_extension)\n",
    "    data_file.crop_image(top=370., left=500., right=2200., bottom=2070.)\n",
    "    vmin_mul = 0.\n",
    "    vmax_mul = 2.5\n",
    "    fig, axes = plt.subplots(nrows=1, ncols=1)\n",
    "    rotated_img = ndimage.rotate(data_file.data, 90)\n",
    "    im = axes.imshow(ndimage.gaussian_filter(rotated_img,3), cmap='gray', \\\n",
    "                  vmin=vmin_mul*np.mean(data_file.data), vmax=vmax_mul*np.mean(data_file.data))\n",
    "    plt.axis('off')\n",
    "    #plt.show()\n",
    "    plt.savefig(path+input_file_name+'.png', dpi=300)"
   ]
  },
  {
   "cell_type": "code",
   "execution_count": 29,
   "metadata": {},
   "outputs": [],
   "source": [
    "#i=199:\n",
    "#input_file_name = 'image_'+str(i)\n",
    "#data_file = hs.load(path+input_file_name+',*'+input_file_extension)\n",
    "#data_file.crop_image(top=370, left=600, right=2300, bottom=2070)\n",
    "vmin_mul = 0.\n",
    "vmax_mul = 2.5\n",
    "fig, axes = plt.subplots(nrows=1, ncols=1)\n",
    "rotated_img = ndimage.rotate(data_file.data, 90)\n",
    "im = axes.imshow(ndimage.gaussian_filter(rotated_img,3), cmap='gray', \\\n",
    "                  vmin=vmin_mul*np.mean(data_file.data), vmax=vmax_mul*np.mean(data_file.data))\n",
    "plt.axis('off')\n",
    "#plt.show()\n",
    "plt.savefig(path+input_file_name+'.png', dpi=300)"
   ]
  },
  {
   "cell_type": "code",
   "execution_count": 8,
   "metadata": {},
   "outputs": [],
   "source": [
    "data_file.save(input_file_name+'.hdf5')"
   ]
  },
  {
   "cell_type": "code",
   "execution_count": null,
   "metadata": {},
   "outputs": [],
   "source": []
  },
  {
   "cell_type": "code",
   "execution_count": 8,
   "metadata": {},
   "outputs": [],
   "source": [
    "#open SA\n",
    "input_file_name = '../Demo_data/BF_TEM'\n",
    "input_file_extension = '.dm4'\n",
    "data_file_SA = hs.load(input_file_name+input_file_extension)"
   ]
  },
  {
   "cell_type": "code",
   "execution_count": 9,
   "metadata": {},
   "outputs": [],
   "source": [
    "data_file_SA.plot()"
   ]
  },
  {
   "cell_type": "code",
   "execution_count": null,
   "metadata": {},
   "outputs": [],
   "source": []
  }
 ],
 "metadata": {
  "anaconda-cloud": {},
  "kernelspec": {
   "display_name": "Python 3",
   "language": "python",
   "name": "python3"
  },
  "language_info": {
   "codemirror_mode": {
    "name": "ipython",
    "version": 3
   },
   "file_extension": ".py",
   "mimetype": "text/x-python",
   "name": "python",
   "nbconvert_exporter": "python",
   "pygments_lexer": "ipython3",
   "version": "3.7.4"
  }
 },
 "nbformat": 4,
 "nbformat_minor": 2
}
